{
 "cells": [
  {
   "cell_type": "markdown",
   "id": "0ea2c386",
   "metadata": {},
   "source": [
    "Q-1: Rectangle Class\n",
    "Write a Rectangle class in Python language, allowing you to build a rectangle with length and width attributes.\n",
    "\n",
    "Create a Perimeter() method to calculate the perimeter of the rectangle and a Area() method to calculate the area of ​​the rectangle.\n",
    "\n",
    "Create a method display() that display the length, width, perimeter and area of an object created using an instantiation on rectangle class.\n",
    "\n",
    "Eg. After making above classes and methods, on executing below code:-\n",
    "\n",
    "my_rectangle = Rectangle(3 , 4)\n",
    "\n",
    "my_rectangle.display()\n",
    "\n",
    "Output:\n",
    "\n",
    "The length of rectangle is:  3\n",
    "\n",
    "The width of rectangle is:  4\n",
    "\n",
    "The perimeter of rectangle is:  14\n",
    "\n",
    "The area of rectangle is:  12"
   ]
  },
  {
   "cell_type": "code",
   "execution_count": 9,
   "id": "2b90dd21",
   "metadata": {},
   "outputs": [],
   "source": [
    "# write your code here\n",
    "class Rectangle:\n",
    "    def __init__(self,x,y):\n",
    "        self.length = x\n",
    "        self.width = y\n",
    "\n",
    "          def Perimeter(self,other):\n",
    "            user_lenth=int(input('enter Rectangle lenth : '))\n",
    "            self.lenth=user_lenth\n",
    "            user_width=int(input('enter the Rectangle width : '))\n",
    "            self.width=user_width\n",
    "            perimeter=2*(self.lenth+self.width)\n",
    "            print(\"the Perimetr of rectangle if :\",perimeter)\n",
    "\n",
    "            def Area(self):\n",
    "                user_lenth=int(input('enter Rectangle lenth : '))\n",
    "                self.lenth=user_lenth\n",
    "                user_width=int(input('enter the Rectangle width : '))\n",
    "                self.width=user_width\n",
    "                area=(self.lenth*self.width)\n",
    "                return (\"the area of rectangle is :\",area)\n",
    "            \n",
    "            def display():\n",
    "                "
   ]
  },
  {
   "cell_type": "code",
   "execution_count": 60,
   "id": "547fcd51",
   "metadata": {},
   "outputs": [],
   "source": [
    "# write your code here\n",
    "class Rectangle:\n",
    "    def __init__(self,x,y):\n",
    "        self.length = x\n",
    "        self.width = y\n",
    "\n",
    "    def Perimeter(self):\n",
    "#             user_lenth=int(input('enter Rectangle lenth : '))\n",
    "#             self.lenth=user_lenth\n",
    "#             user_width=int(input('enter the Rectangle width : '))\n",
    "#             self.width=user_width\n",
    "        perimeter=2*(self.length+self.width)\n",
    "        return perimeter\n",
    "\n",
    "    def Area(self):\n",
    "#                 user_lenth=int(input('enter Rectangle lenth : '))\n",
    "#                 self.lenth=user_lenth\n",
    "#                 user_width=int(input('enter the Rectangle width : '))\n",
    "#                 self.width=user_width\n",
    "        area=(self.length*self.width)\n",
    "        return (area)\n",
    "            \n",
    "    def display(self):\n",
    "\n",
    "        print(\"the lenght of rectanlge is : \",self.length)\n",
    "        print(\"the width of rectanlge is : \",self.width)\n",
    "        print(\"the perimetr of rectangle is :  \",2*(self.length+self.width))\n",
    "        print(\"the area of rectangle is :  \",self.length*self.width)\n",
    "                \n",
    "                \n",
    "                "
   ]
  },
  {
   "cell_type": "code",
   "execution_count": 61,
   "id": "bda3d8ca",
   "metadata": {},
   "outputs": [],
   "source": [
    "r1=Rectangle(4,5)\n"
   ]
  },
  {
   "cell_type": "code",
   "execution_count": 62,
   "id": "7f285733",
   "metadata": {},
   "outputs": [
    {
     "name": "stdout",
     "output_type": "stream",
     "text": [
      "the lenght of rectanlge is :  4\n",
      "the width of rectanlge is :  5\n",
      "the perimetr of rectangle is :   18\n",
      "the area of rectangle is :   20\n"
     ]
    }
   ],
   "source": [
    "r1.display()"
   ]
  },
  {
   "cell_type": "code",
   "execution_count": 63,
   "id": "59073d3a",
   "metadata": {},
   "outputs": [
    {
     "data": {
      "text/plain": [
       "18"
      ]
     },
     "execution_count": 63,
     "metadata": {},
     "output_type": "execute_result"
    }
   ],
   "source": [
    "r1.Perimeter()"
   ]
  },
  {
   "cell_type": "code",
   "execution_count": 64,
   "id": "fda652f5",
   "metadata": {},
   "outputs": [
    {
     "data": {
      "text/plain": [
       "20"
      ]
     },
     "execution_count": 64,
     "metadata": {},
     "output_type": "execute_result"
    }
   ],
   "source": [
    "r1.Area()"
   ]
  },
  {
   "cell_type": "markdown",
   "id": "6dc4bc88",
   "metadata": {},
   "source": [
    "Q-2: Bank Class\n",
    "Create a Python class called BankAccount which represents a bank account, having as attributes: accountNumber (numeric type), name (name of the account owner as string type), balance.\n",
    "Create a constructor with parameters: accountNumber, name, balance.\n",
    "Create a Deposit() method which manages the deposit actions.\n",
    "Create a Withdrawal() method which manages withdrawals actions.\n",
    "Create an bankFees() method to apply the bank fees with a percentage of 5% of the balance account.\n",
    "Create a display() method to display account details. Give the complete code for the BankAccount class.\n",
    "Eg. After making above classes and methods, on executing below code:-\n",
    "\n",
    "newAccount = BankAccount(2178514584, \"Mandy\" , 2800)\n",
    "\n",
    "newAccount.Withdrawal(700)\n",
    "\n",
    "newAccount.Deposit(1000)\n",
    "\n",
    "newAccount.display()\n",
    "Output:\n",
    "\n",
    "Account Number :  2178514584\n",
    "Account Name :  Mandy\n",
    "Account Balance :  3100 ₹"
   ]
  },
  {
   "cell_type": "code",
   "execution_count": 114,
   "id": "d24eca89",
   "metadata": {},
   "outputs": [],
   "source": [
    "class BankAccount:\n",
    "    \n",
    "    def __init__(self,x,y,z):\n",
    "        self.accountNumber=x\n",
    "        self.name=y\n",
    "        self.balance=z\n",
    "        \n",
    "    def Deposit(self,d):\n",
    "        #user_deposit=int(input(\"Please Enter the deposit amount :  \"))\n",
    "        self.balance=self.balance+d\n",
    "        return self.balance\n",
    "        \n",
    "        \n",
    "        \n",
    "        \n",
    "        \n",
    "    def Withdrawal(self,w):\n",
    "        self.balance=self.balance-w\n",
    "        return self.balance\n",
    "        \n",
    "              \n",
    "            \n",
    "        \n",
    "        \n",
    "    def bankFees(self):\n",
    "        fee=self.balance*0.05\n",
    "        return fee\n",
    "        \n",
    "        \n",
    "        \n",
    "    def display(self):\n",
    "        print(\"Account Number : \",self.accountNumber)\n",
    "        print(\"Account Name : \",self.name)\n",
    "        print(self.name,\"Account Balance : \",self.balance)\n",
    "        "
   ]
  },
  {
   "cell_type": "code",
   "execution_count": 115,
   "id": "fa915cad",
   "metadata": {},
   "outputs": [],
   "source": [
    "b1=BankAccount(94501,\"harsh\",1000)"
   ]
  },
  {
   "cell_type": "code",
   "execution_count": 123,
   "id": "0fae3871",
   "metadata": {},
   "outputs": [
    {
     "data": {
      "text/plain": [
       "4000"
      ]
     },
     "execution_count": 123,
     "metadata": {},
     "output_type": "execute_result"
    }
   ],
   "source": [
    "b1.Deposit(1000)"
   ]
  },
  {
   "cell_type": "code",
   "execution_count": 124,
   "id": "190a2d84",
   "metadata": {},
   "outputs": [
    {
     "data": {
      "text/plain": [
       "3500"
      ]
     },
     "execution_count": 124,
     "metadata": {},
     "output_type": "execute_result"
    }
   ],
   "source": [
    "b1.Withdrawal(500)"
   ]
  },
  {
   "cell_type": "code",
   "execution_count": 125,
   "id": "a8ece47c",
   "metadata": {},
   "outputs": [
    {
     "data": {
      "text/plain": [
       "175.0"
      ]
     },
     "execution_count": 125,
     "metadata": {},
     "output_type": "execute_result"
    }
   ],
   "source": [
    "b1.bankFees()"
   ]
  },
  {
   "cell_type": "code",
   "execution_count": 126,
   "id": "8dab8a48",
   "metadata": {},
   "outputs": [
    {
     "name": "stdout",
     "output_type": "stream",
     "text": [
      "Account Number :  94501\n",
      "Account Name :  harsh\n",
      "harsh Account Balance :  3500\n"
     ]
    }
   ],
   "source": [
    "b1.display()"
   ]
  },
  {
   "cell_type": "markdown",
   "id": "e472e6bf",
   "metadata": {},
   "source": [
    "Q-3:Computation class\n",
    "Create a Computation class with a default constructor (without parameters) allowing to perform various calculations on integers numbers.\n",
    "\n",
    "Create a method called Factorial() which allows to calculate the factorial of an integer n. Integer n as parameter for this method\n",
    "\n",
    "Create a method called naturalSum() allowing to calculate the sum of the first n integers 1 + 2 + 3 + .. + n. Integer n as parameter for this method.\n",
    "\n",
    "Create a method called testPrime() in the Calculation class to test the primality of a given integer n, n is Prime or Not? Integer n as parameter for this method.\n",
    "\n",
    "Create a method called testPrims() allowing to test if two numbers are prime between them. Two integers are prime to one another if they have only 1 as their common divisor. Eg. 4 and 9 are prime to each other.\n",
    "\n",
    "Create a tableMult() method which creates and displays the multiplication table of a given integer. Then create an allTablesMult() method to display all the integer multiplication tables 1, 2, 3, ..., 9.\n",
    "\n",
    "Create a static listDiv() method that gets all the divisors of a given integer on new list called Ldiv. Create another listDivPrim() method that gets all the prime divisors of a given integer."
   ]
  },
  {
   "cell_type": "code",
   "execution_count": 145,
   "id": "9a9c546d",
   "metadata": {},
   "outputs": [],
   "source": [
    "class Computation:\n",
    "    def __init__(self):\n",
    "        pass\n",
    "        \n",
    "    def Factorial(x):\n",
    "        if x < 0:\n",
    "            print(\"Sorry, factorial does not exist for negative numbers\")\n",
    "        elif x == 0:\n",
    "            print(\"The factorial of 0 is 1\")\n",
    "        else:\n",
    "            factorial=1\n",
    "            for i in range(1,x + 1):\n",
    "                factorial = factorial*i\n",
    "            print(\"The factorial of\",x,\"is\",factorial)\n",
    "    def        "
   ]
  },
  {
   "cell_type": "code",
   "execution_count": 146,
   "id": "73604993",
   "metadata": {},
   "outputs": [],
   "source": [
    "c1=Computation"
   ]
  },
  {
   "cell_type": "code",
   "execution_count": 148,
   "id": "20e163bf",
   "metadata": {},
   "outputs": [
    {
     "name": "stdout",
     "output_type": "stream",
     "text": [
      "The factorial of 4 is 24\n"
     ]
    }
   ],
   "source": [
    "c1.Factorial(4)"
   ]
  },
  {
   "cell_type": "markdown",
   "id": "1e5686dc",
   "metadata": {},
   "source": [
    "Q-4: Build flashcard using class in Python.\n",
    "Build a flashcard using class in python. A flashcard is a card having information on both sides, which can be used as an aid in memoization. Flashcards usually have a question on one side and an answer on the other.\n",
    "\n",
    "Example 1:\n",
    "\n",
    "Approach:\n",
    "\n",
    "Create a class named FlashCard.\n",
    "Initialize dictionary fruits using init() method. Here you have to define fruit name as key and it's color as value. E.g., {\"Banana\": \"yellow\", \"Strawberries\": \"pink\"}\n",
    "Now randomly choose a pair from fruits by using random module and store the key in variable fruit and value in variable color.\n",
    "Now prompt the user to answer the color of the randomly chosen fruit.\n",
    "If correct print correct else print wrong.\n",
    "Output:\n",
    "\n",
    "welcome to fruit quiz\n",
    "What is the color of Strawberries\n",
    "pink\n",
    "Correct answer\n",
    "Enter 0, if you want to play again: 0\n",
    "What is the color of watermelon\n",
    "green\n",
    "Correct answer\n",
    "Enter 0, if you want to play again: 1"
   ]
  },
  {
   "cell_type": "code",
   "execution_count": 195,
   "id": "4a13714e",
   "metadata": {},
   "outputs": [
    {
     "name": "stdout",
     "output_type": "stream",
     "text": [
      "banana\n",
      "yellow\n"
     ]
    }
   ],
   "source": [
    "import random \n",
    "d={'apple':'red','banana':'yellow','watermelon':'green','strawberry':'pink','guava':'green'}\n",
    "#l1=list(d.items())\n",
    "fruit,color=random.choice(list(d.items()))\n",
    "print(fruit)\n",
    "print(color)"
   ]
  },
  {
   "cell_type": "code",
   "execution_count": 207,
   "id": "79f1b050",
   "metadata": {},
   "outputs": [
    {
     "name": "stdout",
     "output_type": "stream",
     "text": [
      "wlcome to the fruit quiz\n",
      "what is the color of watermelon\n",
      "pink\n",
      "Galat jawab\n",
      "enter 0 to play again 1 to exit1\n"
     ]
    }
   ],
   "source": [
    "import random\n",
    "\n",
    "class FlashCard:\n",
    "    def __init__(self):\n",
    "        self.__fruits={'apple':'red','banana':'yellow','watermelon':'green','strawberry':'pink','guava':'green'}\n",
    "        \n",
    "    def quiz(self):\n",
    "        while True:\n",
    "            fruit,color=random.choice(list(self.__fruits.items()))\n",
    "            print('what is the color of {}'.format(fruit))\n",
    "            user_answer=input()\n",
    "            \n",
    "            if user_answer.lower()==color:\n",
    "                print('Sahi jawab')\n",
    "            else:\n",
    "                print('Galat jawab')\n",
    "                \n",
    "            option =int(input('enter 0 to play again 1 to exit'))\n",
    "            \n",
    "            if option:\n",
    "                break\n",
    "                \n",
    "print('wlcome to the fruit quiz')\n",
    "fc=FlashCard()\n",
    "fc.quiz()"
   ]
  },
  {
   "cell_type": "markdown",
   "id": "dabe2eab",
   "metadata": {},
   "source": [
    "Q-5: Problem 5 based on OOP Python.\n",
    "TechWorld, a technology training center, wants to allocate courses for instructors. An instructor is identified by name, technology skills, experience and average feedback. An instructor is allocated a course, if he/she satisfies the below two conditions:\n",
    "\n",
    "eligibility criteria:\n",
    "if experience is more than 3 years, average feedback should be 4.5 or more\n",
    "if experience is 3 years or less, average feedback should be 4 or more\n",
    "he/she should posses the technology skill for the course\n",
    "Identify the class name and attributes to represent instructors. Write a Python program to implement the class chosen with its attributes and methods.\n",
    "\n",
    "Note:"
   ]
  },
  {
   "cell_type": "code",
   "execution_count": 14,
   "id": "6b9cdfda",
   "metadata": {},
   "outputs": [
    {
     "data": {
      "text/plain": [
       "'Padha sakta hai '"
      ]
     },
     "execution_count": 14,
     "metadata": {},
     "output_type": "execute_result"
    }
   ],
   "source": [
    "class Instructor:\n",
    "    \n",
    "    def __init__(self,name,technology,experience,feedback):\n",
    "        self._name = name\n",
    "        self._technology = technology\n",
    "        self._experience = experience\n",
    "        self._feedback = feedback\n",
    "        \n",
    "    def check_eligibility(self):\n",
    "        if self._experience >3 and self._feedback >= 4.5:\n",
    "            return True\n",
    "        if self._experience <= 3 and self._feedback >= 4:\n",
    "            return True\n",
    "        else:\n",
    "            return False\n",
    "        \n",
    "    def allocate_course(self,tech):\n",
    "        is_eligible = self.check_eligibility()\n",
    "        \n",
    "        if is_eligible:\n",
    "            if tech in self._technology:\n",
    "                return \"Padha sakta hai \"\n",
    "            else:\n",
    "                return \"ye to usko aate hi nahi hai \"\n",
    "            \n",
    "        else:\n",
    "            return \" acha nai padhata hai\"\n",
    "        \n",
    "ins=Instructor('Nitish',['Data Science',\"Web Development\"],5,10)\n",
    "ins.allocate_course('Data Science')        "
   ]
  },
  {
   "cell_type": "raw",
   "id": "1c06c77a",
   "metadata": {},
   "source": [
    "ins=Instructor('Nitish',['Data Science','Web Development'],5,3.5)"
   ]
  },
  {
   "cell_type": "code",
   "execution_count": 16,
   "id": "33932e8f",
   "metadata": {},
   "outputs": [
    {
     "data": {
      "text/plain": [
       "'ye to usko aate hi nahi hai '"
      ]
     },
     "execution_count": 16,
     "metadata": {},
     "output_type": "execute_result"
    }
   ],
   "source": [
    "ins.allocate_course(' Development')"
   ]
  },
  {
   "cell_type": "code",
   "execution_count": null,
   "id": "705b5aac",
   "metadata": {},
   "outputs": [],
   "source": []
  }
 ],
 "metadata": {
  "kernelspec": {
   "display_name": "Python 3 (ipykernel)",
   "language": "python",
   "name": "python3"
  },
  "language_info": {
   "codemirror_mode": {
    "name": "ipython",
    "version": 3
   },
   "file_extension": ".py",
   "mimetype": "text/x-python",
   "name": "python",
   "nbconvert_exporter": "python",
   "pygments_lexer": "ipython3",
   "version": "3.9.13"
  }
 },
 "nbformat": 4,
 "nbformat_minor": 5
}
