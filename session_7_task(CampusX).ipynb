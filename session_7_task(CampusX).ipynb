{
 "cells": [
  {
   "cell_type": "markdown",
   "id": "a893d9bb",
   "metadata": {},
   "source": [
    "Q-1: Rectangle Class\n",
    "Write a Rectangle class in Python language, allowing you to build a rectangle with length and width attributes.\n",
    "\n",
    "Create a Perimeter() method to calculate the perimeter of the rectangle and a Area() method to calculate the area of ​​the rectangle.\n",
    "\n",
    "Create a method display() that display the length, width, perimeter and area of an object created using an instantiation on rectangle class.\n",
    "\n",
    "Eg. After making above classes and methods, on executing below code:-\n",
    "\n",
    "my_rectangle = Rectangle(3 , 4)\n",
    "\n",
    "my_rectangle.display()\n",
    "\n",
    "Output:\n",
    "\n",
    "The length of rectangle is:  3\n",
    "\n",
    "The width of rectangle is:  4\n",
    "\n",
    "The perimeter of rectangle is:  14\n",
    "\n",
    "The area of rectangle is:  12"
   ]
  },
  {
   "cell_type": "code",
   "execution_count": 9,
   "id": "424488d4",
   "metadata": {},
   "outputs": [],
   "source": [
    "# write your code here\n",
    "class Rectangle:\n",
    "    def __init__(self,x,y):\n",
    "        self.length = x\n",
    "        self.width = y\n",
    "\n",
    "          def Perimeter(self,other):\n",
    "            user_lenth=int(input('enter Rectangle lenth : '))\n",
    "            self.lenth=user_lenth\n",
    "            user_width=int(input('enter the Rectangle width : '))\n",
    "            self.width=user_width\n",
    "            perimeter=2*(self.lenth+self.width)\n",
    "            print(\"the Perimetr of rectangle if :\",perimeter)\n",
    "\n",
    "            def Area(self):\n",
    "                user_lenth=int(input('enter Rectangle lenth : '))\n",
    "                self.lenth=user_lenth\n",
    "                user_width=int(input('enter the Rectangle width : '))\n",
    "                self.width=user_width\n",
    "                area=(self.lenth*self.width)\n",
    "                return (\"the area of rectangle is :\",area)\n",
    "            \n",
    "            def display():\n",
    "                "
   ]
  },
  {
   "cell_type": "code",
   "execution_count": 60,
   "id": "badd3b58",
   "metadata": {},
   "outputs": [],
   "source": [
    "# write your code here\n",
    "class Rectangle:\n",
    "    def __init__(self,x,y):\n",
    "        self.length = x\n",
    "        self.width = y\n",
    "\n",
    "    def Perimeter(self):\n",
    "#             user_lenth=int(input('enter Rectangle lenth : '))\n",
    "#             self.lenth=user_lenth\n",
    "#             user_width=int(input('enter the Rectangle width : '))\n",
    "#             self.width=user_width\n",
    "        perimeter=2*(self.length+self.width)\n",
    "        return perimeter\n",
    "\n",
    "    def Area(self):\n",
    "#                 user_lenth=int(input('enter Rectangle lenth : '))\n",
    "#                 self.lenth=user_lenth\n",
    "#                 user_width=int(input('enter the Rectangle width : '))\n",
    "#                 self.width=user_width\n",
    "        area=(self.length*self.width)\n",
    "        return (area)\n",
    "            \n",
    "    def display(self):\n",
    "\n",
    "        print(\"the lenght of rectanlge is : \",self.length)\n",
    "        print(\"the width of rectanlge is : \",self.width)\n",
    "        print(\"the perimetr of rectangle is :  \",2*(self.length+self.width))\n",
    "        print(\"the area of rectangle is :  \",self.length*self.width)\n",
    "                \n",
    "                \n",
    "                "
   ]
  },
  {
   "cell_type": "code",
   "execution_count": 61,
   "id": "625fe5b7",
   "metadata": {},
   "outputs": [],
   "source": [
    "r1=Rectangle(4,5)\n"
   ]
  },
  {
   "cell_type": "code",
   "execution_count": 62,
   "id": "6b661e5e",
   "metadata": {},
   "outputs": [
    {
     "name": "stdout",
     "output_type": "stream",
     "text": [
      "the lenght of rectanlge is :  4\n",
      "the width of rectanlge is :  5\n",
      "the perimetr of rectangle is :   18\n",
      "the area of rectangle is :   20\n"
     ]
    }
   ],
   "source": [
    "r1.display()"
   ]
  },
  {
   "cell_type": "code",
   "execution_count": 63,
   "id": "c13b3280",
   "metadata": {},
   "outputs": [
    {
     "data": {
      "text/plain": [
       "18"
      ]
     },
     "execution_count": 63,
     "metadata": {},
     "output_type": "execute_result"
    }
   ],
   "source": [
    "r1.Perimeter()"
   ]
  },
  {
   "cell_type": "code",
   "execution_count": 64,
   "id": "5aa164ba",
   "metadata": {},
   "outputs": [
    {
     "data": {
      "text/plain": [
       "20"
      ]
     },
     "execution_count": 64,
     "metadata": {},
     "output_type": "execute_result"
    }
   ],
   "source": [
    "r1.Area()"
   ]
  },
  {
   "cell_type": "markdown",
   "id": "76286dfb",
   "metadata": {},
   "source": [
    "Q-2: Bank Class\n",
    "Create a Python class called BankAccount which represents a bank account, having as attributes: accountNumber (numeric type), name (name of the account owner as string type), balance.\n",
    "Create a constructor with parameters: accountNumber, name, balance.\n",
    "Create a Deposit() method which manages the deposit actions.\n",
    "Create a Withdrawal() method which manages withdrawals actions.\n",
    "Create an bankFees() method to apply the bank fees with a percentage of 5% of the balance account.\n",
    "Create a display() method to display account details. Give the complete code for the BankAccount class.\n",
    "Eg. After making above classes and methods, on executing below code:-\n",
    "\n",
    "newAccount = BankAccount(2178514584, \"Mandy\" , 2800)\n",
    "\n",
    "newAccount.Withdrawal(700)\n",
    "\n",
    "newAccount.Deposit(1000)\n",
    "\n",
    "newAccount.display()\n",
    "Output:\n",
    "\n",
    "Account Number :  2178514584\n",
    "Account Name :  Mandy\n",
    "Account Balance :  3100 ₹"
   ]
  },
  {
   "cell_type": "code",
   "execution_count": 114,
   "id": "9fd22d31",
   "metadata": {},
   "outputs": [],
   "source": [
    "class BankAccount:\n",
    "    \n",
    "    def __init__(self,x,y,z):\n",
    "        self.accountNumber=x\n",
    "        self.name=y\n",
    "        self.balance=z\n",
    "        \n",
    "    def Deposit(self,d):\n",
    "        #user_deposit=int(input(\"Please Enter the deposit amount :  \"))\n",
    "        self.balance=self.balance+d\n",
    "        return self.balance\n",
    "        \n",
    "        \n",
    "        \n",
    "        \n",
    "        \n",
    "    def Withdrawal(self,w):\n",
    "        self.balance=self.balance-w\n",
    "        return self.balance\n",
    "        \n",
    "              \n",
    "            \n",
    "        \n",
    "        \n",
    "    def bankFees(self):\n",
    "        fee=self.balance*0.05\n",
    "        return fee\n",
    "        \n",
    "        \n",
    "        \n",
    "    def display(self):\n",
    "        print(\"Account Number : \",self.accountNumber)\n",
    "        print(\"Account Name : \",self.name)\n",
    "        print(self.name,\"Account Balance : \",self.balance)\n",
    "        "
   ]
  },
  {
   "cell_type": "code",
   "execution_count": 115,
   "id": "67acf78f",
   "metadata": {},
   "outputs": [],
   "source": [
    "b1=BankAccount(94501,\"harsh\",1000)"
   ]
  },
  {
   "cell_type": "code",
   "execution_count": 123,
   "id": "c11852b5",
   "metadata": {},
   "outputs": [
    {
     "data": {
      "text/plain": [
       "4000"
      ]
     },
     "execution_count": 123,
     "metadata": {},
     "output_type": "execute_result"
    }
   ],
   "source": [
    "b1.Deposit(1000)"
   ]
  },
  {
   "cell_type": "code",
   "execution_count": 124,
   "id": "63ba21bb",
   "metadata": {},
   "outputs": [
    {
     "data": {
      "text/plain": [
       "3500"
      ]
     },
     "execution_count": 124,
     "metadata": {},
     "output_type": "execute_result"
    }
   ],
   "source": [
    "b1.Withdrawal(500)"
   ]
  },
  {
   "cell_type": "code",
   "execution_count": 125,
   "id": "f8adc4bb",
   "metadata": {},
   "outputs": [
    {
     "data": {
      "text/plain": [
       "175.0"
      ]
     },
     "execution_count": 125,
     "metadata": {},
     "output_type": "execute_result"
    }
   ],
   "source": [
    "b1.bankFees()"
   ]
  },
  {
   "cell_type": "code",
   "execution_count": 126,
   "id": "12064d94",
   "metadata": {},
   "outputs": [
    {
     "name": "stdout",
     "output_type": "stream",
     "text": [
      "Account Number :  94501\n",
      "Account Name :  harsh\n",
      "harsh Account Balance :  3500\n"
     ]
    }
   ],
   "source": [
    "b1.display()"
   ]
  },
  {
   "cell_type": "markdown",
   "id": "528f29ea",
   "metadata": {},
   "source": [
    "Q-3:Computation class\n",
    "Create a Computation class with a default constructor (without parameters) allowing to perform various calculations on integers numbers.\n",
    "\n",
    "Create a method called Factorial() which allows to calculate the factorial of an integer n. Integer n as parameter for this method\n",
    "\n",
    "Create a method called naturalSum() allowing to calculate the sum of the first n integers 1 + 2 + 3 + .. + n. Integer n as parameter for this method.\n",
    "\n",
    "Create a method called testPrime() in the Calculation class to test the primality of a given integer n, n is Prime or Not? Integer n as parameter for this method.\n",
    "\n",
    "Create a method called testPrims() allowing to test if two numbers are prime between them. Two integers are prime to one another if they have only 1 as their common divisor. Eg. 4 and 9 are prime to each other.\n",
    "\n",
    "Create a tableMult() method which creates and displays the multiplication table of a given integer. Then create an allTablesMult() method to display all the integer multiplication tables 1, 2, 3, ..., 9.\n",
    "\n",
    "Create a static listDiv() method that gets all the divisors of a given integer on new list called Ldiv. Create another listDivPrim() method that gets all the prime divisors of a given integer."
   ]
  },
  {
   "cell_type": "code",
   "execution_count": 145,
   "id": "776281e0",
   "metadata": {},
   "outputs": [],
   "source": [
    "class Computation:\n",
    "    def __init__(self):\n",
    "        pass\n",
    "        \n",
    "    def Factorial(x):\n",
    "        if x < 0:\n",
    "            print(\"Sorry, factorial does not exist for negative numbers\")\n",
    "        elif x == 0:\n",
    "            print(\"The factorial of 0 is 1\")\n",
    "        else:\n",
    "            factorial=1\n",
    "            for i in range(1,x + 1):\n",
    "                factorial = factorial*i\n",
    "            print(\"The factorial of\",x,\"is\",factorial)"
   ]
  },
  {
   "cell_type": "code",
   "execution_count": 146,
   "id": "c55f75dd",
   "metadata": {},
   "outputs": [],
   "source": [
    "c1=Computation"
   ]
  },
  {
   "cell_type": "code",
   "execution_count": 147,
   "id": "62606656",
   "metadata": {},
   "outputs": [
    {
     "name": "stdout",
     "output_type": "stream",
     "text": [
      "The factorial of 4 is 24\n"
     ]
    }
   ],
   "source": [
    "c1.Factorial(4)"
   ]
  },
  {
   "cell_type": "code",
   "execution_count": null,
   "id": "ad2eaf84",
   "metadata": {},
   "outputs": [],
   "source": []
  }
 ],
 "metadata": {
  "kernelspec": {
   "display_name": "Python 3 (ipykernel)",
   "language": "python",
   "name": "python3"
  },
  "language_info": {
   "codemirror_mode": {
    "name": "ipython",
    "version": 3
   },
   "file_extension": ".py",
   "mimetype": "text/x-python",
   "name": "python",
   "nbconvert_exporter": "python",
   "pygments_lexer": "ipython3",
   "version": "3.9.13"
  }
 },
 "nbformat": 4,
 "nbformat_minor": 5
}
