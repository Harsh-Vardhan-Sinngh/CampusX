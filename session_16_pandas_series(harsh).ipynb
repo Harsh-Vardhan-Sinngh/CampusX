{
  "cells": [
    {
      "cell_type": "markdown",
      "metadata": {
        "id": "view-in-github",
        "colab_type": "text"
      },
      "source": [
        "<a href=\"https://colab.research.google.com/github/Harsh-Vardhan-Sinngh/CampusX/blob/main/session_16_pandas_series(harsh).ipynb\" target=\"_parent\"><img src=\"https://colab.research.google.com/assets/colab-badge.svg\" alt=\"Open In Colab\"/></a>"
      ]
    },
    {
      "cell_type": "code",
      "execution_count": null,
      "metadata": {
        "id": "LGP43duHsSj6"
      },
      "outputs": [],
      "source": [
        "import numpy as np\n",
        "import pandas as pd"
      ]
    },
    {
      "cell_type": "code",
      "execution_count": null,
      "metadata": {
        "colab": {
          "base_uri": "https://localhost:8080/"
        },
        "id": "L5PW4hNVwUrJ",
        "outputId": "7ffc1497-8486-47fb-d41a-9118513373bb"
      },
      "outputs": [
        {
          "output_type": "execute_result",
          "data": {
            "text/plain": [
              "0       Bharat\n",
              "1        Nepal\n",
              "2          USA\n",
              "3        Nepal\n",
              "4    Sri Lanka\n",
              "dtype: object"
            ]
          },
          "metadata": {},
          "execution_count": 3
        }
      ],
      "source": [
        "country=[\"Bharat\",\"Nepal\",\"USA\",\"Nepal\",\"Sri Lanka\"]\n",
        "pd.Series(country)"
      ]
    },
    {
      "cell_type": "code",
      "execution_count": null,
      "metadata": {
        "colab": {
          "base_uri": "https://localhost:8080/"
        },
        "id": "og5BAO8dxJnD",
        "outputId": "90300c62-5e8f-4ace-956b-925e50221c0f"
      },
      "outputs": [
        {
          "output_type": "execute_result",
          "data": {
            "text/plain": [
              "0     45\n",
              "1     36\n",
              "2     20\n",
              "3     52\n",
              "4     30\n",
              "5     36\n",
              "6    755\n",
              "7     25\n",
              "dtype: int64"
            ]
          },
          "metadata": {},
          "execution_count": 4
        }
      ],
      "source": [
        "runs=[45,36,20,52,30,36,755,25]\n",
        "pd.Series(runs)"
      ]
    },
    {
      "cell_type": "code",
      "execution_count": null,
      "metadata": {
        "colab": {
          "base_uri": "https://localhost:8080/"
        },
        "id": "sQHWhH0ex0ut",
        "outputId": "d9bff332-7171-4fdb-db82-327d94e721ff"
      },
      "outputs": [
        {
          "output_type": "execute_result",
          "data": {
            "text/plain": [
              "maths        66\n",
              "english      59\n",
              "physics      75\n",
              "hindi        90\n",
              "chemistry    56\n",
              "dtype: int64"
            ]
          },
          "metadata": {},
          "execution_count": 5
        }
      ],
      "source": [
        "marks=[66,59,75,90,56]\n",
        "subjects=[\"maths\",\"english\",\"physics\",\"hindi\",\"chemistry\"]\n",
        "pd.Series(marks,index=subjects)"
      ]
    },
    {
      "cell_type": "code",
      "execution_count": null,
      "metadata": {
        "id": "E1rntKI7zFRh"
      },
      "outputs": [],
      "source": [
        "marks_series=pd.Series(marks,index=subjects,name=\"Harsh ke marks\")"
      ]
    },
    {
      "cell_type": "code",
      "execution_count": null,
      "metadata": {
        "colab": {
          "base_uri": "https://localhost:8080/"
        },
        "id": "k3JsIkj5zkm7",
        "outputId": "a3243fa4-d72e-4827-f1b4-25c3dae4059d"
      },
      "outputs": [
        {
          "output_type": "execute_result",
          "data": {
            "text/plain": [
              "[66, 59, 75, 90, 56]"
            ]
          },
          "metadata": {},
          "execution_count": 7
        }
      ],
      "source": [
        "marks"
      ]
    },
    {
      "cell_type": "code",
      "execution_count": null,
      "metadata": {
        "id": "-8UpWJuzzmwL"
      },
      "outputs": [],
      "source": [
        "mark1={\"maths\":92,\"science\":56,\"english\":45,\"hindi\":100}\n",
        "mark1_series=pd.Series(mark1,name=\"harsh ke marks\")"
      ]
    },
    {
      "cell_type": "code",
      "execution_count": null,
      "metadata": {
        "id": "ttz1pbrbltnl"
      },
      "outputs": [],
      "source": []
    },
    {
      "cell_type": "code",
      "execution_count": null,
      "metadata": {
        "colab": {
          "base_uri": "https://localhost:8080/"
        },
        "id": "Kb31Thcvfnmg",
        "outputId": "7e16b9af-38b5-436d-cacd-630a203b8d12"
      },
      "outputs": [
        {
          "output_type": "execute_result",
          "data": {
            "text/plain": [
              "5"
            ]
          },
          "metadata": {},
          "execution_count": 9
        }
      ],
      "source": [
        "marks_series.size"
      ]
    },
    {
      "cell_type": "code",
      "execution_count": null,
      "metadata": {
        "colab": {
          "base_uri": "https://localhost:8080/"
        },
        "id": "AD7GA1k4gaVl",
        "outputId": "70136a13-464f-4383-8b53-d3bf00fc9355"
      },
      "outputs": [
        {
          "output_type": "execute_result",
          "data": {
            "text/plain": [
              "4"
            ]
          },
          "metadata": {},
          "execution_count": 10
        }
      ],
      "source": [
        "mark1_series.size"
      ]
    },
    {
      "cell_type": "code",
      "execution_count": null,
      "metadata": {
        "colab": {
          "base_uri": "https://localhost:8080/"
        },
        "id": "kH2pe9DljWL3",
        "outputId": "02d9d672-45ca-41f1-dd6c-4ebc8bd4b97f"
      },
      "outputs": [
        {
          "output_type": "execute_result",
          "data": {
            "text/plain": [
              "dtype('int64')"
            ]
          },
          "metadata": {},
          "execution_count": 11
        }
      ],
      "source": [
        "mark1_series.dtype"
      ]
    },
    {
      "cell_type": "code",
      "execution_count": null,
      "metadata": {
        "colab": {
          "base_uri": "https://localhost:8080/"
        },
        "id": "8LzsBZ1FlbkX",
        "outputId": "a043723a-39e8-4be5-b74d-881348185926"
      },
      "outputs": [
        {
          "output_type": "execute_result",
          "data": {
            "text/plain": [
              "True"
            ]
          },
          "metadata": {},
          "execution_count": 12
        }
      ],
      "source": [
        "mark1_series.is_unique"
      ]
    },
    {
      "cell_type": "code",
      "execution_count": null,
      "metadata": {
        "id": "IpNNMpYVluPw"
      },
      "outputs": [],
      "source": [
        "mark2={\"maths\":92,\"maths\":92,\"english\":45,\"hindi\":100}\n",
        "mark2_series=pd.Series(mark1,name=\"harsh ke marks\")"
      ]
    },
    {
      "cell_type": "code",
      "execution_count": null,
      "metadata": {
        "colab": {
          "base_uri": "https://localhost:8080/"
        },
        "id": "QACEVcNTl63E",
        "outputId": "3f31fdcd-1af0-47f3-d54e-24ad4911e6cb"
      },
      "outputs": [
        {
          "output_type": "execute_result",
          "data": {
            "text/plain": [
              "True"
            ]
          },
          "metadata": {},
          "execution_count": 14
        }
      ],
      "source": [
        "mark2_series.is_unique"
      ]
    },
    {
      "cell_type": "code",
      "execution_count": null,
      "metadata": {
        "colab": {
          "base_uri": "https://localhost:8080/"
        },
        "id": "uYEpFG2GmCix",
        "outputId": "8c11a6c3-460e-405e-ccd8-37a39bb55437"
      },
      "outputs": [
        {
          "output_type": "execute_result",
          "data": {
            "text/plain": [
              "False"
            ]
          },
          "metadata": {},
          "execution_count": 15
        }
      ],
      "source": [
        "pd.Series([1,1,2,3,6,2,5,2]).is_unique"
      ]
    },
    {
      "cell_type": "code",
      "execution_count": null,
      "metadata": {
        "colab": {
          "base_uri": "https://localhost:8080/"
        },
        "id": "pORr7kLhmbKG",
        "outputId": "1ebfde3d-e5c0-4940-f45a-45e89460538b"
      },
      "outputs": [
        {
          "output_type": "execute_result",
          "data": {
            "text/plain": [
              "Index(['maths', 'science', 'english', 'hindi'], dtype='object')"
            ]
          },
          "metadata": {},
          "execution_count": 16
        }
      ],
      "source": [
        "mark2_series.index"
      ]
    },
    {
      "cell_type": "code",
      "execution_count": null,
      "metadata": {
        "colab": {
          "base_uri": "https://localhost:8080/"
        },
        "id": "jkYDz9d-myAE",
        "outputId": "3109015e-4470-4ab5-91f5-fbe8c7e05994"
      },
      "outputs": [
        {
          "output_type": "execute_result",
          "data": {
            "text/plain": [
              "array([ 92,  56,  45, 100])"
            ]
          },
          "metadata": {},
          "execution_count": 17
        }
      ],
      "source": [
        "mark2_series.values"
      ]
    },
    {
      "cell_type": "code",
      "execution_count": null,
      "metadata": {
        "colab": {
          "base_uri": "https://localhost:8080/",
          "height": 314
        },
        "id": "vnbImswWrn0l",
        "outputId": "c332d203-00f8-4d02-cd0d-5cdd9d3da10b"
      },
      "outputs": [
        {
          "output_type": "error",
          "ename": "ModuleNotFoundError",
          "evalue": "No module named 'squeeze'",
          "traceback": [
            "\u001b[0;31m---------------------------------------------------------------------------\u001b[0m",
            "\u001b[0;31mModuleNotFoundError\u001b[0m                       Traceback (most recent call last)",
            "\u001b[0;32m<ipython-input-18-b6fdd9fdb7c1>\u001b[0m in \u001b[0;36m<cell line: 1>\u001b[0;34m()\u001b[0m\n\u001b[0;32m----> 1\u001b[0;31m \u001b[0;32mimport\u001b[0m \u001b[0msqueeze\u001b[0m\u001b[0;34m\u001b[0m\u001b[0;34m\u001b[0m\u001b[0m\n\u001b[0m",
            "\u001b[0;31mModuleNotFoundError\u001b[0m: No module named 'squeeze'",
            "",
            "\u001b[0;31m---------------------------------------------------------------------------\u001b[0;32m\nNOTE: If your import is failing due to a missing package, you can\nmanually install dependencies using either !pip or !apt.\n\nTo view examples of installing some common dependencies, click the\n\"Open Examples\" button below.\n\u001b[0;31m---------------------------------------------------------------------------\u001b[0m\n"
          ],
          "errorDetails": {
            "actions": [
              {
                "action": "open_url",
                "actionText": "Open Examples",
                "url": "/notebooks/snippets/importing_libraries.ipynb"
              }
            ]
          }
        }
      ],
      "source": [
        "import squeeze"
      ]
    },
    {
      "cell_type": "code",
      "execution_count": null,
      "metadata": {
        "id": "oEF6sIsJs41N"
      },
      "outputs": [],
      "source": [
        "!pip install squeeze\n",
        "import squeeze"
      ]
    },
    {
      "cell_type": "code",
      "execution_count": null,
      "metadata": {
        "id": "2d1yQ-LtrKBJ"
      },
      "outputs": [],
      "source": [
        "h=pd.read_csv('/content/google.csv')"
      ]
    },
    {
      "cell_type": "code",
      "execution_count": null,
      "metadata": {
        "id": "u-V5csztxd5B"
      },
      "outputs": [],
      "source": [
        "h"
      ]
    },
    {
      "cell_type": "code",
      "execution_count": null,
      "metadata": {
        "id": "qqdIXWiBxS0K"
      },
      "outputs": [],
      "source": [
        "type(h.squeeze())"
      ]
    },
    {
      "cell_type": "code",
      "execution_count": null,
      "metadata": {
        "id": "ylnRjQKW_D5j"
      },
      "outputs": [],
      "source": []
    },
    {
      "cell_type": "code",
      "execution_count": null,
      "metadata": {
        "id": "htPooquNy4va"
      },
      "outputs": [],
      "source": [
        "pd.read_csv('/content/login.csv').squeeze()"
      ]
    },
    {
      "cell_type": "code",
      "execution_count": null,
      "metadata": {
        "id": "A0gk9hvHm5wl"
      },
      "outputs": [],
      "source": [
        "pk=(pd.read_csv('/content/login.csv' ).squeeze())"
      ]
    },
    {
      "cell_type": "code",
      "execution_count": null,
      "metadata": {
        "id": "gBwVKl8KHexK"
      },
      "outputs": [],
      "source": [
        "pk.product()"
      ]
    },
    {
      "cell_type": "markdown",
      "metadata": {
        "id": "trA4qLAwoK9V"
      },
      "source": [
        "# New Section"
      ]
    },
    {
      "cell_type": "code",
      "execution_count": null,
      "metadata": {
        "id": "fv3_jmQcxfeC"
      },
      "outputs": [],
      "source": [
        "cars=(pd.read_csv('/content/cars.csv').squeeze())"
      ]
    },
    {
      "cell_type": "code",
      "execution_count": null,
      "metadata": {
        "id": "1yjbvAO47hgb"
      },
      "outputs": [],
      "source": [
        "pk"
      ]
    },
    {
      "cell_type": "code",
      "execution_count": null,
      "metadata": {
        "id": "Ke1FwPcU-ZmA"
      },
      "outputs": [],
      "source": [
        "pk.sort_values(ascending=True)"
      ]
    },
    {
      "cell_type": "code",
      "execution_count": null,
      "metadata": {
        "id": "_cC1JV7Q7UK7"
      },
      "outputs": [],
      "source": [
        "pk.head()"
      ]
    },
    {
      "cell_type": "code",
      "execution_count": null,
      "metadata": {
        "id": "zLcje8Wq8ZNx"
      },
      "outputs": [],
      "source": [
        "pk.tail()"
      ]
    },
    {
      "cell_type": "code",
      "execution_count": null,
      "metadata": {
        "id": "dhKBgfza7YSb"
      },
      "outputs": [],
      "source": [
        "pk.head(3)"
      ]
    },
    {
      "cell_type": "code",
      "execution_count": null,
      "metadata": {
        "id": "JpcMvhD28JwE"
      },
      "outputs": [],
      "source": [
        "cars"
      ]
    },
    {
      "cell_type": "code",
      "execution_count": null,
      "metadata": {
        "id": "PMCqR4nY8Mc7"
      },
      "outputs": [],
      "source": [
        "cars.tail(10)"
      ]
    },
    {
      "cell_type": "code",
      "execution_count": null,
      "metadata": {
        "id": "OzBZk4Bn81X_"
      },
      "outputs": [],
      "source": [
        "cars.sample(5)"
      ]
    },
    {
      "cell_type": "code",
      "execution_count": null,
      "metadata": {
        "id": "mpVv1TUv9hyx"
      },
      "outputs": [],
      "source": [
        "cars.value_counts()"
      ]
    },
    {
      "cell_type": "code",
      "execution_count": null,
      "metadata": {
        "id": "cXYXCNu394t7"
      },
      "outputs": [],
      "source": [
        "cars.sort_values()"
      ]
    },
    {
      "cell_type": "code",
      "execution_count": null,
      "metadata": {
        "id": "lxolKqAI_H1q"
      },
      "outputs": [],
      "source": [
        "lo=(pd.read_csv('/content/deliveries.csv').squeeze())"
      ]
    },
    {
      "cell_type": "code",
      "execution_count": null,
      "metadata": {
        "id": "jFlJHwUv_ZSm",
        "colab": {
          "base_uri": "https://localhost:8080/",
          "height": 304
        },
        "outputId": "86ca6f29-9f5d-4f32-8ce3-8f332cb231a3"
      },
      "outputs": [
        {
          "output_type": "error",
          "ename": "FileNotFoundError",
          "evalue": "[Errno 2] No such file or directory: '/content/batsman_runs_ipl.csv'",
          "traceback": [
            "\u001b[0;31m---------------------------------------------------------------------------\u001b[0m",
            "\u001b[0;31mFileNotFoundError\u001b[0m                         Traceback (most recent call last)",
            "\u001b[0;32m<ipython-input-19-d4646b20b97f>\u001b[0m in \u001b[0;36m<cell line: 1>\u001b[0;34m()\u001b[0m\n\u001b[0;32m----> 1\u001b[0;31m \u001b[0mvk\u001b[0m\u001b[0;34m=\u001b[0m\u001b[0;34m(\u001b[0m\u001b[0mpd\u001b[0m\u001b[0;34m.\u001b[0m\u001b[0mread_csv\u001b[0m\u001b[0;34m(\u001b[0m\u001b[0;34m'/content/batsman_runs_ipl.csv'\u001b[0m\u001b[0;34m)\u001b[0m\u001b[0;34m.\u001b[0m\u001b[0msqueeze\u001b[0m\u001b[0;34m(\u001b[0m\u001b[0;34m)\u001b[0m\u001b[0;34m)\u001b[0m\u001b[0;34m\u001b[0m\u001b[0;34m\u001b[0m\u001b[0m\n\u001b[0m",
            "\u001b[0;32m/usr/local/lib/python3.10/dist-packages/pandas/io/parsers/readers.py\u001b[0m in \u001b[0;36mread_csv\u001b[0;34m(filepath_or_buffer, sep, delimiter, header, names, index_col, usecols, dtype, engine, converters, true_values, false_values, skipinitialspace, skiprows, skipfooter, nrows, na_values, keep_default_na, na_filter, verbose, skip_blank_lines, parse_dates, infer_datetime_format, keep_date_col, date_parser, date_format, dayfirst, cache_dates, iterator, chunksize, compression, thousands, decimal, lineterminator, quotechar, quoting, doublequote, escapechar, comment, encoding, encoding_errors, dialect, on_bad_lines, delim_whitespace, low_memory, memory_map, float_precision, storage_options, dtype_backend)\u001b[0m\n\u001b[1;32m    910\u001b[0m     \u001b[0mkwds\u001b[0m\u001b[0;34m.\u001b[0m\u001b[0mupdate\u001b[0m\u001b[0;34m(\u001b[0m\u001b[0mkwds_defaults\u001b[0m\u001b[0;34m)\u001b[0m\u001b[0;34m\u001b[0m\u001b[0;34m\u001b[0m\u001b[0m\n\u001b[1;32m    911\u001b[0m \u001b[0;34m\u001b[0m\u001b[0m\n\u001b[0;32m--> 912\u001b[0;31m     \u001b[0;32mreturn\u001b[0m \u001b[0m_read\u001b[0m\u001b[0;34m(\u001b[0m\u001b[0mfilepath_or_buffer\u001b[0m\u001b[0;34m,\u001b[0m \u001b[0mkwds\u001b[0m\u001b[0;34m)\u001b[0m\u001b[0;34m\u001b[0m\u001b[0;34m\u001b[0m\u001b[0m\n\u001b[0m\u001b[1;32m    913\u001b[0m \u001b[0;34m\u001b[0m\u001b[0m\n\u001b[1;32m    914\u001b[0m \u001b[0;34m\u001b[0m\u001b[0m\n",
            "\u001b[0;32m/usr/local/lib/python3.10/dist-packages/pandas/io/parsers/readers.py\u001b[0m in \u001b[0;36m_read\u001b[0;34m(filepath_or_buffer, kwds)\u001b[0m\n\u001b[1;32m    575\u001b[0m \u001b[0;34m\u001b[0m\u001b[0m\n\u001b[1;32m    576\u001b[0m     \u001b[0;31m# Create the parser.\u001b[0m\u001b[0;34m\u001b[0m\u001b[0;34m\u001b[0m\u001b[0m\n\u001b[0;32m--> 577\u001b[0;31m     \u001b[0mparser\u001b[0m \u001b[0;34m=\u001b[0m \u001b[0mTextFileReader\u001b[0m\u001b[0;34m(\u001b[0m\u001b[0mfilepath_or_buffer\u001b[0m\u001b[0;34m,\u001b[0m \u001b[0;34m**\u001b[0m\u001b[0mkwds\u001b[0m\u001b[0;34m)\u001b[0m\u001b[0;34m\u001b[0m\u001b[0;34m\u001b[0m\u001b[0m\n\u001b[0m\u001b[1;32m    578\u001b[0m \u001b[0;34m\u001b[0m\u001b[0m\n\u001b[1;32m    579\u001b[0m     \u001b[0;32mif\u001b[0m \u001b[0mchunksize\u001b[0m \u001b[0;32mor\u001b[0m \u001b[0miterator\u001b[0m\u001b[0;34m:\u001b[0m\u001b[0;34m\u001b[0m\u001b[0;34m\u001b[0m\u001b[0m\n",
            "\u001b[0;32m/usr/local/lib/python3.10/dist-packages/pandas/io/parsers/readers.py\u001b[0m in \u001b[0;36m__init__\u001b[0;34m(self, f, engine, **kwds)\u001b[0m\n\u001b[1;32m   1405\u001b[0m \u001b[0;34m\u001b[0m\u001b[0m\n\u001b[1;32m   1406\u001b[0m         \u001b[0mself\u001b[0m\u001b[0;34m.\u001b[0m\u001b[0mhandles\u001b[0m\u001b[0;34m:\u001b[0m \u001b[0mIOHandles\u001b[0m \u001b[0;34m|\u001b[0m \u001b[0;32mNone\u001b[0m \u001b[0;34m=\u001b[0m \u001b[0;32mNone\u001b[0m\u001b[0;34m\u001b[0m\u001b[0;34m\u001b[0m\u001b[0m\n\u001b[0;32m-> 1407\u001b[0;31m         \u001b[0mself\u001b[0m\u001b[0;34m.\u001b[0m\u001b[0m_engine\u001b[0m \u001b[0;34m=\u001b[0m \u001b[0mself\u001b[0m\u001b[0;34m.\u001b[0m\u001b[0m_make_engine\u001b[0m\u001b[0;34m(\u001b[0m\u001b[0mf\u001b[0m\u001b[0;34m,\u001b[0m \u001b[0mself\u001b[0m\u001b[0;34m.\u001b[0m\u001b[0mengine\u001b[0m\u001b[0;34m)\u001b[0m\u001b[0;34m\u001b[0m\u001b[0;34m\u001b[0m\u001b[0m\n\u001b[0m\u001b[1;32m   1408\u001b[0m \u001b[0;34m\u001b[0m\u001b[0m\n\u001b[1;32m   1409\u001b[0m     \u001b[0;32mdef\u001b[0m \u001b[0mclose\u001b[0m\u001b[0;34m(\u001b[0m\u001b[0mself\u001b[0m\u001b[0;34m)\u001b[0m \u001b[0;34m->\u001b[0m \u001b[0;32mNone\u001b[0m\u001b[0;34m:\u001b[0m\u001b[0;34m\u001b[0m\u001b[0;34m\u001b[0m\u001b[0m\n",
            "\u001b[0;32m/usr/local/lib/python3.10/dist-packages/pandas/io/parsers/readers.py\u001b[0m in \u001b[0;36m_make_engine\u001b[0;34m(self, f, engine)\u001b[0m\n\u001b[1;32m   1659\u001b[0m                 \u001b[0;32mif\u001b[0m \u001b[0;34m\"b\"\u001b[0m \u001b[0;32mnot\u001b[0m \u001b[0;32min\u001b[0m \u001b[0mmode\u001b[0m\u001b[0;34m:\u001b[0m\u001b[0;34m\u001b[0m\u001b[0;34m\u001b[0m\u001b[0m\n\u001b[1;32m   1660\u001b[0m                     \u001b[0mmode\u001b[0m \u001b[0;34m+=\u001b[0m \u001b[0;34m\"b\"\u001b[0m\u001b[0;34m\u001b[0m\u001b[0;34m\u001b[0m\u001b[0m\n\u001b[0;32m-> 1661\u001b[0;31m             self.handles = get_handle(\n\u001b[0m\u001b[1;32m   1662\u001b[0m                 \u001b[0mf\u001b[0m\u001b[0;34m,\u001b[0m\u001b[0;34m\u001b[0m\u001b[0;34m\u001b[0m\u001b[0m\n\u001b[1;32m   1663\u001b[0m                 \u001b[0mmode\u001b[0m\u001b[0;34m,\u001b[0m\u001b[0;34m\u001b[0m\u001b[0;34m\u001b[0m\u001b[0m\n",
            "\u001b[0;32m/usr/local/lib/python3.10/dist-packages/pandas/io/common.py\u001b[0m in \u001b[0;36mget_handle\u001b[0;34m(path_or_buf, mode, encoding, compression, memory_map, is_text, errors, storage_options)\u001b[0m\n\u001b[1;32m    857\u001b[0m         \u001b[0;32mif\u001b[0m \u001b[0mioargs\u001b[0m\u001b[0;34m.\u001b[0m\u001b[0mencoding\u001b[0m \u001b[0;32mand\u001b[0m \u001b[0;34m\"b\"\u001b[0m \u001b[0;32mnot\u001b[0m \u001b[0;32min\u001b[0m \u001b[0mioargs\u001b[0m\u001b[0;34m.\u001b[0m\u001b[0mmode\u001b[0m\u001b[0;34m:\u001b[0m\u001b[0;34m\u001b[0m\u001b[0;34m\u001b[0m\u001b[0m\n\u001b[1;32m    858\u001b[0m             \u001b[0;31m# Encoding\u001b[0m\u001b[0;34m\u001b[0m\u001b[0;34m\u001b[0m\u001b[0m\n\u001b[0;32m--> 859\u001b[0;31m             handle = open(\n\u001b[0m\u001b[1;32m    860\u001b[0m                 \u001b[0mhandle\u001b[0m\u001b[0;34m,\u001b[0m\u001b[0;34m\u001b[0m\u001b[0;34m\u001b[0m\u001b[0m\n\u001b[1;32m    861\u001b[0m                 \u001b[0mioargs\u001b[0m\u001b[0;34m.\u001b[0m\u001b[0mmode\u001b[0m\u001b[0;34m,\u001b[0m\u001b[0;34m\u001b[0m\u001b[0;34m\u001b[0m\u001b[0m\n",
            "\u001b[0;31mFileNotFoundError\u001b[0m: [Errno 2] No such file or directory: '/content/batsman_runs_ipl.csv'"
          ]
        }
      ],
      "source": [
        "vk=(pd.read_csv('/content/batsman_runs_ipl.csv').squeeze())"
      ]
    },
    {
      "cell_type": "code",
      "execution_count": null,
      "metadata": {
        "id": "hHzXtAq0BHTK"
      },
      "outputs": [],
      "source": [
        "vk.sort_index()"
      ]
    },
    {
      "cell_type": "code",
      "execution_count": null,
      "metadata": {
        "id": "EUQ1vGbaIAvN"
      },
      "outputs": [],
      "source": [
        "vk.sum(axis=0)"
      ]
    },
    {
      "cell_type": "code",
      "execution_count": null,
      "metadata": {
        "id": "g72gn58rJKbX"
      },
      "outputs": [],
      "source": [
        "print(vk.mean())"
      ]
    },
    {
      "cell_type": "code",
      "execution_count": null,
      "metadata": {
        "id": "POWVRUKnHSqV"
      },
      "outputs": [],
      "source": [
        "vk.describe()"
      ]
    },
    {
      "cell_type": "code",
      "execution_count": null,
      "metadata": {
        "id": "G4SRvmy7K6mP"
      },
      "outputs": [],
      "source": []
    },
    {
      "cell_type": "code",
      "execution_count": null,
      "metadata": {
        "id": "YQE6YvHjK7xk"
      },
      "outputs": [],
      "source": []
    },
    {
      "cell_type": "code",
      "execution_count": null,
      "metadata": {
        "id": "-Au8cKtfCqhq"
      },
      "outputs": [],
      "source": [
        "vk.sort_values(inplace=True)"
      ]
    },
    {
      "cell_type": "code",
      "execution_count": null,
      "metadata": {
        "id": "Js-xn2J4DdEz"
      },
      "outputs": [],
      "source": [
        "movies=(pd.read_csv('/cars.csv').squeeze())"
      ]
    },
    {
      "cell_type": "code",
      "execution_count": null,
      "metadata": {
        "id": "91cUMgnRDzpx"
      },
      "outputs": [],
      "source": [
        "movies.sort_index()"
      ]
    },
    {
      "cell_type": "code",
      "execution_count": null,
      "metadata": {
        "id": "oPTVCOcoEHWy"
      },
      "outputs": [],
      "source": [
        "movies.sort_index(ascending=False,inplace=True)"
      ]
    },
    {
      "cell_type": "code",
      "execution_count": null,
      "metadata": {
        "id": "as8jJUEkEOl0"
      },
      "outputs": [],
      "source": [
        "movies"
      ]
    },
    {
      "cell_type": "code",
      "execution_count": null,
      "metadata": {
        "id": "EUy5bWAPG2tW"
      },
      "outputs": [],
      "source": [
        "movies.count()"
      ]
    },
    {
      "cell_type": "code",
      "execution_count": null,
      "metadata": {
        "id": "xa-hyb0FHHhv"
      },
      "outputs": [],
      "source": []
    },
    {
      "cell_type": "code",
      "execution_count": null,
      "metadata": {
        "id": "_mit4pPjI4W1"
      },
      "outputs": [],
      "source": [
        "print(movies.mode())"
      ]
    },
    {
      "cell_type": "code",
      "execution_count": null,
      "metadata": {
        "id": "2XKY9FDxK-3E"
      },
      "outputs": [],
      "source": [
        "movies.describe()"
      ]
    },
    {
      "cell_type": "code",
      "execution_count": null,
      "metadata": {
        "id": "CIlFGOjZL-69"
      },
      "outputs": [],
      "source": [
        "movies[1627]"
      ]
    },
    {
      "cell_type": "code",
      "execution_count": null,
      "metadata": {
        "id": "hxDqzrZDMhvE"
      },
      "outputs": [],
      "source": [
        "vk[0]"
      ]
    },
    {
      "cell_type": "code",
      "execution_count": null,
      "metadata": {
        "id": "oOKAsz7_MlFO"
      },
      "outputs": [],
      "source": [
        "cars[5:16]"
      ]
    },
    {
      "cell_type": "code",
      "execution_count": null,
      "metadata": {
        "id": "d7H3NrglM8PF"
      },
      "outputs": [],
      "source": [
        "cars[[5,6,10]]"
      ]
    },
    {
      "cell_type": "code",
      "execution_count": null,
      "metadata": {
        "id": "_ZtHwMmiM7kH"
      },
      "outputs": [],
      "source": []
    },
    {
      "cell_type": "code",
      "execution_count": null,
      "metadata": {
        "id": "RSWEqikoQG3Z"
      },
      "outputs": [],
      "source": [
        "from google.colab import drive\n",
        "drive.mount('/content/drive')"
      ]
    },
    {
      "cell_type": "code",
      "execution_count": null,
      "metadata": {
        "id": "esMMBNdcQ2oh"
      },
      "outputs": [],
      "source": [
        "div=(pd.read_csv('/deliveries.csv').squeeze())"
      ]
    },
    {
      "cell_type": "code",
      "execution_count": null,
      "metadata": {
        "id": "XcDR_XjfREd_"
      },
      "outputs": [],
      "source": [
        "div"
      ]
    },
    {
      "cell_type": "code",
      "execution_count": null,
      "metadata": {
        "id": "f2xPmu0BRIoi"
      },
      "outputs": [],
      "source": [
        "print(sorted(div))"
      ]
    },
    {
      "cell_type": "code",
      "execution_count": null,
      "metadata": {
        "id": "x4Z15R0PRRj-"
      },
      "outputs": [],
      "source": [
        "print(len(div))"
      ]
    },
    {
      "cell_type": "code",
      "execution_count": null,
      "metadata": {
        "id": "jihDCpKgRfWV"
      },
      "outputs": [],
      "source": [
        "print(type(div))"
      ]
    },
    {
      "cell_type": "code",
      "execution_count": null,
      "metadata": {
        "id": "uRyw18r1RjHO"
      },
      "outputs": [],
      "source": [
        "print(dir(div))"
      ]
    },
    {
      "cell_type": "code",
      "execution_count": null,
      "metadata": {
        "id": "-LZPEe_IR47A"
      },
      "outputs": [],
      "source": [
        "print(min(div))"
      ]
    },
    {
      "cell_type": "code",
      "execution_count": null,
      "metadata": {
        "id": "I9bATt4kSHdu"
      },
      "outputs": [],
      "source": [
        "for i in div:\n",
        "  print(i)"
      ]
    },
    {
      "cell_type": "code",
      "execution_count": null,
      "metadata": {
        "id": "nDAvqxAUTbT7"
      },
      "outputs": [],
      "source": [
        "movies=(pd.read_csv('/cars.csv').squeeze())"
      ]
    },
    {
      "cell_type": "code",
      "execution_count": null,
      "metadata": {
        "id": "27CC-wHvTdT0"
      },
      "outputs": [],
      "source": [
        "l=movies.value_counts()\n",
        "l>100"
      ]
    },
    {
      "cell_type": "code",
      "execution_count": null,
      "metadata": {
        "id": "93OMYhJEWWsm"
      },
      "outputs": [],
      "source": [
        "movies.head(20).plot(kind='pie')"
      ]
    },
    {
      "cell_type": "code",
      "execution_count": null,
      "metadata": {
        "id": "r19jj4_DuF0T"
      },
      "outputs": [],
      "source": [
        "sub=(pd.read_csv('/content/subs.csv').squeeze())"
      ]
    },
    {
      "cell_type": "code",
      "execution_count": null,
      "metadata": {
        "colab": {
          "base_uri": "https://localhost:8080/",
          "height": 204
        },
        "id": "EM6xs4l42cBI",
        "outputId": "e930f4f2-6480-4936-9a2e-10af1910acf8"
      },
      "outputs": [
        {
          "output_type": "execute_result",
          "data": {
            "text/plain": [
              "pandas.core.series.Series"
            ],
            "text/html": [
              "<div style=\"max-width:800px; border: 1px solid var(--colab-border-color);\"><style>\n",
              "      pre.function-repr-contents {\n",
              "        overflow-x: auto;\n",
              "        padding: 8px 12px;\n",
              "        max-height: 500px;\n",
              "      }\n",
              "\n",
              "      pre.function-repr-contents.function-repr-contents-collapsed {\n",
              "        cursor: pointer;\n",
              "        max-height: 100px;\n",
              "      }\n",
              "    </style>\n",
              "    <pre style=\"white-space: initial; background:\n",
              "         var(--colab-secondary-surface-color); padding: 8px 12px;\n",
              "         border-bottom: 1px solid var(--colab-border-color);\"><b>pandas.core.series.Series</b><br/>def __init__(data=None, index=None, dtype: Dtype | None=None, name=None, copy: bool | None=None, fastpath: bool=False) -&gt; None</pre><pre class=\"function-repr-contents function-repr-contents-collapsed\" style=\"\"><a class=\"filepath\" style=\"display:none\" href=\"#\">/usr/local/lib/python3.10/dist-packages/pandas/core/series.py</a>One-dimensional ndarray with axis labels (including time series).\n",
              "\n",
              "Labels need not be unique but must be a hashable type. The object\n",
              "supports both integer- and label-based indexing and provides a host of\n",
              "methods for performing operations involving the index. Statistical\n",
              "methods from ndarray have been overridden to automatically exclude\n",
              "missing data (currently represented as NaN).\n",
              "\n",
              "Operations between Series (+, -, /, \\*, \\*\\*) align values based on their\n",
              "associated index values-- they need not be the same length. The result\n",
              "index will be the sorted union of the two indexes.\n",
              "\n",
              "Parameters\n",
              "----------\n",
              "data : array-like, Iterable, dict, or scalar value\n",
              "    Contains data stored in Series. If data is a dict, argument order is\n",
              "    maintained.\n",
              "index : array-like or Index (1d)\n",
              "    Values must be hashable and have the same length as `data`.\n",
              "    Non-unique index values are allowed. Will default to\n",
              "    RangeIndex (0, 1, 2, ..., n) if not provided. If data is dict-like\n",
              "    and index is None, then the keys in the data are used as the index. If the\n",
              "    index is not None, the resulting Series is reindexed with the index values.\n",
              "dtype : str, numpy.dtype, or ExtensionDtype, optional\n",
              "    Data type for the output Series. If not specified, this will be\n",
              "    inferred from `data`.\n",
              "    See the :ref:`user guide &lt;basics.dtypes&gt;` for more usages.\n",
              "name : Hashable, default None\n",
              "    The name to give to the Series.\n",
              "copy : bool, default False\n",
              "    Copy input data. Only affects Series or 1d ndarray input. See examples.\n",
              "\n",
              "Notes\n",
              "-----\n",
              "Please reference the :ref:`User Guide &lt;basics.series&gt;` for more information.\n",
              "\n",
              "Examples\n",
              "--------\n",
              "Constructing Series from a dictionary with an Index specified\n",
              "\n",
              "&gt;&gt;&gt; d = {&#x27;a&#x27;: 1, &#x27;b&#x27;: 2, &#x27;c&#x27;: 3}\n",
              "&gt;&gt;&gt; ser = pd.Series(data=d, index=[&#x27;a&#x27;, &#x27;b&#x27;, &#x27;c&#x27;])\n",
              "&gt;&gt;&gt; ser\n",
              "a   1\n",
              "b   2\n",
              "c   3\n",
              "dtype: int64\n",
              "\n",
              "The keys of the dictionary match with the Index values, hence the Index\n",
              "values have no effect.\n",
              "\n",
              "&gt;&gt;&gt; d = {&#x27;a&#x27;: 1, &#x27;b&#x27;: 2, &#x27;c&#x27;: 3}\n",
              "&gt;&gt;&gt; ser = pd.Series(data=d, index=[&#x27;x&#x27;, &#x27;y&#x27;, &#x27;z&#x27;])\n",
              "&gt;&gt;&gt; ser\n",
              "x   NaN\n",
              "y   NaN\n",
              "z   NaN\n",
              "dtype: float64\n",
              "\n",
              "Note that the Index is first build with the keys from the dictionary.\n",
              "After this the Series is reindexed with the given Index values, hence we\n",
              "get all NaN as a result.\n",
              "\n",
              "Constructing Series from a list with `copy=False`.\n",
              "\n",
              "&gt;&gt;&gt; r = [1, 2]\n",
              "&gt;&gt;&gt; ser = pd.Series(r, copy=False)\n",
              "&gt;&gt;&gt; ser.iloc[0] = 999\n",
              "&gt;&gt;&gt; r\n",
              "[1, 2]\n",
              "&gt;&gt;&gt; ser\n",
              "0    999\n",
              "1      2\n",
              "dtype: int64\n",
              "\n",
              "Due to input data type the Series has a `copy` of\n",
              "the original data even though `copy=False`, so\n",
              "the data is unchanged.\n",
              "\n",
              "Constructing Series from a 1d ndarray with `copy=False`.\n",
              "\n",
              "&gt;&gt;&gt; r = np.array([1, 2])\n",
              "&gt;&gt;&gt; ser = pd.Series(r, copy=False)\n",
              "&gt;&gt;&gt; ser.iloc[0] = 999\n",
              "&gt;&gt;&gt; r\n",
              "array([999,   2])\n",
              "&gt;&gt;&gt; ser\n",
              "0    999\n",
              "1      2\n",
              "dtype: int64\n",
              "\n",
              "Due to input data type the Series has a `view` on\n",
              "the original data, so\n",
              "the data is changed as well.</pre>\n",
              "      <script>\n",
              "      if (google.colab.kernel.accessAllowed && google.colab.files && google.colab.files.view) {\n",
              "        for (const element of document.querySelectorAll('.filepath')) {\n",
              "          element.style.display = 'block'\n",
              "          element.onclick = (event) => {\n",
              "            event.preventDefault();\n",
              "            event.stopPropagation();\n",
              "            google.colab.files.view(element.textContent, 244);\n",
              "          };\n",
              "        }\n",
              "      }\n",
              "      for (const element of document.querySelectorAll('.function-repr-contents')) {\n",
              "        element.onclick = (event) => {\n",
              "          event.preventDefault();\n",
              "          event.stopPropagation();\n",
              "          element.classList.toggle('function-repr-contents-collapsed');\n",
              "        };\n",
              "      }\n",
              "      </script>\n",
              "      </div>"
            ]
          },
          "metadata": {},
          "execution_count": 21
        }
      ],
      "source": [
        "type(sub)"
      ]
    },
    {
      "cell_type": "code",
      "execution_count": null,
      "metadata": {
        "colab": {
          "base_uri": "https://localhost:8080/"
        },
        "id": "BHOHtGfp2eJv",
        "outputId": "7832f0fe-ef07-48d6-c154-59c7c879b15f"
      },
      "outputs": [
        {
          "output_type": "execute_result",
          "data": {
            "text/plain": [
              "0       48\n",
              "1       57\n",
              "2       40\n",
              "3       43\n",
              "4       44\n",
              "      ... \n",
              "360    231\n",
              "361    226\n",
              "362    155\n",
              "363    144\n",
              "364    172\n",
              "Name: Subscribers gained, Length: 365, dtype: int64"
            ]
          },
          "metadata": {},
          "execution_count": 22
        }
      ],
      "source": [
        "sub"
      ]
    },
    {
      "cell_type": "code",
      "execution_count": null,
      "metadata": {
        "id": "VGCbu_S0236f"
      },
      "outputs": [],
      "source": [
        "kol=(pd.read_csv('/content/kohli_ipl.csv',index_col='match_no').squeeze())"
      ]
    },
    {
      "cell_type": "code",
      "execution_count": null,
      "metadata": {
        "colab": {
          "base_uri": "https://localhost:8080/"
        },
        "id": "dcSJRdyM38w4",
        "outputId": "d6a1cfec-db32-4746-fe36-076439023d1e"
      },
      "outputs": [
        {
          "output_type": "execute_result",
          "data": {
            "text/plain": [
              "match_no\n",
              "1       1\n",
              "2      23\n",
              "3      13\n",
              "4      12\n",
              "5       1\n",
              "       ..\n",
              "211     0\n",
              "212    20\n",
              "213    73\n",
              "214    25\n",
              "215     7\n",
              "Name: runs, Length: 215, dtype: int64"
            ]
          },
          "metadata": {},
          "execution_count": 24
        }
      ],
      "source": [
        "kol"
      ]
    },
    {
      "cell_type": "code",
      "execution_count": null,
      "metadata": {
        "colab": {
          "base_uri": "https://localhost:8080/"
        },
        "id": "Do_PVpuM4BSf",
        "outputId": "fb108f61-4ad0-4478-e58f-533bb84cdcd3"
      },
      "outputs": [
        {
          "output_type": "execute_result",
          "data": {
            "text/plain": [
              "movie\n",
              "Uri: The Surgical Strike                   Vicky Kaushal\n",
              "Battalion 609                                Vicky Ahuja\n",
              "The Accidental Prime Minister (film)         Anupam Kher\n",
              "Why Cheat India                            Emraan Hashmi\n",
              "Evening Shadows                         Mona Ambegaonkar\n",
              "                                              ...       \n",
              "Hum Tumhare Hain Sanam                    Shah Rukh Khan\n",
              "Aankhen (2002 film)                     Amitabh Bachchan\n",
              "Saathiya (film)                             Vivek Oberoi\n",
              "Company (film)                                Ajay Devgn\n",
              "Awara Paagal Deewana                        Akshay Kumar\n",
              "Name: lead, Length: 1500, dtype: object"
            ]
          },
          "metadata": {},
          "execution_count": 4
        }
      ],
      "source": [
        "boll=(pd.read_csv('/content/bollywood.csv',index_col='movie').squeeze())\n",
        "boll"
      ]
    },
    {
      "cell_type": "code",
      "execution_count": null,
      "metadata": {
        "colab": {
          "base_uri": "https://localhost:8080/"
        },
        "id": "JX6i6L6R5dEM",
        "outputId": "aa8fa3c0-f159-4758-d75d-ed4cc267163b"
      },
      "outputs": [
        {
          "output_type": "execute_result",
          "data": {
            "text/plain": [
              "0    48\n",
              "1    57\n",
              "2    40\n",
              "3    43\n",
              "4    44\n",
              "Name: Subscribers gained, dtype: int64"
            ]
          },
          "metadata": {},
          "execution_count": 26
        }
      ],
      "source": [
        "# head and tail\n",
        "sub.head()"
      ]
    },
    {
      "cell_type": "code",
      "execution_count": null,
      "metadata": {
        "colab": {
          "base_uri": "https://localhost:8080/"
        },
        "id": "uERuV_gu5spO",
        "outputId": "f10a3664-a535-4bf1-e6cd-4fcfe3e53670"
      },
      "outputs": [
        {
          "output_type": "execute_result",
          "data": {
            "text/plain": [
              "match_no\n",
              "211     0\n",
              "212    20\n",
              "213    73\n",
              "214    25\n",
              "215     7\n",
              "Name: runs, dtype: int64"
            ]
          },
          "metadata": {},
          "execution_count": 27
        }
      ],
      "source": [
        "kol.tail()"
      ]
    },
    {
      "cell_type": "code",
      "execution_count": null,
      "metadata": {
        "colab": {
          "base_uri": "https://localhost:8080/"
        },
        "id": "3vEEM_ow5xRg",
        "outputId": "86e00746-4558-4146-e6e1-8767df0c6649"
      },
      "outputs": [
        {
          "output_type": "execute_result",
          "data": {
            "text/plain": [
              "movie\n",
              "Ok Jaanu                   Shraddha Kapoor\n",
              "Khoobsurat (2014 film)        Sonam Kapoor\n",
              "Gone Kesh                     Deepika Amin\n",
              "Paa (film)                Amitabh Bachchan\n",
              "Tumhari Sulu                   Vidya Balan\n",
              "Name: lead, dtype: object"
            ]
          },
          "metadata": {},
          "execution_count": 28
        }
      ],
      "source": [
        "#sample\n",
        "boll.sample(5)"
      ]
    },
    {
      "cell_type": "code",
      "execution_count": null,
      "metadata": {
        "colab": {
          "base_uri": "https://localhost:8080/"
        },
        "id": "_1dRbQRjBG8B",
        "outputId": "1a109613-41d9-419a-c8b0-5c8b7012c84f"
      },
      "outputs": [
        {
          "output_type": "execute_result",
          "data": {
            "text/plain": [
              "lead\n",
              "Akshay Kumar        48\n",
              "Amitabh Bachchan    45\n",
              "Ajay Devgn          38\n",
              "Salman Khan         31\n",
              "Sanjay Dutt         26\n",
              "                    ..\n",
              "Diganth              1\n",
              "Parveen Kaur         1\n",
              "Seema Azmi           1\n",
              "Akanksha Puri        1\n",
              "Edwin Fernandes      1\n",
              "Name: count, Length: 566, dtype: int64"
            ]
          },
          "metadata": {},
          "execution_count": 29
        }
      ],
      "source": [
        "#valu_counts\n",
        "boll.value_counts()"
      ]
    },
    {
      "cell_type": "code",
      "execution_count": null,
      "metadata": {
        "colab": {
          "base_uri": "https://localhost:8080/"
        },
        "id": "ZK2efzN9BLrZ",
        "outputId": "c6502e75-cb0f-41d2-b665-0669e196665c"
      },
      "outputs": [
        {
          "output_type": "execute_result",
          "data": {
            "text/plain": [
              "array([113, 109, 108, 100, 100,  99,  93,  92,  90,  84])"
            ]
          },
          "metadata": {},
          "execution_count": 30
        }
      ],
      "source": [
        "#sort_values\n",
        "kol.sort_values(ascending=False).head(10).values"
      ]
    },
    {
      "cell_type": "code",
      "source": [
        "#sort_index\n",
        "print(boll.sort_index(inplace=True))"
      ],
      "metadata": {
        "colab": {
          "base_uri": "https://localhost:8080/"
        },
        "id": "kpDC2fmZ_BKc",
        "outputId": "f8a116b7-4e1f-44b8-83bd-dd26a37b1abb"
      },
      "execution_count": null,
      "outputs": [
        {
          "output_type": "stream",
          "name": "stdout",
          "text": [
            "None\n"
          ]
        }
      ]
    },
    {
      "cell_type": "code",
      "source": [
        "boll"
      ],
      "metadata": {
        "colab": {
          "base_uri": "https://localhost:8080/"
        },
        "id": "PXSScIto_Xvp",
        "outputId": "760890d2-6281-4003-cfc2-64ef01b5b199"
      },
      "execution_count": null,
      "outputs": [
        {
          "output_type": "execute_result",
          "data": {
            "text/plain": [
              "movie\n",
              "1920 (film)                   Rajniesh Duggall\n",
              "1920: London                     Sharman Joshi\n",
              "1920: The Evil Returns             Vicky Ahuja\n",
              "1971 (2007 film)                Manoj Bajpayee\n",
              "2 States (2014 film)              Arjun Kapoor\n",
              "                                   ...        \n",
              "Zindagi 50-50                      Veena Malik\n",
              "Zindagi Na Milegi Dobara        Hrithik Roshan\n",
              "Zindagi Tere Naam           Mithun Chakraborty\n",
              "Zokkomon                       Darsheel Safary\n",
              "Zor Lagaa Ke...Haiya!            Meghan Jadhav\n",
              "Name: lead, Length: 1500, dtype: object"
            ]
          },
          "metadata": {},
          "execution_count": 32
        }
      ]
    },
    {
      "cell_type": "code",
      "source": [
        "#count\n",
        "kol.count()"
      ],
      "metadata": {
        "colab": {
          "base_uri": "https://localhost:8080/"
        },
        "id": "QBFx8Lmo_ZIH",
        "outputId": "c24d0cc1-813f-46fc-95a5-6e54ba835b5d"
      },
      "execution_count": null,
      "outputs": [
        {
          "output_type": "execute_result",
          "data": {
            "text/plain": [
              "215"
            ]
          },
          "metadata": {},
          "execution_count": 33
        }
      ]
    },
    {
      "cell_type": "code",
      "source": [
        "kol.size"
      ],
      "metadata": {
        "colab": {
          "base_uri": "https://localhost:8080/"
        },
        "id": "WhEwJy8IAPxp",
        "outputId": "5ff4ad2d-082c-47ce-b00f-b925a0efba8a"
      },
      "execution_count": null,
      "outputs": [
        {
          "output_type": "execute_result",
          "data": {
            "text/plain": [
              "215"
            ]
          },
          "metadata": {},
          "execution_count": 34
        }
      ]
    },
    {
      "cell_type": "code",
      "source": [
        "sub.sum()"
      ],
      "metadata": {
        "colab": {
          "base_uri": "https://localhost:8080/"
        },
        "id": "ooqklVfyAZpn",
        "outputId": "ecad28c1-b781-43cd-dea8-790b0e8be9a8"
      },
      "execution_count": null,
      "outputs": [
        {
          "output_type": "execute_result",
          "data": {
            "text/plain": [
              "49510"
            ]
          },
          "metadata": {},
          "execution_count": 35
        }
      ]
    },
    {
      "cell_type": "code",
      "source": [
        "sub.product()"
      ],
      "metadata": {
        "colab": {
          "base_uri": "https://localhost:8080/"
        },
        "id": "cnfIRRXTAlxv",
        "outputId": "622d7e83-771a-4831-ffcf-9ed131c051d4"
      },
      "execution_count": null,
      "outputs": [
        {
          "output_type": "execute_result",
          "data": {
            "text/plain": [
              "0"
            ]
          },
          "metadata": {},
          "execution_count": 36
        }
      ]
    },
    {
      "cell_type": "code",
      "source": [
        "sub.mean()"
      ],
      "metadata": {
        "colab": {
          "base_uri": "https://localhost:8080/"
        },
        "id": "B5mrMjcWAsGf",
        "outputId": "c11ac807-a064-4221-d5ec-7f6f15bf5941"
      },
      "execution_count": null,
      "outputs": [
        {
          "output_type": "execute_result",
          "data": {
            "text/plain": [
              "135.64383561643837"
            ]
          },
          "metadata": {},
          "execution_count": 37
        }
      ]
    },
    {
      "cell_type": "code",
      "source": [
        "kol.median()"
      ],
      "metadata": {
        "colab": {
          "base_uri": "https://localhost:8080/"
        },
        "id": "_Gv6sNeUA0gI",
        "outputId": "b92d7764-63a5-405e-904d-00ac77182f59"
      },
      "execution_count": null,
      "outputs": [
        {
          "output_type": "execute_result",
          "data": {
            "text/plain": [
              "24.0"
            ]
          },
          "metadata": {},
          "execution_count": 38
        }
      ]
    },
    {
      "cell_type": "code",
      "source": [
        "boll.mode()"
      ],
      "metadata": {
        "colab": {
          "base_uri": "https://localhost:8080/"
        },
        "id": "S89PBASPA4jB",
        "outputId": "7d9e559d-97b0-4d30-bf6f-e4b6db8fda19"
      },
      "execution_count": null,
      "outputs": [
        {
          "output_type": "execute_result",
          "data": {
            "text/plain": [
              "0    Akshay Kumar\n",
              "Name: lead, dtype: object"
            ]
          },
          "metadata": {},
          "execution_count": 39
        }
      ]
    },
    {
      "cell_type": "code",
      "source": [
        "sub.std()"
      ],
      "metadata": {
        "colab": {
          "base_uri": "https://localhost:8080/"
        },
        "id": "82F-TtxbA93_",
        "outputId": "869f21f7-e367-4630-fb27-f8a3f3e2df85"
      },
      "execution_count": null,
      "outputs": [
        {
          "output_type": "execute_result",
          "data": {
            "text/plain": [
              "62.6750230372527"
            ]
          },
          "metadata": {},
          "execution_count": 40
        }
      ]
    },
    {
      "cell_type": "code",
      "source": [
        "kol.var()"
      ],
      "metadata": {
        "colab": {
          "base_uri": "https://localhost:8080/"
        },
        "id": "HtskthZTBEbn",
        "outputId": "dd282c52-00d6-4ff7-b698-d904de8815e5"
      },
      "execution_count": null,
      "outputs": [
        {
          "output_type": "execute_result",
          "data": {
            "text/plain": [
              "688.0024777222343"
            ]
          },
          "metadata": {},
          "execution_count": 41
        }
      ]
    },
    {
      "cell_type": "code",
      "source": [
        "sub.min()"
      ],
      "metadata": {
        "colab": {
          "base_uri": "https://localhost:8080/"
        },
        "id": "P0fV94CUBJzH",
        "outputId": "2f5ef97f-9ee6-49a3-8224-2ab661680fe9"
      },
      "execution_count": null,
      "outputs": [
        {
          "output_type": "execute_result",
          "data": {
            "text/plain": [
              "33"
            ]
          },
          "metadata": {},
          "execution_count": 42
        }
      ]
    },
    {
      "cell_type": "code",
      "source": [
        "sub.max()"
      ],
      "metadata": {
        "colab": {
          "base_uri": "https://localhost:8080/"
        },
        "id": "RxamU2KVBOJf",
        "outputId": "fe09c365-0858-4672-ec38-8b48c1fbbc79"
      },
      "execution_count": null,
      "outputs": [
        {
          "output_type": "execute_result",
          "data": {
            "text/plain": [
              "396"
            ]
          },
          "metadata": {},
          "execution_count": 43
        }
      ]
    },
    {
      "cell_type": "code",
      "source": [
        "sub.describe()"
      ],
      "metadata": {
        "colab": {
          "base_uri": "https://localhost:8080/"
        },
        "id": "qVss6ch0BVL2",
        "outputId": "aa1024a8-0fe4-4cc0-a0b1-b999ad4cd32c"
      },
      "execution_count": null,
      "outputs": [
        {
          "output_type": "execute_result",
          "data": {
            "text/plain": [
              "count    365.000000\n",
              "mean     135.643836\n",
              "std       62.675023\n",
              "min       33.000000\n",
              "25%       88.000000\n",
              "50%      123.000000\n",
              "75%      177.000000\n",
              "max      396.000000\n",
              "Name: Subscribers gained, dtype: float64"
            ]
          },
          "metadata": {},
          "execution_count": 44
        }
      ]
    },
    {
      "cell_type": "code",
      "source": [
        "xp=pd.Series([10,20,3,0,4,5,2,552,3,5,2,25,2,3])\n",
        "xp[6]"
      ],
      "metadata": {
        "colab": {
          "base_uri": "https://localhost:8080/"
        },
        "id": "R4s2q7YeBbRt",
        "outputId": "06aa32a0-249c-4bd8-c20d-d549f02b8c32"
      },
      "execution_count": null,
      "outputs": [
        {
          "output_type": "execute_result",
          "data": {
            "text/plain": [
              "2"
            ]
          },
          "metadata": {},
          "execution_count": 45
        }
      ]
    },
    {
      "cell_type": "code",
      "source": [
        "boll"
      ],
      "metadata": {
        "colab": {
          "base_uri": "https://localhost:8080/"
        },
        "id": "knOwlqMbCYke",
        "outputId": "1d968427-a5ba-4b4f-ff7b-8e27a58bf177"
      },
      "execution_count": null,
      "outputs": [
        {
          "output_type": "execute_result",
          "data": {
            "text/plain": [
              "movie\n",
              "1920 (film)                   Rajniesh Duggall\n",
              "1920: London                     Sharman Joshi\n",
              "1920: The Evil Returns             Vicky Ahuja\n",
              "1971 (2007 film)                Manoj Bajpayee\n",
              "2 States (2014 film)              Arjun Kapoor\n",
              "                                   ...        \n",
              "Zindagi 50-50                      Veena Malik\n",
              "Zindagi Na Milegi Dobara        Hrithik Roshan\n",
              "Zindagi Tere Naam           Mithun Chakraborty\n",
              "Zokkomon                       Darsheel Safary\n",
              "Zor Lagaa Ke...Haiya!            Meghan Jadhav\n",
              "Name: lead, Length: 1500, dtype: object"
            ]
          },
          "metadata": {},
          "execution_count": 46
        }
      ]
    },
    {
      "cell_type": "code",
      "source": [
        "boll[Company (film)]"
      ],
      "metadata": {
        "colab": {
          "base_uri": "https://localhost:8080/",
          "height": 141
        },
        "id": "EwAcjyHSCdWX",
        "outputId": "deabc54d-a5b7-4920-fc8d-651718b5f7dd"
      },
      "execution_count": null,
      "outputs": [
        {
          "output_type": "error",
          "ename": "NameError",
          "evalue": "name 'Company' is not defined",
          "traceback": [
            "\u001b[0;31m---------------------------------------------------------------------------\u001b[0m",
            "\u001b[0;31mNameError\u001b[0m                                 Traceback (most recent call last)",
            "\u001b[0;32m<ipython-input-47-7e74dc45578f>\u001b[0m in \u001b[0;36m<cell line: 1>\u001b[0;34m()\u001b[0m\n\u001b[0;32m----> 1\u001b[0;31m \u001b[0mboll\u001b[0m\u001b[0;34m[\u001b[0m\u001b[0mCompany\u001b[0m \u001b[0;34m(\u001b[0m\u001b[0mfilm\u001b[0m\u001b[0;34m)\u001b[0m\u001b[0;34m]\u001b[0m\u001b[0;34m\u001b[0m\u001b[0;34m\u001b[0m\u001b[0m\n\u001b[0m",
            "\u001b[0;31mNameError\u001b[0m: name 'Company' is not defined"
          ]
        }
      ]
    },
    {
      "cell_type": "markdown",
      "source": [],
      "metadata": {
        "id": "kPXTHi0tCSoC"
      }
    },
    {
      "cell_type": "code",
      "source": [
        "kol[5:16]"
      ],
      "metadata": {
        "colab": {
          "base_uri": "https://localhost:8080/"
        },
        "id": "HLXzwUUgDvHq",
        "outputId": "beb9a8fa-a695-444d-fa5a-1b9ade343d7f"
      },
      "execution_count": null,
      "outputs": [
        {
          "output_type": "execute_result",
          "data": {
            "text/plain": [
              "match_no\n",
              "6      9\n",
              "7     34\n",
              "8      0\n",
              "9     21\n",
              "10     3\n",
              "11    10\n",
              "12    38\n",
              "13     3\n",
              "14    11\n",
              "15    50\n",
              "16     2\n",
              "Name: runs, dtype: int64"
            ]
          },
          "metadata": {},
          "execution_count": 48
        }
      ]
    },
    {
      "cell_type": "code",
      "source": [
        "kol[-5:]"
      ],
      "metadata": {
        "colab": {
          "base_uri": "https://localhost:8080/"
        },
        "id": "sCEVQDlzDyre",
        "outputId": "e64b384c-beca-4de1-bcbb-96ab95348534"
      },
      "execution_count": null,
      "outputs": [
        {
          "output_type": "execute_result",
          "data": {
            "text/plain": [
              "match_no\n",
              "211     0\n",
              "212    20\n",
              "213    73\n",
              "214    25\n",
              "215     7\n",
              "Name: runs, dtype: int64"
            ]
          },
          "metadata": {},
          "execution_count": 49
        }
      ]
    },
    {
      "cell_type": "code",
      "source": [
        "boll[-5:]"
      ],
      "metadata": {
        "colab": {
          "base_uri": "https://localhost:8080/"
        },
        "id": "Tz_yAfa9D3ow",
        "outputId": "cef77954-1b21-49a2-f839-0224a30c4a6a"
      },
      "execution_count": null,
      "outputs": [
        {
          "output_type": "execute_result",
          "data": {
            "text/plain": [
              "movie\n",
              "Zindagi 50-50                      Veena Malik\n",
              "Zindagi Na Milegi Dobara        Hrithik Roshan\n",
              "Zindagi Tere Naam           Mithun Chakraborty\n",
              "Zokkomon                       Darsheel Safary\n",
              "Zor Lagaa Ke...Haiya!            Meghan Jadhav\n",
              "Name: lead, dtype: object"
            ]
          },
          "metadata": {},
          "execution_count": 50
        }
      ]
    },
    {
      "cell_type": "code",
      "source": [
        "boll[::2]"
      ],
      "metadata": {
        "colab": {
          "base_uri": "https://localhost:8080/"
        },
        "id": "m8ddoIhGD7VW",
        "outputId": "d89a168b-b858-4ce0-ae85-1625757966b1"
      },
      "execution_count": null,
      "outputs": [
        {
          "output_type": "execute_result",
          "data": {
            "text/plain": [
              "movie\n",
              "1920 (film)                 Rajniesh Duggall\n",
              "1920: The Evil Returns           Vicky Ahuja\n",
              "2 States (2014 film)            Arjun Kapoor\n",
              "3 A.M. (2014 film)             Salil Acharya\n",
              "3 Idiots                          Aamir Khan\n",
              "                                  ...       \n",
              "Zero (2018 film)              Shah Rukh Khan\n",
              "Zila Ghaziabad                  Vivek Oberoi\n",
              "Zindaggi Rocks                  Sushmita Sen\n",
              "Zindagi Na Milegi Dobara      Hrithik Roshan\n",
              "Zokkomon                     Darsheel Safary\n",
              "Name: lead, Length: 750, dtype: object"
            ]
          },
          "metadata": {},
          "execution_count": 51
        }
      ]
    },
    {
      "cell_type": "code",
      "source": [
        "#fancy index\n",
        "kol[[1,3,4,5]]"
      ],
      "metadata": {
        "colab": {
          "base_uri": "https://localhost:8080/"
        },
        "id": "Y_52JxROEBU_",
        "outputId": "9c5adc07-b1f0-44dc-a73a-2c2edd1a5dc2"
      },
      "execution_count": null,
      "outputs": [
        {
          "output_type": "execute_result",
          "data": {
            "text/plain": [
              "match_no\n",
              "1     1\n",
              "3    13\n",
              "4    12\n",
              "5     1\n",
              "Name: runs, dtype: int64"
            ]
          },
          "metadata": {},
          "execution_count": 52
        }
      ]
    },
    {
      "cell_type": "code",
      "source": [
        "boll['Raaz (2002 film)']"
      ],
      "metadata": {
        "colab": {
          "base_uri": "https://localhost:8080/",
          "height": 35
        },
        "id": "XN_d6icqEYas",
        "outputId": "5be31623-0b04-4f15-ad21-f071cdd6ea46"
      },
      "execution_count": null,
      "outputs": [
        {
          "output_type": "execute_result",
          "data": {
            "text/plain": [
              "'Dino Morea'"
            ],
            "application/vnd.google.colaboratory.intrinsic+json": {
              "type": "string"
            }
          },
          "metadata": {},
          "execution_count": 53
        }
      ]
    },
    {
      "cell_type": "code",
      "source": [
        "#using indexingmarks\n",
        "mark1_series[1]=1000\n",
        "mark1_series"
      ],
      "metadata": {
        "colab": {
          "base_uri": "https://localhost:8080/"
        },
        "id": "suCTjEfVEanQ",
        "outputId": "05819be4-cc4c-45e3-a604-5e0fecf4650f"
      },
      "execution_count": null,
      "outputs": [
        {
          "output_type": "execute_result",
          "data": {
            "text/plain": [
              "maths        92\n",
              "science    1000\n",
              "english      45\n",
              "hindi       100\n",
              "Name: harsh ke marks, dtype: int64"
            ]
          },
          "metadata": {},
          "execution_count": 54
        }
      ]
    },
    {
      "cell_type": "code",
      "source": [
        "mark1_series['google']=1222"
      ],
      "metadata": {
        "id": "wl0OtLiaE7Vy"
      },
      "execution_count": null,
      "outputs": []
    },
    {
      "cell_type": "code",
      "source": [
        "mark1_series"
      ],
      "metadata": {
        "colab": {
          "base_uri": "https://localhost:8080/"
        },
        "id": "yN0PIaioGpnY",
        "outputId": "e4d36fc4-3561-4f8e-cdb3-1eb5f365bc72"
      },
      "execution_count": null,
      "outputs": [
        {
          "output_type": "execute_result",
          "data": {
            "text/plain": [
              "maths        92\n",
              "science    1000\n",
              "english      45\n",
              "hindi       100\n",
              "google     1222\n",
              "Name: harsh ke marks, dtype: int64"
            ]
          },
          "metadata": {},
          "execution_count": 56
        }
      ]
    },
    {
      "cell_type": "code",
      "source": [
        "boll['Raaz (2002 film)']=\"Ambitab bachan\""
      ],
      "metadata": {
        "id": "-r15owTbG2oI"
      },
      "execution_count": null,
      "outputs": []
    },
    {
      "cell_type": "code",
      "source": [
        "boll"
      ],
      "metadata": {
        "colab": {
          "base_uri": "https://localhost:8080/"
        },
        "id": "i0Q6URZ4HGzI",
        "outputId": "7046d984-ebb0-4daa-e0ec-bb7ed6e45c5e"
      },
      "execution_count": null,
      "outputs": [
        {
          "output_type": "execute_result",
          "data": {
            "text/plain": [
              "movie\n",
              "1920 (film)                   Rajniesh Duggall\n",
              "1920: London                     Sharman Joshi\n",
              "1920: The Evil Returns             Vicky Ahuja\n",
              "1971 (2007 film)                Manoj Bajpayee\n",
              "2 States (2014 film)              Arjun Kapoor\n",
              "                                   ...        \n",
              "Zindagi 50-50                      Veena Malik\n",
              "Zindagi Na Milegi Dobara        Hrithik Roshan\n",
              "Zindagi Tere Naam           Mithun Chakraborty\n",
              "Zokkomon                       Darsheel Safary\n",
              "Zor Lagaa Ke...Haiya!            Meghan Jadhav\n",
              "Name: lead, Length: 1500, dtype: object"
            ]
          },
          "metadata": {},
          "execution_count": 61
        }
      ]
    },
    {
      "cell_type": "code",
      "source": [
        "boll['Raaz (2002 film)']"
      ],
      "metadata": {
        "colab": {
          "base_uri": "https://localhost:8080/",
          "height": 35
        },
        "id": "8U0Wekm3HMCA",
        "outputId": "7f49c95f-1217-426b-b582-c4679afdc9ad"
      },
      "execution_count": null,
      "outputs": [
        {
          "output_type": "execute_result",
          "data": {
            "text/plain": [
              "'Ambitab bachan'"
            ],
            "application/vnd.google.colaboratory.intrinsic+json": {
              "type": "string"
            }
          },
          "metadata": {},
          "execution_count": 62
        }
      ]
    },
    {
      "cell_type": "code",
      "source": [
        " for i in boll:\n",
        "  print(i)"
      ],
      "metadata": {
        "colab": {
          "base_uri": "https://localhost:8080/"
        },
        "id": "FowHTJ31HUfA",
        "outputId": "33b3e8dc-0638-4e88-c334-f34461ed4bdb"
      },
      "execution_count": null,
      "outputs": [
        {
          "output_type": "stream",
          "name": "stdout",
          "text": [
            "Rajniesh Duggall\n",
            "Sharman Joshi\n",
            "Vicky Ahuja\n",
            "Manoj Bajpayee\n",
            "Arjun Kapoor\n",
            "Barun Sobti\n",
            "Salil Acharya\n",
            "Naseeruddin Shah\n",
            "Aamir Khan\n",
            "Aisha Ahmed\n",
            "Soha Ali Khan\n",
            "Akshaye Khanna\n",
            "Neil Nitin Mukesh\n",
            "Sara Arjun\n",
            "Nargis Fakhri\n",
            "Mouli Ganguly\n",
            "Vipin Sharma\n",
            "Priyanka Chopra\n",
            "Juhi Chawla\n",
            "Atul Kulkarni\n",
            "Kunal Khemu\n",
            "Shawar Ali\n",
            "Kiran Bhatia\n",
            "Shabana Azmi\n",
            "Jimmy Sheirgill\n",
            "Tiger Shroff\n",
            "Sidharth Malhotra\n",
            "Prabhu Deva\n",
            "Neil Nitin Mukesh\n",
            "Govinda\n",
            "Naveen Bawa\n",
            "Amitabh Bachchan\n",
            "Shreyas Talpade\n",
            "Sudesh Berry\n",
            "Madhuri Dixit\n",
            "Paul Sidhu\n",
            "Ajay Devgn\n",
            "Omkar Das Manikpuri\n",
            "Shatrughan Sinha\n",
            "Arun Bakshi\n",
            "Amitabh Bachchan\n",
            "Himesh Reshammiya\n",
            "Akshaye Khanna\n",
            "Priyanshu Chatterjee\n",
            "Amitabh Bachchan\n",
            "John Abraham\n",
            "Emraan Hashmi\n",
            "Aditya Roy Kapoor\n",
            "Ishaan Manhaas\n",
            "Hrishitaa Bhatt\n",
            "Sachiin Joshi\n",
            "Nana Patekar\n",
            "Amitabh Bachchan\n",
            "Farooq Shaikh\n",
            "Fardeen Khan\n",
            "Prabhas\n",
            "Akshay Kumar\n",
            "Rahul Dev\n",
            "Ranbir Kapoor\n",
            "Amitabh Bachchan\n",
            "Kareena Kapoor\n",
            "Tusshar Kapoor\n",
            "Hrithik Roshan\n",
            "Jimmy Sheirgill\n",
            "Abhay Deol\n",
            "Akshay Kumar\n",
            "Rati Agnihotri\n",
            "Yashpal Sharma\n",
            "Akshay Kumar\n",
            "Sidharth Malhotra\n",
            "Rani Mukerji\n",
            "Jackky Bhagnani\n",
            "Ranbir Kapoor\n",
            "Sushama Deshpande\n",
            "Kartik Aaryan\n",
            "Emraan Hashmi\n",
            "Zareen Khan\n",
            "Amitabh Bachchan\n",
            "Akshay Kapoor\n",
            "Manav Kaul\n",
            "Sukhesh Arora\n",
            "Rishi Kapoor\n",
            "Sanjay Dutt\n",
            "Varun Bhagwat\n",
            "Bipasha Basu\n",
            "Aftab Shivdasani\n",
            "Lillete Dubey\n",
            "Ali Asgar\n",
            "Vir Das\n",
            "Pankaj Tripathi\n",
            "Dino Morea\n",
            "Akshay Kumar\n",
            "Akshay Kumar\n",
            "Ayushmann Khurrana\n",
            "Sumit Arora\n",
            "Priyanka Chopra\n",
            "Manisha Koirala\n",
            "Aftab Shivdasani\n",
            "Sanjay Mishra\n",
            "Kay Kay Menon\n",
            "Shashank Udapurkar\n",
            "Raj Singh Chaudhary\n",
            "Sanjay Dutt\n",
            "Sachin Khedekar\n",
            "Nauheed Cyrusi\n",
            "Ajay Devgn\n",
            "Rohit Roy\n",
            "Irrfan Khan\n",
            "Bobby Darling\n",
            "Dharmendra\n",
            "Diljit Dosanjh\n",
            "Yudhveer Bakoliya\n",
            "Amitabh Bachchan\n",
            "Ayushmann Khurrana\n",
            "Sohail Khan\n",
            "Arjun Rampal\n",
            "Asrani\n",
            "Krishna Abhishek\n",
            "Arjun Kapoor\n",
            "Prakash Belawadi\n",
            "Akshay Kumar\n",
            "Emraan Hashmi\n",
            "Emraan Hashmi\n",
            "Shadab Kamal\n",
            "Mithun Chakraborty\n",
            "Amitabh Bachchan\n",
            "Shraddha Kapoor\n",
            "Tiger Shroff\n",
            "Sidharth Malhotra\n",
            "Anisa Butt\n",
            "Jackie Shroff\n",
            "Radhika Apte\n",
            "Sahil Anand\n",
            "Sudha Chandran\n",
            "Nawazuddin Siddiqui\n",
            "Akshay Kumar\n",
            "Manoj Babani\n",
            "Rekha\n",
            "Ranbir Kapoor\n",
            "Ayushmann Khurrana\n",
            "Amitabh Bachchan\n",
            "Varun Dhawan\n",
            "Annu Kapoor\n",
            "Sidhant Gupta\n",
            "Varun Dhawan\n",
            "Amitabh Bachchan\n",
            "Tusshar Kapoor\n",
            "Ranveer Singh\n",
            "Salman Khan\n",
            "Ayushmann Khurrana\n",
            "Asrani\n",
            "Urmila Matondkar\n",
            "Ranveer Singh\n",
            "Manisha Kelkar\n",
            "Hrithik Roshan\n",
            "Jacqueline Fernandez\n",
            "Riteish Deshmukh\n",
            "Riteish Deshmukh\n",
            "Naseeruddin Shah\n",
            "Bobby Deol\n",
            "Ayushmann Khurrana\n",
            "Ranbir Kapoor\n",
            "Sara Loren\n",
            "Bobby Deol\n",
            "Juhi Chawla\n",
            "Sadashiv Amrapurkar\n",
            "John Abraham\n",
            "Vicky Ahuja\n",
            "Shahid Kapoor\n",
            "Reshmi Ghosh\n",
            "Amitabh Bachchan\n",
            "Vaani Kapoor\n",
            "Amitabh Bachchan\n",
            "Rajkummar Rao\n",
            "Sunny Leone\n",
            "Naseeruddin Shah\n",
            "Anil Kapoor\n",
            "Ayushmann Khurrana\n",
            "Ishaan Khattar\n",
            "Mugdha Godse\n",
            "Kunal Khemu\n",
            "Farhan Akhtar\n",
            "Akshay Kumar\n",
            "Tabu\n",
            "Sunny Deol\n",
            "Shaurya Singh\n",
            "Harshvardhan Kapoor\n",
            "Vinay Pathak\n",
            "Vinay Pathak\n",
            "Ali Asgar\n",
            "Akshay Kumar\n",
            "Sunny Leone\n",
            "Ajay Devgn\n",
            "J.D. Chakravarthi\n",
            "Jackie Shroff\n",
            "Amitabh Bachchan\n",
            "Amitabh Bachchan\n",
            "Mischa Barton\n",
            "Dino Morea\n",
            "Sunny Deol\n",
            "Irrfan Khan\n",
            "Naushaad Abbas\n",
            "Danny Denzongpa\n",
            "Pulkit Samrat\n",
            "Amitabh Bachchan\n",
            "Kay Kay Menon\n",
            "Ajay Devgn\n",
            "Jazzy Doe\n",
            "Manish Chaudhary\n",
            "Akash\n",
            "Akshay Kumar\n",
            "Abhishek Bachchan\n",
            "Vidya Balan\n",
            "Salman Khan\n",
            "Amitabh Bachchan\n",
            "Raima Sen\n",
            "Radhika Apte\n",
            "Rani Mukerji\n",
            "Ranbir Kapoor\n",
            "Shreyas Talpade\n",
            "Sunil Pal\n",
            "Amitabh Bachchan\n",
            "Sanjay Dutt\n",
            "Akshay Kumar\n",
            "Shashank Arora\n",
            "Deepika Padukone\n",
            "Vinay Virmani\n",
            "Arjun Mathur\n",
            "Akshay Kumar\n",
            "Apoorva Arora\n",
            "Mona Ambegaonkar\n",
            "Aanchal Dwivedi\n",
            "Saayli Buva\n",
            "Saif Ali Khan\n",
            "Kavin Dave\n",
            "Atul Kulkarni\n",
            "Seema Azmi\n",
            "Abhishek Bachchan\n",
            "Neil Nitin Mukesh\n",
            "Tusshar Kapoor\n",
            "Hemant Gopal\n",
            "Anil Kapoor\n",
            "Akanksha Puri\n",
            "Ajay Devgn\n",
            "Aryan Vaid\n",
            "Naseeruddin Shah\n",
            "Tusshar Kapoor\n",
            "Soha Ali Khan\n",
            "Shah Rukh Khan\n",
            "Arjun Rampal\n",
            "Asrani\n",
            "Sagar Bhangade\n",
            "Richa Chadha\n",
            "Vickrant Mahajan\n",
            "Vinay Pathak\n",
            "Shah Rukh Khan\n",
            "Kareena Kapoor\n",
            "Bobby Deol\n",
            "Shahid Kapoor\n",
            "Somesh Agarwal\n",
            "Samir Aftab\n",
            "Mithun Chakraborty\n",
            "Jimmy Sheirgill\n",
            "Dev Anand\n",
            "Anuj Saxena\n",
            "Ali Zafar\n",
            "Sanjay Dutt\n",
            "Amitabh Bachchan\n",
            "Saif Ali Khan\n",
            "Bipasha Basu\n",
            "Deepika Padukone\n",
            "Jatin Grewal\n",
            "Jimmy Sheirgill\n",
            "Rupa Bhimani\n",
            "Natalia Janoszek\n",
            "Mohammad Amir Naji\n",
            "Farooq Shaikh\n",
            "Aarav Khanna\n",
            "Parveen Kaur\n",
            "Sushmita Sen\n",
            "Rishi Kapoor\n",
            "Manoj Bajpayee\n",
            "Anil Kapoor\n",
            "Deepak Dobriyal\n",
            "Ajay Devgn\n",
            "Kareena Kapoor\n",
            "Zayed Khan\n",
            "Ashok Banthia\n",
            "Sachin Khedekar\n",
            "Rajkummar Rao\n",
            "Mithun Chakraborty\n",
            "Shreyas Talpade\n",
            "Saif Ali Khan\n",
            "Arjun Mathur\n",
            "Sunil Grover\n",
            "Vidyut Jammwal\n",
            "Vidyut Jammwal\n",
            "Ajay Devgn\n",
            "Adhvik Mahajan\n",
            "Bipasha Basu\n",
            "Vira Sathidar\n",
            "Swanand Kirkire\n",
            "Bipasha Basu\n",
            "Emraan Hashmi\n",
            "Randeep Hooda\n",
            "Rishi Kapoor\n",
            "Yogesh Raj Mishra\n",
            "Aditya Roy Kapoor\n",
            "Salman Khan\n",
            "Salman Khan\n",
            "Salman Khan\n",
            "Arjun Rampal\n",
            "Sunil Shetty\n",
            "Himesh Reshammiya\n",
            "Aamir Khan\n",
            "Karisma Kapoor\n",
            "Fardeen Khan\n",
            "Sameera Reddy\n",
            "Amitabh Bachchan\n",
            "Jimmy Sheirgill\n",
            "Ishrat Ali\n",
            "Neil Nitin Mukesh\n",
            "Vinay Pathak\n",
            "Yash Soni\n",
            "Akshay Kumar\n",
            "Ajay Devgn\n",
            "Aftab Shivdasani\n",
            "Rajit Kapoor\n",
            "Arvind Swamy\n",
            "Raghuvir Yadav\n",
            "Manisha Koirala\n",
            "Alia Bhatt\n",
            "Madhuri Dixit\n",
            "Amitabh Bachchan\n",
            "Akshay Kumar\n",
            "Adhyayan Suman\n",
            "Satish Kaushik\n",
            "Imran Khan\n",
            "Cary Elwes\n",
            "Waheeda Rehman\n",
            "Sanjay Dutt\n",
            "Kamal Rashid Khan\n",
            "Akshay Kumar\n",
            "Sasha Aagha\n",
            "Sushant Singh Rajput\n",
            "Amitabh Bachchan\n",
            "Ram Kapoor\n",
            "Shah Rukh Khan\n",
            "RJ Balaji\n",
            "Ishaan Khattar\n",
            "Sanjay Dutt\n",
            "Krrish Chhabria\n",
            "Naseeruddin Shah\n",
            "Pankaj Kapur\n",
            "Ajay Devgn\n",
            "Prateik\n",
            "Muzamil Ibrahim\n",
            "Sharman Joshi\n",
            "Abhishek Bachchan\n",
            "Hrithik Roshan\n",
            "Aamir Khan\n",
            "Paresh Rawal\n",
            "Om Puri\n",
            "Amar Upadhyaya\n",
            "Sushant Singh Rajput\n",
            "Vikaas Kalantari\n",
            "Shahid Kapoor\n",
            "Anil Kapoor\n",
            "Emraan Hashmi\n",
            "Imaaduddin Shah\n",
            "Amitabh Bachchan\n",
            "Himansh Kohli\n",
            "Taapsee Pannu\n",
            "Arjun Rampal\n",
            "Irrfan Khan\n",
            "Shahid Kapoor\n",
            "Salman Khan\n",
            "Kapil Jhaveri\n",
            "Ajay Devgn\n",
            "Zeenat Aman\n",
            "Ira Dubey\n",
            "Shah Rukh Khan\n",
            "Rajniesh Duggall\n",
            "Anupam Kher\n",
            "Harman Baweja\n",
            "John Abraham\n",
            "Rishi Kapoor\n",
            "Kajal Aggarwal\n",
            "Adil Hussain\n",
            "Jackie Shroff\n",
            "Malaika Arora\n",
            "Shah Rukh Khan\n",
            "Shah Rukh Khan\n",
            "Mithun Chakraborty\n",
            "Rishi Kapoor\n",
            "Ronit Roy\n",
            "Ayesha Takia\n",
            "Abhishek Bachchan\n",
            "Akshay Kumar\n",
            "Ayesha Jhulka\n",
            "Sanjay Dutt\n",
            "Ayushmann Khurrana\n",
            "Aseel Adel\n",
            "Ajay Devgn\n",
            "Jayshree Arora\n",
            "Diwakar Pathak\n",
            "Sushmita Sen\n",
            "Vivek Oberoi\n",
            "Ayushmann Khurrana\n",
            "Abhishek Bachchan\n",
            "Zeenat Aman\n",
            "Sanjay Dutt\n",
            "Arbaaz Khan\n",
            "Raj Tara\n",
            "Amitabh Bachchan\n",
            "Nandita Das\n",
            "Sanjay Dutt\n",
            "Abhay Deol\n",
            "Rahul Bose\n",
            "Shiv Darshan\n",
            "Saif Ali Khan\n",
            "Jimmy Sharma\n",
            "Fardeen Khan\n",
            "Kareena Kapoor\n",
            "Sunny Leone\n",
            "Sunil Shetty\n",
            "Anita\n",
            "Bhushan Agarwal\n",
            "Salman Khan\n",
            "Emraan Hashmi\n",
            "Hema Malini\n",
            "Sidharth Malhotra\n",
            "Isha Koppikar\n",
            "Bobby Deol\n",
            "Prateik\n",
            "Anupam Kher\n",
            "Amitabh Bachchan\n",
            "Arjun Rampal\n",
            "Sunil Shetty\n",
            "Sridevi\n",
            "Akshay Kumar\n",
            "Manisha Koirala\n",
            "Mona Ambegaonkar\n",
            "Arshad Warsi\n",
            "Amitabh Bachchan\n",
            "Jimmy Sheirgill\n",
            "Arjun Rampal\n",
            "Shah Rukh Khan\n",
            "Aamir Khan\n",
            "Shilpa Shetty Kundra\n",
            "Priyanka Chopra\n",
            "Gul Panag\n",
            "Sharman Joshi\n",
            "Rajeev Khandelwal\n",
            "Kareena Kapoor\n",
            "Sunil Shetty\n",
            "Sharib Hashmi\n",
            "Deepika Padukone\n",
            "Inaamulhaq\n",
            "Kapil Sharma\n",
            "Aditya Roy Kapoor\n",
            "Jayesh Raj\n",
            "Reef Karim\n",
            "Shahid Kapoor\n",
            "Aftab Shivdasani\n",
            "John Abraham\n",
            "John Abraham\n",
            "Arjun Rampal\n",
            "Arshad Warsi\n",
            "Nawazuddin Siddiqui\n",
            "Avinash Dhyani\n",
            "Bidita Bag\n",
            "Atmaram Bhende\n",
            "Govinda\n",
            "Shubham\n",
            "Jimmy Sheirgill\n",
            "Pulkit Samrat\n",
            "Pulkit Samrat\n",
            "Siddharth Koirala\n",
            "Rushali Arora\n",
            "Rajveer Ankur Singh\n",
            "Akshay Kumar\n",
            "Akshay Kumar\n",
            "Manoj Bajpayee\n",
            "Abhishek Bachchan\n",
            "Akshaye Khanna\n",
            "Sharman Joshi\n",
            "Ajay Devgn\n",
            "Sarita Joshi\n",
            "Manoj Bajpayee\n",
            "Manoj Bajpayee\n",
            "Kangana Ranaut\n",
            "Akshay Kumar\n",
            "Salman Khan\n",
            "Naresh Sharma\n",
            "Mohan Azaad\n",
            "Tusshar Kapoor\n",
            "Utkarsh Sharma\n",
            "Aamir Khan\n",
            "Vidya Balan\n",
            "Sunny Deol\n",
            "Shiney Ahuja\n",
            "Sanaya Irani\n",
            "Riya Vij\n",
            "Isha Koppikar\n",
            "Pankaj Tripathi\n",
            "Gautam Gupta\n",
            "Saif Ali Khan\n",
            "John Abraham\n",
            "Amitabh Bachchan\n",
            "Akshay Kumar\n",
            "Ranveer Singh\n",
            "Dimple Kapadia\n",
            "Ajay Devgn\n",
            "Ajay Devgn\n",
            "Ajay Devgn\n",
            "Deepika Amin\n",
            "Tusshar Kapoor\n",
            "Akshay Kumar\n",
            "Imran Khan\n",
            "Vinay Pathak\n",
            "Vivek Oberoi\n",
            "Urvashi Rautela\n",
            "Vikram Dasu\n",
            "Kunal Khemu\n",
            "Arshad Warsi\n",
            "Kartik Aaryan\n",
            "Madhuri Dixit\n",
            "Kay Kay Menon\n",
            "Sampat Pal Devi\n",
            "Ranveer Singh\n",
            "Dino Morea\n",
            "Ranveer Singh\n",
            "Mithun Chakraborty\n",
            "Hrithik Roshan\n",
            "Amita Pathak\n",
            "Jimmy Sheirgill\n",
            "Sahil Anand\n",
            "Tabu\n",
            "Shraddha Kapoor\n",
            "Paoli Dam\n",
            "Ajay Devgn\n",
            "Rajkummar Rao\n",
            "Talha Arshad Reshi\n",
            "Mukesh Khanna\n",
            "Diana Penty\n",
            "Saif Ali Khan\n",
            "Anay\n",
            "Shah Rukh Khan\n",
            "Sonakshi Sinha\n",
            "Nawazuddin Siddiqui\n",
            "Jackie Shroff\n",
            "Sidharth Malhotra\n",
            "Shraddha Kapoor\n",
            "Jimmy Sheirgill\n",
            "Nikhil Dwivedi\n",
            "Jay Bhanushali\n",
            "Lee Byford\n",
            "Nana Patekar\n",
            "Akshay Kumar\n",
            "Mimoh Chakraborty\n",
            "Aniket Vishwasrao\n",
            "Tabu\n",
            "Makrand Deshpande\n",
            "Naman Jain\n",
            "Shawar Ali\n",
            "Babbu Mann\n",
            "Kay Kay Menon\n",
            "Adhyayan Suman\n",
            "Kajol\n",
            "Sharman Joshi\n",
            "Gul Panag\n",
            "Bobby Deol\n",
            "Suraj Pancholi\n",
            "Sohail Khan\n",
            "Kareena Kapoor\n",
            "Tiger Shroff\n",
            "Ganesh Acharya\n",
            "Juanna Sanghvi\n",
            "Rani Mukerji\n",
            "Sumeet Vyas\n",
            "Alia Bhatt\n",
            "Ajay Devgn\n",
            "Gurmeet Ram Rahim Singh\n",
            "Irrfan Khan\n",
            "Mallika Sherawat\n",
            "Onjolee Nair\n",
            "Akshay Kumar\n",
            "Vivek Oberoi\n",
            "Ranvir Shorey\n",
            "Zara Sheikh\n",
            "Naseeruddin Shah\n",
            "Karan Kundrra\n",
            "Vatsal Sheth\n",
            "Adil Hussain\n",
            "Akshay Kumar\n",
            "Akshay Kumar\n",
            "Akshay Kumar\n",
            "Akshaye Khanna\n",
            "Prit Kamani\n",
            "Anupam Kher\n",
            "Saif Ali Khan\n",
            "Arshad Warsi\n",
            "Tusshar Kapoor\n",
            "Shah Rukh Khan\n",
            "Karanvir Bohra\n",
            "Akshay Kumar\n",
            "Arjun Rampal\n",
            "Omkar Bhatkar\n",
            "Varun Dhawan\n",
            "Saif Ali Khan\n",
            "Akshaye Khanna\n",
            "Gulshan Devaiah\n",
            "Tisca Chopra\n",
            "Juhi Chawla\n",
            "Gulshan Grover\n",
            "Imran Khan\n",
            "Shakti Anand\n",
            "Sunny Deol\n",
            "Sohail Khan\n",
            "Arjun Rampal\n",
            "Vivek Sudershan\n",
            "Arjun Kapoor\n",
            "Jaz Pandher\n",
            "Kirti Kulhari\n",
            "Arjun Rampal\n",
            "Dino Morea\n",
            "Akshay Kumar\n",
            "Ashmit Patel\n",
            "Manoj Bajpayee\n",
            "Shreyas Talpade\n",
            "Amarjeet\n",
            "Naseeruddin Shah\n",
            "Madhavan\n",
            "Arjun Kapoor\n",
            "Preity Zinta\n",
            "Sara Loren\n",
            "Krishna Chaturvedi\n",
            "Dino Morea\n",
            "Rishi Verma\n",
            "Shahid Kapoor\n",
            "Mimoh Chakraborty\n",
            "Manish Anand\n",
            "Vidya Balan\n",
            "Akshay Oberoi\n",
            "Vinay Pathak\n",
            "Prateik\n",
            "Sanjeev Bhaskar\n",
            "Rina Charaniya\n",
            "Sunny Deol\n",
            "Salman Khan\n",
            "Aftab Shivdasani\n",
            "Priyanka Chopra\n",
            "Akshay Anand\n",
            "Shah Rukh Khan\n",
            "Shah Rukh Khan\n",
            "Shahid Kapoor\n",
            "Sidharth Malhotra\n",
            "Amit Sadh\n",
            "Naseeruddin Shah\n",
            "Ranbir Kapoor\n",
            "Govinda\n",
            "Chiranjeevi\n",
            "Priyanka Chopra\n",
            "Salman Khan\n",
            "Rati Agnihotri\n",
            "Fardeen Khan\n",
            "Manoj Bajpayee\n",
            "Javed Jaffrey\n",
            "Purab Kohli\n",
            "Rhea Chakraborty\n",
            "Harish Chabbra\n",
            "Mohit Ahlawat\n",
            "Feroz Khan\n",
            "Emraan Hashmi\n",
            "Amardeep Insan\n",
            "Emraan Hashmi\n",
            "Vivek Oberoi\n",
            "Aishwarya Rai Bachchan\n",
            "Ravi Kishan\n",
            "Arbaaz Khan\n",
            "Boman Irani\n",
            "Sanjay Suri\n",
            "Abhishek Bachchan\n",
            "John Abraham\n",
            "Rishi Kapoor\n",
            "Richa Chadha\n",
            "Harshvardhan Deo\n",
            "Nassar Abdulla\n",
            "Mimoh Chakraborty\n",
            "Bipasha Basu\n",
            "Sunny Deol\n",
            "Sunny Gill\n",
            "Hrithik Roshan\n",
            "Bipasha Basu\n",
            "Victor Banerjee\n",
            "Naseeruddin Shah\n",
            "Dharmendra\n",
            "Akshay Kumar\n",
            "Arshad Warsi\n",
            "Kangana Ranaut\n",
            "Varun Dhawan\n",
            "Sadhana Singh\n",
            "Neha Dhupia\n",
            "Nishikant Kamat\n",
            "Vidyut Jammwal\n",
            "Pulkit Samrat\n",
            "Kamal Adib\n",
            "Fardeen Khan\n",
            "Hrithik Roshan\n",
            "Vinay Pathak\n",
            "Ajay Devgn\n",
            "Saif Ali Khan\n",
            "Aditya Srivastava\n",
            "Kartik Aaryan\n",
            "Amitabh Bachchan\n",
            "Aishwarya Devan\n",
            "Amitabh Bachchan\n",
            "Shahid Kapoor\n",
            "John Abraham\n",
            "Sanjay Mishra\n",
            "Om Puri\n",
            "Vidya Balan\n",
            "Eesha Agarwal\n",
            "Rajkummar Rao\n",
            "Amit Hingorani\n",
            "Shah Rukh Khan\n",
            "Varun Dhawan\n",
            "Kunal Khemu\n",
            "Shahid Kapoor\n",
            "Sidharth Malhotra\n",
            "John Abraham\n",
            "Mahek Chahal\n",
            "Shiv Darshan\n",
            "Rati Agnihotri\n",
            "Siddhartha Gupta\n",
            "Irrfan Khan\n",
            "Himesh Reshammiya\n",
            "Lucky Ali\n",
            "Juhi Babbar\n",
            "Suhaas Ahuja\n",
            "Raqesh Bapat\n",
            "Kunal Kapoor\n",
            "Shahbaaz Khan\n",
            "Akshay Kumar\n",
            "Vinay Pathak\n",
            "Amitabh Bachchan\n",
            "Kiron Kher\n",
            "Shilpa Shetty Kundra\n",
            "Prabhu Deva\n",
            "Gurmeet Choudhary\n",
            "Rahul Jaiswal\n",
            "Akshay Kumar\n",
            "Hazel Croney\n",
            "Sunny Deol\n",
            "Supriya Pathak\n",
            "Sonam Kapoor\n",
            "Anupam Kher\n",
            "Shiney Ahuja\n",
            "Sunny Deol\n",
            "Fardeen Khan\n",
            "Simer Motiani\n",
            "Himanshu Malik\n",
            "Amitabh Bachchan\n",
            "Salman Khan\n",
            "Ranveer Singh\n",
            "Mallika Sherawat\n",
            "Kapil Sharma\n",
            "Jackie Shroff\n",
            "Bobby Deol\n",
            "Shahid Kapoor\n",
            "Vivek Oberoi\n",
            "Vivek Oberoi\n",
            "Arshad Warsi\n",
            "Hrithik Roshan\n",
            "Sanjay Dutt\n",
            "Aftab Shivdasani\n",
            "Dia Mirza\n",
            "Rekha\n",
            "Kannan Arunachalam\n",
            "Juhi Chawla\n",
            "Manoj Bajpayee\n",
            "Sohail Khan\n",
            "Rekha\n",
            "Shefali Shah\n",
            "Tusshar Kapoor\n",
            "Ram Kapoor\n",
            "Aishwarya Rai Bachchan\n",
            "Geetanjali Thapa\n",
            "Arshad Warsi\n",
            "Rekha\n",
            "Siddharth Gupta\n",
            "Lewis Tan\n",
            "Rajpal Yadav\n",
            "Vijay Raaz\n",
            "Tusshar Kapoor\n",
            "Tusshar Kapoor\n",
            "Tusshar Kapoor\n",
            "Riteish Deshmukh\n",
            "Salman Khan\n",
            "Amitabh Bachchan\n",
            "Sanjay Dutt\n",
            "Rani Mukerji\n",
            "Randeep Hooda\n",
            "Ranveer Singh\n",
            "Neil Nitin Mukesh\n",
            "Sanjay Dutt\n",
            "Farooq Shaikh\n",
            "Avinash Tiwary\n",
            "Sunny Deol\n",
            "Monali Thakur\n",
            "Hrithik Roshan\n",
            "Sanjay Dutt\n",
            "Armaan Jain\n",
            "Rituparna Sengupta\n",
            "Manoj Amarnani\n",
            "Kay Kay Menon\n",
            "Aftab Shivdasani\n",
            "Govinda\n",
            "Dharmendra\n",
            "Aahana Kumra\n",
            "Farooq Shaikh\n",
            "John Abraham\n",
            "Himanshu Bhatt\n",
            "Shabana Azmi\n",
            "Salman Khan\n",
            "Ranveer Singh\n",
            "Saif Ali Khan\n",
            "Zayed Khan\n",
            "Patralekhaa Paul\n",
            "Rishi Kapoor\n",
            "Nushrat Bharucha\n",
            "Anuj Sachdeva\n",
            "Abhishek Bharate\n",
            "Harman Baweja\n",
            "Tusshar Kapoor\n",
            "Joy Mukherjee\n",
            "Vicky Kaushal\n",
            "Girish Taurani\n",
            "Mithun Chakraborty\n",
            "Farhan Akhtar\n",
            "Adhyayan Suman\n",
            "Farhan Akhtar\n",
            "Arvinder Bhatti\n",
            "Salman Khan\n",
            "V. Ravichandran\n",
            "Tanuj Virwani\n",
            "Tom Alter\n",
            "Sushant Singh Rajput\n",
            "Menekka Arora\n",
            "Charanpreet Insan\n",
            "Gurmeet Ram Rahim Singh\n",
            "Ashok Insan\n",
            "Mallika Sherawat\n",
            "Raveena Tandon\n",
            "Sumit Nijhawan\n",
            "Swara Bhaskar\n",
            "Kiara Advani\n",
            "Saahil Prem\n",
            "Irrfan Khan\n",
            "Rajkummar Rao\n",
            "Bipasha Basu\n",
            "John Abraham\n",
            "Sooraj Balaji\n",
            "Asha Bhosle\n",
            "Ajay Devgn\n",
            "Barun Sobti\n",
            "Salman Khan\n",
            "Shah Rukh Khan\n",
            "Smitha Gondkar\n",
            "Juhi Chawla\n",
            "Antara Mali\n",
            "Rajpal Yadav\n",
            "Hrithik Roshan\n",
            "Varun Dhawan\n",
            "Anupam Kher\n",
            "Salman Khan\n",
            "Paresh Rawal\n",
            "Akanksha\n",
            "Aamir Khan\n",
            "Kangana Ranaut\n",
            "Nawazuddin Siddiqui\n",
            "Anjori Alagh\n",
            "Taapsee Pannu\n",
            "Abhay Deol\n",
            "Nawazuddin Siddiqui\n",
            "Rajat Kapoor\n",
            "Irrfan Khan\n",
            "Abhimanyu Dasani\n",
            "Rani Mukerji\n",
            "Rani Mukerji\n",
            "Kalki Koechlin\n",
            "Salman Khan\n",
            "Riteish Deshmukh\n",
            "Manisha Koirala\n",
            "Archana Joglekar\n",
            "Priyanka Chopra\n",
            "Richa Chadha\n",
            "Aftab Shivdasani\n",
            "Tusshar Kapoor\n",
            "Rahul Bagga\n",
            "Imran Khan\n",
            "Tulip Joshi\n",
            "Shahid Kapoor\n",
            "Sonu Sood\n",
            "Tabu\n",
            "Anupam Kher\n",
            "Jaideep Ahlawat\n",
            "Puru Chibber\n",
            "Deepti Naval\n",
            "Prabhu Deva\n",
            "Paresh Rawal\n",
            "Imran Khan\n",
            "Saqib Saleem\n",
            "Sunil Shetty\n",
            "Yash Acharya\n",
            "Akshay Kumar\n",
            "Rasika Agashe\n",
            "Akshay Kumar\n",
            "Ayushmann Khurrana\n",
            "Manish Paul\n",
            "Kareena Kapoor\n",
            "Chirag Paswan\n",
            "Arunoday Singh\n",
            "Harshvardhan Kapoor\n",
            "Rahul Bagga\n",
            "Manoj Bajpayee\n",
            "Vivek Oberoi\n",
            "Akshay Kumar\n",
            "Jackky Bhagnani\n",
            "Hazel Croney\n",
            "Neha Dhupia\n",
            "Sunny Deol\n",
            "Hrithik Roshan\n",
            "Sridevi\n",
            "Govinda\n",
            "Ashutosh Rana\n",
            "Vijay Varma\n",
            "Shabana Azmi\n",
            "Nawazuddin Siddiqui\n",
            "Saurav Chakraborty\n",
            "Dev Anand\n",
            "Anupam Kher\n",
            "Prashant Narayanan\n",
            "Emraan Hashmi\n",
            "Anil Kapoor\n",
            "Prithviraj Kapoor\n",
            "Saqib Saleem\n",
            "Salman Khan\n",
            "Sammir Dattani\n",
            "Viineet Kumar\n",
            "Taapsee Pannu\n",
            "Karanvir Bohra\n",
            "Shakti Kapoor\n",
            "Shiv Panditt\n",
            "Mohsin\n",
            "Rahul Bose\n",
            "Paresh Rawal\n",
            "Linda Arsenio\n",
            "Abhishek Bachchan\n",
            "Alieesa P Badresia\n",
            "Kiron Kher\n",
            "Sanjay Dutt\n",
            "Tiger Shroff\n",
            "Sanjay Singh\n",
            "Mallika Sherawat\n",
            "Emraan Hashmi\n",
            "Randeep Hooda\n",
            "Anil Kapoor\n",
            "Aftab Shivdasani\n",
            "Nora Fatehi\n",
            "Jason Lewis\n",
            "Sanjay Suri\n",
            "Prateik\n",
            "Shah Rukh Khan\n",
            "Anil Kapoor\n",
            "Auroshika Dey\n",
            "Anushka Sharma\n",
            "Om Puri\n",
            "Antara Mali\n",
            "Taapsee Pannu\n",
            "Urmila Matondkar\n",
            "Sunny Deol\n",
            "Arjun Kapoor\n",
            "Akshay Kumar\n",
            "Dwij Yadav\n",
            "Abhay Deol\n",
            "Bobby Deol\n",
            "Poonam Pandey\n",
            "Govinda\n",
            "Ayushmann Khurrana\n",
            "Dharmesh Yelande\n",
            "Vikas Kalantri\n",
            "Uday Chopra\n",
            "Sonam Kapoor\n",
            "Sanjay Dutt\n",
            "Vinay Anand\n",
            "John Abraham\n",
            "Rajkummar Rao\n",
            "Swara Bhaskar\n",
            "Ashmit Patel\n",
            "Amitabh Bachchan\n",
            "Anil Kapoor\n",
            "Rani Mukerji\n",
            "Sanjay Dutt\n",
            "John Abraham\n",
            "Sunny Leone\n",
            "Deepak Dobriyal\n",
            "Zaheer Iqbal\n",
            "Madhavan\n",
            "Pulkit Samrat\n",
            "Paresh Rawal\n",
            "Varun Dhawan\n",
            "Vinay Pathak\n",
            "Shraddha Kapoor\n",
            "Attin Bhalla\n",
            "Shah Rukh Khan\n",
            "Gopi Desai\n",
            "Rajkummar Rao\n",
            "Ajay Devgn\n",
            "Ajay Devgn\n",
            "Akshay Kumar\n",
            "Anupam Kher\n",
            "Tusshar Kapoor\n",
            "Abhay Deol\n",
            "Riteish Deshmukh\n",
            "Abhay Deol\n",
            "Meenakshi Dixit\n",
            "Bhavesh Kumar\n",
            "Aamir Khan\n",
            "Boman Irani\n",
            "Amitabh Bachchan\n",
            "Irrfan Khan\n",
            "Nassar Abdulla\n",
            "John Abraham\n",
            "Nana Patekar\n",
            "Deepika Padukone\n",
            "Sunil Shetty\n",
            "Kriti Kharbanda\n",
            "Konkona Sen Sharma\n",
            "Shah Rukh Khan\n",
            "Manisha Koirala\n",
            "Karan Deol\n",
            "Jackie Shroff\n",
            "Nayna Bandhopadhyay\n",
            "Bipasha Basu\n",
            "Mohinder Gujral\n",
            "Tannishtha Chatterjee\n",
            "Saif Ali Khan\n",
            "John Abraham\n",
            "Salman Khan\n",
            "Ajay Devgn\n",
            "Sanya Malhotra\n",
            "Rishi Kapoor\n",
            "Kartik Aaryan\n",
            "Rishi Kapoor\n",
            "Shreyas Talpade\n",
            "Omkar Das Manikpuri\n",
            "Vinod Khanna\n",
            "Jimmy Sheirgill\n",
            "Saif Ali Khan\n",
            "Rajat Kapoor\n",
            "Shahid Kapoor\n",
            "Rajniesh Duggall\n",
            "Anushka Sharma\n",
            "Akshay Kumar\n",
            "Mithun Chakraborty\n",
            "Salman Khan\n",
            "Radhika Apte\n",
            "Sudeep\n",
            "Nawazuddin Siddiqui\n",
            "Rahul Bagga\n",
            "Deepika Padukone\n",
            "Urmila Matondkar\n",
            "Taapsee Pannu\n",
            "Akshay Oberoi\n",
            "Sanjay Dutt\n",
            "Vinod Khanna\n",
            "Akshay Kumar\n",
            "Sanjay Dutt\n",
            "Akshay Kapoor\n",
            "Sunny Deol\n",
            "Raveena Tandon\n",
            "Chandan Roy Sanyal\n",
            "Rajeev Khandelwal\n",
            "Sanjay Dutt\n",
            "Jeetendra\n",
            "Arbaaz Khan\n",
            "Salman Khan\n",
            "Vivek Oberoi\n",
            "Tanuj Virwani\n",
            "Priyanka Chopra\n",
            "Kartik Aaryan\n",
            "Kartik Aaryan\n",
            "Rahul Bose\n",
            "Rishi Kapoor\n",
            "Fardeen Khan\n",
            "Aadar Jain\n",
            "Irrfan Khan\n",
            "Ajay Devgn\n",
            "Irrfan Khan\n",
            "Kangana Ranaut\n",
            "Rajendra Prasad\n",
            "Shah Rukh Khan\n",
            "Deepika Padukone\n",
            "Kunal Kapoor\n",
            "Dhanush\n",
            "Aamir Bashir\n",
            "Abhishek Bachchan\n",
            "Ambitab bachan\n",
            "Emraan Hashmi\n",
            "Kangana Ranaut\n",
            "Alia Bhatt\n",
            "Shah Rukh Khan\n",
            "Saif Ali Khan\n",
            "Saif Ali Khan\n",
            "Anil Kapoor\n",
            "Raj Arjun\n",
            "Vijay Raaz\n",
            "Kainaz Motivala\n",
            "Sunny Leone\n",
            "Kay Kay Menon\n",
            "Ajay Devgn\n",
            "Ajay Devgn\n",
            "Sadashiv Amrapurkar\n",
            "Emraan Hashmi\n",
            "Kangana Ranaut\n",
            "Amyra Dastur\n",
            "Sanjay Dutt\n",
            "Julia Datt\n",
            "Sahil Khan\n",
            "Shruti Haasan\n",
            "Nawazuddin Siddiqui\n",
            "Manoj Bajpayee\n",
            "Madhavan\n",
            "Naseeruddin Shah\n",
            "Manish Paul\n",
            "Soundarya Sharma\n",
            "Aamir Khan\n",
            "Randeep Hooda\n",
            "Kangana Ranaut\n",
            "Jackky Bhagnani\n",
            "Amitabh Bachchan\n",
            "Rahul Khanna\n",
            "Ajay Devgn\n",
            "Prince Shah\n",
            "Sunil Shetty\n",
            "Sherlyn Chopra\n",
            "Aftab Shivdasani\n",
            "Kashmira Shah\n",
            "Kangana Ranaut\n",
            "Kalki Koechlin\n",
            "Ankit\n",
            "Sunny Deol\n",
            "Vinod Khanna\n",
            "Garima Agarwal\n",
            "Rajesh Khanna\n",
            "Paresh Rawal\n",
            "Saif Ali Khan\n",
            "Aadil Chahal\n",
            "Farhan Akhtar\n",
            "Arjun Rampal\n",
            "Ranbir Kapoor\n",
            "Ranbir Kapoor\n",
            "John Abraham\n",
            "Irrfan Khan\n",
            "Sunny Deol\n",
            "Tanushree Dutta\n",
            "Tannishtha Chatterjee\n",
            "Arjun Rampal\n",
            "Sanjay Dutt\n",
            "Manoj Bajpayee\n",
            "Tanuja\n",
            "Abhishek Bachchan\n",
            "Arsh Bajwa\n",
            "Emraan Hashmi\n",
            "Ileana D'Cruz\n",
            "Jacqueline Fernandez\n",
            "Taapsee Pannu\n",
            "Tanima Bhattacharya\n",
            "Sonarika Bhadoria\n",
            "Vishwa Mohan Badola\n",
            "Kiron Kher\n",
            "Manoj Bajpayee\n",
            "Vivek Oberoi\n",
            "Salman Khan\n",
            "Rani Mukerji\n",
            "John Abraham\n",
            "Swara Bhaskar\n",
            "Sachin Tendulkar\n",
            "Sarika\n",
            "Karan Sharma\n",
            "Rekha\n",
            "Jimmy Sheirgill\n",
            "Sanjay Dutt\n",
            "Jimmy Sheirgill\n",
            "Anupam Kher\n",
            "Saif Ali Khan\n",
            "Salman Khan\n",
            "Zeenat Aman\n",
            "Sushmita Sen\n",
            "Rajeev Khandelwal\n",
            "Rishi Kapoor\n",
            "Govinda\n",
            "Ranbir Kapoor\n",
            "Kay Kay Menon\n",
            "Boman Irani\n",
            "Randeep Hooda\n",
            "Mahima Chaudhry\n",
            "Amitabh Bachchan\n",
            "Amitabh Bachchan\n",
            "Amitabh Bachchan\n",
            "Suraj Pancholi\n",
            "Sanjay Mishra\n",
            "Raveena Tandon\n",
            "Puneet Singh Ratn\n",
            "Amitabh Bachchan\n",
            "John Abraham\n",
            "Mandar Jadhav\n",
            "Dharmendra\n",
            "Zaira Wasim\n",
            "Akshaye Khanna\n",
            "Arshad Warsi\n",
            "Shreyas Talpade\n",
            "Sanjay Suri\n",
            "Salman Khan\n",
            "Farhan Akhtar\n",
            "Rajkummar Rao\n",
            "Fardeen Khan\n",
            "Akshaye Khanna\n",
            "Shahid Kapoor\n",
            "Aditya Narayan\n",
            "Ashish Bisht\n",
            "Sanjay Dutt\n",
            "Ashutosh Rana\n",
            "Isha Koppikar\n",
            "Nana Patekar\n",
            "Rajkummar Rao\n",
            "Kalki Koechlin\n",
            "Bobby Deol\n",
            "Amitabh Bachchan\n",
            "Emraan Hashmi\n",
            "Zayed Khan\n",
            "Tusshar Kapoor\n",
            "Tarun Arora\n",
            "Neha Dhupia\n",
            "Ajay Devgn\n",
            "Aida Elkashef\n",
            "Freny Bhagat\n",
            "Mohit Ahlawat\n",
            "Ajay Devgn\n",
            "Sanjeev Kumar\n",
            "Amitabh Bachchan\n",
            "Sendhil Ramamurthy\n",
            "Jimmy Sheirgill\n",
            "Neil Nitin Mukesh\n",
            "Jimmy Sheirgill\n",
            "Sanjay Dutt\n",
            "Tushar Jalota\n",
            "Ayushmann Khurrana\n",
            "Sushant Singh Rajput\n",
            "Anupam Kher\n",
            "Rajesh Tailang\n",
            "Parzaan Dastur\n",
            "Tabu\n",
            "Ranveer Singh\n",
            "Kangana Ranaut\n",
            "Akshay Kumar\n",
            "Akshay Kumar\n",
            "Sunny Deol\n",
            "Ajay Devgn\n",
            "Anupam Kher\n",
            "Kay Kay Menon\n",
            "Wamiqa Gabbi\n",
            "Barkha Madan\n",
            "Abhay Deol\n",
            "Ajay Devgn\n",
            "Rhea Chakraborty\n",
            "Sushant Singh Rajput\n",
            "Geetika Vidya Ohlyan\n",
            "Sunidhi Chauhan\n",
            "Kartik Aaryan\n",
            "Tinnu Anand\n",
            "Shabana Azmi\n",
            "Shamim Khan\n",
            "Mahima Chaudhry\n",
            "Rati Agnihotri\n",
            "Akshay Kumar\n",
            "Urmila Matondkar\n",
            "Tanishaa Mukerji\n",
            "Aarti Chhabria\n",
            "Partho A. Gupte\n",
            "Kanika Batra\n",
            "Jahangir Khan\n",
            "Jimmy Sheirgill\n",
            "Rajkummar Rao\n",
            "Siddharth\n",
            "Zeenat Aman\n",
            "Alia Bhatt\n",
            "Tiger Shroff\n",
            "Raveena Tandon\n",
            "Anushka Sharma\n",
            "Gurdas Maan\n",
            "Naveen Kasturia\n",
            "Salman Khan\n",
            "Ahraz Ahmed\n",
            "Ajay Devgn\n",
            "Jaya Bachchan\n",
            "Aftab Shivdasani\n",
            "Hrithik Roshan\n",
            "Ashmit Patel\n",
            "Rekha\n",
            "Shah Rukh Khan\n",
            "Manoj Bajpayee\n",
            "Himansh Kohli\n",
            "Saif Ali Khan\n",
            "Darsheel Safary\n",
            "Vatsal Sheth\n",
            "Paresh Rawal\n",
            "Victor Banerjee\n",
            "Zulfi Sayed\n",
            "Sulabha Arya\n",
            "Aamir Khan\n",
            "Rakhee Gulzar\n",
            "Irrfan Khan\n",
            "Nikhil Dwivedi\n",
            "Ajay Devgn\n",
            "Madhavan\n",
            "Kangana Ranaut\n",
            "Kangana Ranaut\n",
            "Akshay Kumar\n",
            "Sanjay Dutt\n",
            "Nana Patekar\n",
            "Amitabh Bachchan\n",
            "Amitabh Bachchan\n",
            "Om Puri\n",
            "Akshay Kumar\n",
            "Sunny Deol\n",
            "Shabana Azmi\n",
            "Dharmendra\n",
            "Neil Nitin Mukesh\n",
            "Ali Zafar\n",
            "Parthaa Akerkar\n",
            "Vinay Pathak\n",
            "Riteish Deshmukh\n",
            "Salman Khan\n",
            "Shahid Kapoor\n",
            "Arjun Kapoor\n",
            "Anil Kapoor\n",
            "Nawazuddin Siddiqui\n",
            "Akshay Kumar\n",
            "Master Shams\n",
            "Anupam Kher\n",
            "Pankaj Kapur\n",
            "Kartik Elangovan\n",
            "Nawazuddin Siddiqui\n",
            "Vidya Balan\n",
            "Nassar Abdulla\n",
            "Ranvir Shorey\n",
            "Kunaal Roy Kapur\n",
            "Rana Daggubati\n",
            "Sunny Deol\n",
            "Rahul Bose\n",
            "Shakti Kapoor\n",
            "Irrfan Khan\n",
            "Amitabh Bachchan\n",
            "Irrfan Khan\n",
            "Kal Penn\n",
            "Edwin Fernandes\n",
            "Akshay Kumar\n",
            "Mann Bagga\n",
            "Zaira Wasim\n",
            "Kay Kay Menon\n",
            "Naseeruddin Shah\n",
            "Emraan Hashmi\n",
            "Himesh Reshammiya\n",
            "Sonam Kapoor\n",
            "Bhavita Anand\n",
            "Saif Ali Khan\n",
            "Arya Babbar\n",
            "Saahil Chadha\n",
            "Aamir Khan\n",
            "Salman Khan\n",
            "Nawazuddin Siddiqui\n",
            "Nishant Dahiya\n",
            "Tabu\n",
            "Akshay Kumar\n",
            "Rakesh Bedi\n",
            "Ajay Devgn\n",
            "Ajay Devgn\n",
            "Ali Zafar\n",
            "Manoj Bajpayee\n",
            "Kunal Khemu\n",
            "Rajkummar Rao\n",
            "Vikrum Kumar\n",
            "Salman Khan\n",
            "Riteish Deshmukh\n",
            "Manisha Koirala\n",
            "Neha Sharma\n",
            "Emraan Hashmi\n",
            "Nana Patekar\n",
            "Sohum Shah\n",
            "Vidya Balan\n",
            "Emraan Hashmi\n",
            "Gul Panag\n",
            "Ajay Devgn\n",
            "Mikaal\n",
            "Rajat Barmecha\n",
            "Shahid Kapoor\n",
            "Rahul Bhat\n",
            "Sunny Singh Nijjar\n",
            "Jimmy Sheirgill\n",
            "Aishwarya Rai Bachchan\n",
            "Aashish Bhatt\n",
            "Emraan Hashmi\n",
            "Rahul Bhat\n",
            "Russell Geoffrey Banks\n",
            "Vicky Kaushal\n",
            "Vinay Pathak\n",
            "Priyanshu Chatterjee\n",
            "Mohit Baghel\n",
            "Arjun Rampal\n",
            "Bobby Deol\n",
            "Shahid Kapoor\n",
            "Vicky Ahuja\n",
            "Shikhi Gupta\n",
            "Salman Khan\n",
            "Shah Rukh Khan\n",
            "Sachiin Joshi\n",
            "Pulkit Samrat\n",
            "Kay Kay Menon\n",
            "Hugh Bonneville\n",
            "Ayushmann Khurrana\n",
            "Harman Baweja\n",
            "Vikram Aditya\n",
            "Amitabh Bachchan\n",
            "Kamal Haasan\n",
            "Shahid Kapoor\n",
            "Kay Kay Menon\n",
            "Leeza Mangaldas\n",
            "Niharica Raizada\n",
            "Rajesh Khanna\n",
            "Shreyas Talpade\n",
            "Arshad Warsi\n",
            "Naseeruddin Shah\n",
            "Sharman Joshi\n",
            "Elisha Kriis\n",
            "Ranbir Kapoor\n",
            "Salman Khan\n",
            "Amitabh Bachchan\n",
            "Sharman Joshi\n",
            "Gurdas Maan\n",
            "Nana Patekar\n",
            "Diganth\n",
            "Akshay Kumar\n",
            "Arshad Warsi\n",
            "Anil Kapoor\n",
            "Shreyas Talpade\n",
            "Boman Irani\n",
            "Manu Rishi Chadha\n",
            "Harman Baweja\n",
            "Emraan Hashmi\n",
            "Kangana Ranaut\n",
            "Sikander Kher\n",
            "Sharman Joshi\n",
            "Indrapal Ahuja\n",
            "Siddhanth Kapoor\n",
            "Prisha Aneja\n",
            "Arjun Rampal\n",
            "Nafisa Ali\n",
            "Dharmendra\n",
            "Rekha\n",
            "Tusshar Kapoor\n",
            "Deepshika Nagpal\n",
            "Anshuman Jha\n",
            "Gavie Chahal\n",
            "Ranbir Kapoor\n",
            "Anya Anand\n",
            "Shah Rukh Khan\n",
            "Anupam Kher\n",
            "Vardhan Puri\n",
            "Jackky Bhagnani\n",
            "Paresh Rawal\n",
            "Ajay Devgn\n",
            "Salman Khan\n",
            "Jeetendra\n",
            "Ajay Devgn\n",
            "Ajay Devgn\n",
            "Vinod Acharya\n",
            "Emraan Hashmi\n",
            "Shah Rukh Khan\n",
            "Mannara Chopra\n",
            "Vivek Oberoi\n",
            "Sanjay Dutt\n",
            "Sushmita Sen\n",
            "Veena Malik\n",
            "Hrithik Roshan\n",
            "Mithun Chakraborty\n",
            "Darsheel Safary\n",
            "Meghan Jadhav\n"
          ]
        }
      ]
    },
    {
      "cell_type": "code",
      "source": [
        "sub"
      ],
      "metadata": {
        "id": "UwZGoxS5KI8q",
        "colab": {
          "base_uri": "https://localhost:8080/"
        },
        "outputId": "c715e9aa-5cb7-43d9-c8e1-e6446f10a06b"
      },
      "execution_count": null,
      "outputs": [
        {
          "output_type": "execute_result",
          "data": {
            "text/plain": [
              "0       48\n",
              "1       57\n",
              "2       40\n",
              "3       43\n",
              "4       44\n",
              "      ... \n",
              "360    231\n",
              "361    226\n",
              "362    155\n",
              "363    144\n",
              "364    172\n",
              "Name: Subscribers gained, Length: 365, dtype: int64"
            ]
          },
          "metadata": {},
          "execution_count": 5
        }
      ]
    },
    {
      "cell_type": "code",
      "source": [
        "kol"
      ],
      "metadata": {
        "colab": {
          "base_uri": "https://localhost:8080/"
        },
        "id": "4zuu9URspAx6",
        "outputId": "2e743f92-d7be-4ef7-df6f-15f9f63ca170"
      },
      "execution_count": null,
      "outputs": [
        {
          "output_type": "execute_result",
          "data": {
            "text/plain": [
              "match_no\n",
              "1       1\n",
              "2      23\n",
              "3      13\n",
              "4      12\n",
              "5       1\n",
              "       ..\n",
              "211     0\n",
              "212    20\n",
              "213    73\n",
              "214    25\n",
              "215     7\n",
              "Name: runs, Length: 215, dtype: int64"
            ]
          },
          "metadata": {},
          "execution_count": 6
        }
      ]
    },
    {
      "cell_type": "code",
      "source": [
        "boll"
      ],
      "metadata": {
        "colab": {
          "base_uri": "https://localhost:8080/"
        },
        "id": "DjrMvmU6pCVJ",
        "outputId": "0d853f38-d363-4549-a34a-47b3f020b7d5"
      },
      "execution_count": null,
      "outputs": [
        {
          "output_type": "execute_result",
          "data": {
            "text/plain": [
              "movie\n",
              "Uri: The Surgical Strike                   Vicky Kaushal\n",
              "Battalion 609                                Vicky Ahuja\n",
              "The Accidental Prime Minister (film)         Anupam Kher\n",
              "Why Cheat India                            Emraan Hashmi\n",
              "Evening Shadows                         Mona Ambegaonkar\n",
              "                                              ...       \n",
              "Hum Tumhare Hain Sanam                    Shah Rukh Khan\n",
              "Aankhen (2002 film)                     Amitabh Bachchan\n",
              "Saathiya (film)                             Vivek Oberoi\n",
              "Company (film)                                Ajay Devgn\n",
              "Awara Paagal Deewana                        Akshay Kumar\n",
              "Name: lead, Length: 1500, dtype: object"
            ]
          },
          "metadata": {},
          "execution_count": 7
        }
      ]
    },
    {
      "cell_type": "code",
      "source": [
        "from re import S\n",
        "#astype\n",
        "import sys\n",
        "sys.getsizeof(kol)\n"
      ],
      "metadata": {
        "colab": {
          "base_uri": "https://localhost:8080/"
        },
        "id": "EhrGo3jOpDpi",
        "outputId": "d3709ea1-2bbb-47ea-97d7-86c954a487e7"
      },
      "execution_count": null,
      "outputs": [
        {
          "output_type": "execute_result",
          "data": {
            "text/plain": [
              "3456"
            ]
          },
          "metadata": {},
          "execution_count": 12
        }
      ]
    },
    {
      "cell_type": "code",
      "source": [
        "kol.astype('int16')"
      ],
      "metadata": {
        "colab": {
          "base_uri": "https://localhost:8080/"
        },
        "id": "OTaAc0t2pYTt",
        "outputId": "06c976b0-e506-4862-8796-3e02c879a259"
      },
      "execution_count": null,
      "outputs": [
        {
          "output_type": "execute_result",
          "data": {
            "text/plain": [
              "match_no\n",
              "1       1\n",
              "2      23\n",
              "3      13\n",
              "4      12\n",
              "5       1\n",
              "       ..\n",
              "211     0\n",
              "212    20\n",
              "213    73\n",
              "214    25\n",
              "215     7\n",
              "Name: runs, Length: 215, dtype: int16"
            ]
          },
          "metadata": {},
          "execution_count": 13
        }
      ]
    },
    {
      "cell_type": "code",
      "source": [
        "sys.getsizeof(kol.astype('int16'))"
      ],
      "metadata": {
        "colab": {
          "base_uri": "https://localhost:8080/"
        },
        "id": "BL_oNSEfp36M",
        "outputId": "a553f776-02eb-4b03-c57d-6f9ea66cdbb5"
      },
      "execution_count": null,
      "outputs": [
        {
          "output_type": "execute_result",
          "data": {
            "text/plain": [
              "2166"
            ]
          },
          "metadata": {},
          "execution_count": 15
        }
      ]
    },
    {
      "cell_type": "code",
      "source": [
        "#between\n",
        "kol[kol.between(56,100)].size"
      ],
      "metadata": {
        "colab": {
          "base_uri": "https://localhost:8080/"
        },
        "id": "iyGo45dHqTOw",
        "outputId": "e5ad8b26-d7b4-45fa-e322-34bf28921c88"
      },
      "execution_count": null,
      "outputs": [
        {
          "output_type": "execute_result",
          "data": {
            "text/plain": [
              "37"
            ]
          },
          "metadata": {},
          "execution_count": 18
        }
      ]
    },
    {
      "cell_type": "code",
      "source": [
        "#clip\n",
        "sub"
      ],
      "metadata": {
        "colab": {
          "base_uri": "https://localhost:8080/"
        },
        "id": "s2UK0VY-qbWG",
        "outputId": "1752dae1-0995-465e-f155-3981ee7199ab"
      },
      "execution_count": null,
      "outputs": [
        {
          "output_type": "execute_result",
          "data": {
            "text/plain": [
              "0       48\n",
              "1       57\n",
              "2       40\n",
              "3       43\n",
              "4       44\n",
              "      ... \n",
              "360    231\n",
              "361    226\n",
              "362    155\n",
              "363    144\n",
              "364    172\n",
              "Name: Subscribers gained, Length: 365, dtype: int64"
            ]
          },
          "metadata": {},
          "execution_count": 19
        }
      ]
    },
    {
      "cell_type": "code",
      "source": [
        "sub.clip(100,200)"
      ],
      "metadata": {
        "colab": {
          "base_uri": "https://localhost:8080/"
        },
        "id": "o1LujKQmq0c-",
        "outputId": "6197ef77-e018-461a-e7aa-7944d2054215"
      },
      "execution_count": null,
      "outputs": [
        {
          "output_type": "execute_result",
          "data": {
            "text/plain": [
              "0      100\n",
              "1      100\n",
              "2      100\n",
              "3      100\n",
              "4      100\n",
              "      ... \n",
              "360    200\n",
              "361    200\n",
              "362    155\n",
              "363    144\n",
              "364    172\n",
              "Name: Subscribers gained, Length: 365, dtype: int64"
            ]
          },
          "metadata": {},
          "execution_count": 20
        }
      ]
    },
    {
      "cell_type": "code",
      "source": [
        "#drop_duplicates\n",
        "temp=pd.Series([1,1,1,2,2,3,3,4,4,5,5,6])\n",
        "temp"
      ],
      "metadata": {
        "colab": {
          "base_uri": "https://localhost:8080/"
        },
        "id": "yexU5cyyq9-6",
        "outputId": "79e79f0e-da53-4970-aa76-de62deb8e19d"
      },
      "execution_count": null,
      "outputs": [
        {
          "output_type": "execute_result",
          "data": {
            "text/plain": [
              "0     1\n",
              "1     1\n",
              "2     1\n",
              "3     2\n",
              "4     2\n",
              "5     3\n",
              "6     3\n",
              "7     4\n",
              "8     4\n",
              "9     5\n",
              "10    5\n",
              "11    6\n",
              "dtype: int64"
            ]
          },
          "metadata": {},
          "execution_count": 22
        }
      ]
    },
    {
      "cell_type": "code",
      "source": [
        "temp.drop_duplicates(keep='last')"
      ],
      "metadata": {
        "colab": {
          "base_uri": "https://localhost:8080/"
        },
        "id": "J1rqNyzbrSPR",
        "outputId": "5c33322c-779d-416d-9607-9124df0f6082"
      },
      "execution_count": null,
      "outputs": [
        {
          "output_type": "execute_result",
          "data": {
            "text/plain": [
              "2     1\n",
              "4     2\n",
              "6     3\n",
              "8     4\n",
              "10    5\n",
              "11    6\n",
              "dtype: int64"
            ]
          },
          "metadata": {},
          "execution_count": 24
        }
      ]
    },
    {
      "cell_type": "code",
      "source": [
        "boll.drop_duplicates()"
      ],
      "metadata": {
        "colab": {
          "base_uri": "https://localhost:8080/"
        },
        "id": "O3y5SmiZrae2",
        "outputId": "bddafc70-2701-4090-dfac-ea2f80498d1c"
      },
      "execution_count": null,
      "outputs": [
        {
          "output_type": "execute_result",
          "data": {
            "text/plain": [
              "movie\n",
              "Uri: The Surgical Strike                   Vicky Kaushal\n",
              "Battalion 609                                Vicky Ahuja\n",
              "The Accidental Prime Minister (film)         Anupam Kher\n",
              "Why Cheat India                            Emraan Hashmi\n",
              "Evening Shadows                         Mona Ambegaonkar\n",
              "                                              ...       \n",
              "Sssshhh...                              Tanishaa Mukerji\n",
              "Rules: Pyaar Ka Superhit Formula                  Tanuja\n",
              "Right Here Right Now (film)                        Ankit\n",
              "Talaash: The Hunt Begins...                Rakhee Gulzar\n",
              "The Pink Mirror                          Edwin Fernandes\n",
              "Name: lead, Length: 566, dtype: object"
            ]
          },
          "metadata": {},
          "execution_count": 25
        }
      ]
    },
    {
      "cell_type": "code",
      "source": [
        "temp.duplicated()"
      ],
      "metadata": {
        "colab": {
          "base_uri": "https://localhost:8080/"
        },
        "id": "j6a-7_gHrxE-",
        "outputId": "beafaa0e-5bc9-401d-8ac5-14b7010ea76f"
      },
      "execution_count": null,
      "outputs": [
        {
          "output_type": "execute_result",
          "data": {
            "text/plain": [
              "0     False\n",
              "1      True\n",
              "2      True\n",
              "3     False\n",
              "4      True\n",
              "5     False\n",
              "6      True\n",
              "7     False\n",
              "8      True\n",
              "9     False\n",
              "10     True\n",
              "11    False\n",
              "dtype: bool"
            ]
          },
          "metadata": {},
          "execution_count": 26
        }
      ]
    },
    {
      "cell_type": "code",
      "source": [
        "temp.duplicated().sum()"
      ],
      "metadata": {
        "colab": {
          "base_uri": "https://localhost:8080/"
        },
        "id": "BY1rnU9Yr48-",
        "outputId": "1685ff38-fc99-43f2-8424-461cd1bc9c6a"
      },
      "execution_count": null,
      "outputs": [
        {
          "output_type": "execute_result",
          "data": {
            "text/plain": [
              "6"
            ]
          },
          "metadata": {},
          "execution_count": 27
        }
      ]
    },
    {
      "cell_type": "code",
      "source": [
        "kol.duplicated().sum()"
      ],
      "metadata": {
        "colab": {
          "base_uri": "https://localhost:8080/"
        },
        "id": "LwbI4OvdsAjG",
        "outputId": "c2131aa9-34f1-4055-cd15-7f330a1193d2"
      },
      "execution_count": null,
      "outputs": [
        {
          "output_type": "execute_result",
          "data": {
            "text/plain": [
              "137"
            ]
          },
          "metadata": {},
          "execution_count": 28
        }
      ]
    },
    {
      "cell_type": "code",
      "source": [
        "temp=pd.Series([1,2,3,np.nan,5,6,np.nan,8,np.nan,10])\n",
        "temp"
      ],
      "metadata": {
        "colab": {
          "base_uri": "https://localhost:8080/"
        },
        "id": "PLs01LMisG35",
        "outputId": "e073dad0-8190-41ec-9c1f-d03c4d787f05"
      },
      "execution_count": null,
      "outputs": [
        {
          "output_type": "execute_result",
          "data": {
            "text/plain": [
              "0     1.0\n",
              "1     2.0\n",
              "2     3.0\n",
              "3     NaN\n",
              "4     5.0\n",
              "5     6.0\n",
              "6     NaN\n",
              "7     8.0\n",
              "8     NaN\n",
              "9    10.0\n",
              "dtype: float64"
            ]
          },
          "metadata": {},
          "execution_count": 30
        }
      ]
    },
    {
      "cell_type": "code",
      "source": [
        "temp.size"
      ],
      "metadata": {
        "colab": {
          "base_uri": "https://localhost:8080/"
        },
        "id": "2vLK4LfKsrLO",
        "outputId": "502a0101-6390-40cb-9a2e-833627635f4f"
      },
      "execution_count": null,
      "outputs": [
        {
          "output_type": "execute_result",
          "data": {
            "text/plain": [
              "10"
            ]
          },
          "metadata": {},
          "execution_count": 32
        }
      ]
    },
    {
      "cell_type": "code",
      "source": [
        "temp.count()"
      ],
      "metadata": {
        "colab": {
          "base_uri": "https://localhost:8080/"
        },
        "id": "PWCumYbKsv5s",
        "outputId": "014eda98-44d6-4465-f206-5390d76ea1c7"
      },
      "execution_count": null,
      "outputs": [
        {
          "output_type": "execute_result",
          "data": {
            "text/plain": [
              "7"
            ]
          },
          "metadata": {},
          "execution_count": 33
        }
      ]
    },
    {
      "cell_type": "code",
      "source": [
        "#isnull\n",
        "kol.isnull().sum()"
      ],
      "metadata": {
        "colab": {
          "base_uri": "https://localhost:8080/"
        },
        "id": "o-GKfXuas58y",
        "outputId": "66975910-73aa-4ef5-f5d4-2ae5b95f7355"
      },
      "execution_count": null,
      "outputs": [
        {
          "output_type": "execute_result",
          "data": {
            "text/plain": [
              "0"
            ]
          },
          "metadata": {},
          "execution_count": 35
        }
      ]
    },
    {
      "cell_type": "code",
      "source": [
        "temp.isnull().sum()"
      ],
      "metadata": {
        "colab": {
          "base_uri": "https://localhost:8080/"
        },
        "id": "Q_UwKCRAtCOn",
        "outputId": "2415d6b6-0316-493e-996f-883aa4661d55"
      },
      "execution_count": null,
      "outputs": [
        {
          "output_type": "execute_result",
          "data": {
            "text/plain": [
              "3"
            ]
          },
          "metadata": {},
          "execution_count": 37
        }
      ]
    },
    {
      "cell_type": "code",
      "source": [
        "#dropna\n",
        "temp.dropna()"
      ],
      "metadata": {
        "colab": {
          "base_uri": "https://localhost:8080/"
        },
        "id": "-RRh7EJ8tMJm",
        "outputId": "471ed3ff-9868-4620-b4ce-207599a210b1"
      },
      "execution_count": null,
      "outputs": [
        {
          "output_type": "execute_result",
          "data": {
            "text/plain": [
              "0     1.0\n",
              "1     2.0\n",
              "2     3.0\n",
              "4     5.0\n",
              "5     6.0\n",
              "7     8.0\n",
              "9    10.0\n",
              "dtype: float64"
            ]
          },
          "metadata": {},
          "execution_count": 38
        }
      ]
    },
    {
      "cell_type": "code",
      "source": [
        "#fillna\n",
        "temp.fillna(0)"
      ],
      "metadata": {
        "colab": {
          "base_uri": "https://localhost:8080/"
        },
        "id": "hRrEpXS2tcWm",
        "outputId": "a888beaa-e262-4c88-ace0-d96db8a6271f"
      },
      "execution_count": null,
      "outputs": [
        {
          "output_type": "execute_result",
          "data": {
            "text/plain": [
              "0     1.0\n",
              "1     2.0\n",
              "2     3.0\n",
              "3     0.0\n",
              "4     5.0\n",
              "5     6.0\n",
              "6     0.0\n",
              "7     8.0\n",
              "8     0.0\n",
              "9    10.0\n",
              "dtype: float64"
            ]
          },
          "metadata": {},
          "execution_count": 39
        }
      ]
    },
    {
      "cell_type": "code",
      "source": [
        "temp.fillna(temp.mean())"
      ],
      "metadata": {
        "colab": {
          "base_uri": "https://localhost:8080/"
        },
        "id": "kb9h9OBDtmSu",
        "outputId": "2cf71421-dc70-42b8-9b6a-76c2bd89c9aa"
      },
      "execution_count": null,
      "outputs": [
        {
          "output_type": "execute_result",
          "data": {
            "text/plain": [
              "0     1.0\n",
              "1     2.0\n",
              "2     3.0\n",
              "3     5.0\n",
              "4     5.0\n",
              "5     6.0\n",
              "6     5.0\n",
              "7     8.0\n",
              "8     5.0\n",
              "9    10.0\n",
              "dtype: float64"
            ]
          },
          "metadata": {},
          "execution_count": 40
        }
      ]
    },
    {
      "cell_type": "code",
      "source": [
        "# isin\n",
        "kol[(kol==49)|(kol==99)]"
      ],
      "metadata": {
        "colab": {
          "base_uri": "https://localhost:8080/"
        },
        "id": "0HL5MPxKtw4-",
        "outputId": "cb568b8f-353f-423e-ba29-8e9b4ada95b4"
      },
      "execution_count": null,
      "outputs": [
        {
          "output_type": "execute_result",
          "data": {
            "text/plain": [
              "match_no\n",
              "82    99\n",
              "86    49\n",
              "Name: runs, dtype: int64"
            ]
          },
          "metadata": {},
          "execution_count": 42
        }
      ]
    },
    {
      "cell_type": "code",
      "source": [
        "kol[kol.isin([49,99])]\n"
      ],
      "metadata": {
        "colab": {
          "base_uri": "https://localhost:8080/"
        },
        "id": "jdPMUacJuRe2",
        "outputId": "036af560-7b9a-4f4f-db9f-6cb0cffdfaa6"
      },
      "execution_count": null,
      "outputs": [
        {
          "output_type": "execute_result",
          "data": {
            "text/plain": [
              "match_no\n",
              "82    99\n",
              "86    49\n",
              "Name: runs, dtype: int64"
            ]
          },
          "metadata": {},
          "execution_count": 44
        }
      ]
    },
    {
      "cell_type": "code",
      "source": [
        "#apply\n",
        "boll"
      ],
      "metadata": {
        "colab": {
          "base_uri": "https://localhost:8080/"
        },
        "id": "iuRBtIv2vzwV",
        "outputId": "eb4354b8-32db-493e-fda8-50603190c8c4"
      },
      "execution_count": null,
      "outputs": [
        {
          "output_type": "execute_result",
          "data": {
            "text/plain": [
              "movie\n",
              "Uri: The Surgical Strike                   Vicky Kaushal\n",
              "Battalion 609                                Vicky Ahuja\n",
              "The Accidental Prime Minister (film)         Anupam Kher\n",
              "Why Cheat India                            Emraan Hashmi\n",
              "Evening Shadows                         Mona Ambegaonkar\n",
              "                                              ...       \n",
              "Hum Tumhare Hain Sanam                    Shah Rukh Khan\n",
              "Aankhen (2002 film)                     Amitabh Bachchan\n",
              "Saathiya (film)                             Vivek Oberoi\n",
              "Company (film)                                Ajay Devgn\n",
              "Awara Paagal Deewana                        Akshay Kumar\n",
              "Name: lead, Length: 1500, dtype: object"
            ]
          },
          "metadata": {},
          "execution_count": 45
        }
      ]
    },
    {
      "cell_type": "code",
      "source": [
        "boll.apply(lambda x:x.split()[0].upper())"
      ],
      "metadata": {
        "colab": {
          "base_uri": "https://localhost:8080/"
        },
        "id": "C2z4-8Cyv6Sl",
        "outputId": "641b02f7-1bf3-40ad-9e28-abb746a9c503"
      },
      "execution_count": null,
      "outputs": [
        {
          "output_type": "execute_result",
          "data": {
            "text/plain": [
              "movie\n",
              "Uri: The Surgical Strike                  VICKY\n",
              "Battalion 609                             VICKY\n",
              "The Accidental Prime Minister (film)     ANUPAM\n",
              "Why Cheat India                          EMRAAN\n",
              "Evening Shadows                            MONA\n",
              "                                         ...   \n",
              "Hum Tumhare Hain Sanam                     SHAH\n",
              "Aankhen (2002 film)                     AMITABH\n",
              "Saathiya (film)                           VIVEK\n",
              "Company (film)                             AJAY\n",
              "Awara Paagal Deewana                     AKSHAY\n",
              "Name: lead, Length: 1500, dtype: object"
            ]
          },
          "metadata": {},
          "execution_count": 49
        }
      ]
    },
    {
      "cell_type": "code",
      "source": [
        "sub"
      ],
      "metadata": {
        "colab": {
          "base_uri": "https://localhost:8080/"
        },
        "id": "F1ZcwxsIw335",
        "outputId": "00f70ec5-1128-4bb5-844f-84a494f4c6d0"
      },
      "execution_count": null,
      "outputs": [
        {
          "output_type": "execute_result",
          "data": {
            "text/plain": [
              "0       48\n",
              "1       57\n",
              "2       40\n",
              "3       43\n",
              "4       44\n",
              "      ... \n",
              "360    231\n",
              "361    226\n",
              "362    155\n",
              "363    144\n",
              "364    172\n",
              "Name: Subscribers gained, Length: 365, dtype: int64"
            ]
          },
          "metadata": {},
          "execution_count": 50
        }
      ]
    },
    {
      "cell_type": "code",
      "source": [
        "sub.mean()"
      ],
      "metadata": {
        "colab": {
          "base_uri": "https://localhost:8080/"
        },
        "id": "o7_ZZ4alw-49",
        "outputId": "1a567cc2-0e5a-48b1-e2fc-e4037a302264"
      },
      "execution_count": null,
      "outputs": [
        {
          "output_type": "execute_result",
          "data": {
            "text/plain": [
              "135.64383561643837"
            ]
          },
          "metadata": {},
          "execution_count": 52
        }
      ]
    },
    {
      "cell_type": "code",
      "source": [
        "sub.apply(lambda x:\"good days\" if x>sub.mean() else 'bad days')"
      ],
      "metadata": {
        "colab": {
          "base_uri": "https://localhost:8080/"
        },
        "id": "mTNkNn4wxP5e",
        "outputId": "0125b764-1bf0-4954-d5a9-400cc8d22180"
      },
      "execution_count": null,
      "outputs": [
        {
          "output_type": "execute_result",
          "data": {
            "text/plain": [
              "0       bad days\n",
              "1       bad days\n",
              "2       bad days\n",
              "3       bad days\n",
              "4       bad days\n",
              "         ...    \n",
              "360    good days\n",
              "361    good days\n",
              "362    good days\n",
              "363    good days\n",
              "364    good days\n",
              "Name: Subscribers gained, Length: 365, dtype: object"
            ]
          },
          "metadata": {},
          "execution_count": 53
        }
      ]
    },
    {
      "cell_type": "code",
      "source": [
        "kol"
      ],
      "metadata": {
        "colab": {
          "base_uri": "https://localhost:8080/"
        },
        "id": "cv0qvD-3zgBz",
        "outputId": "a31bf621-23c9-4f6d-a566-c66e77533709"
      },
      "execution_count": null,
      "outputs": [
        {
          "output_type": "execute_result",
          "data": {
            "text/plain": [
              "match_no\n",
              "1      100\n",
              "2       23\n",
              "3       13\n",
              "4       12\n",
              "5        1\n",
              "      ... \n",
              "211      0\n",
              "212     20\n",
              "213     73\n",
              "214     25\n",
              "215      7\n",
              "Name: runs, Length: 215, dtype: int64"
            ]
          },
          "metadata": {},
          "execution_count": 61
        }
      ]
    },
    {
      "cell_type": "code",
      "source": [
        "new=kol.head()"
      ],
      "metadata": {
        "id": "fptW3v73zhs4"
      },
      "execution_count": null,
      "outputs": []
    },
    {
      "cell_type": "code",
      "source": [
        "new[1]=100"
      ],
      "metadata": {
        "id": "1z3fgUSqzqeX"
      },
      "execution_count": null,
      "outputs": []
    },
    {
      "cell_type": "code",
      "source": [
        "new=kol.head().copy()"
      ],
      "metadata": {
        "id": "eBMof5ubz102"
      },
      "execution_count": null,
      "outputs": []
    },
    {
      "cell_type": "code",
      "source": [
        "new[2]=100"
      ],
      "metadata": {
        "id": "xFbO3vy0z7pm"
      },
      "execution_count": null,
      "outputs": []
    },
    {
      "cell_type": "code",
      "source": [
        "new"
      ],
      "metadata": {
        "colab": {
          "base_uri": "https://localhost:8080/"
        },
        "id": "R6HmrPGM0kOB",
        "outputId": "4a3cfba2-3025-40e4-b442-3c66afcfe76d"
      },
      "execution_count": null,
      "outputs": [
        {
          "output_type": "execute_result",
          "data": {
            "text/plain": [
              "match_no\n",
              "1    100\n",
              "2    100\n",
              "3     13\n",
              "4     12\n",
              "5      1\n",
              "Name: runs, dtype: int64"
            ]
          },
          "metadata": {},
          "execution_count": 68
        }
      ]
    },
    {
      "cell_type": "code",
      "source": [
        "kol"
      ],
      "metadata": {
        "colab": {
          "base_uri": "https://localhost:8080/"
        },
        "id": "sBBqC_Qs0mPJ",
        "outputId": "c652a2ca-64e5-496f-98df-5b5eebff7048"
      },
      "execution_count": null,
      "outputs": [
        {
          "output_type": "execute_result",
          "data": {
            "text/plain": [
              "match_no\n",
              "1      100\n",
              "2       23\n",
              "3       13\n",
              "4       12\n",
              "5        1\n",
              "      ... \n",
              "211      0\n",
              "212     20\n",
              "213     73\n",
              "214     25\n",
              "215      7\n",
              "Name: runs, Length: 215, dtype: int64"
            ]
          },
          "metadata": {},
          "execution_count": 69
        }
      ]
    },
    {
      "cell_type": "code",
      "source": [],
      "metadata": {
        "id": "6frH_E9u0nyJ"
      },
      "execution_count": null,
      "outputs": []
    }
  ],
  "metadata": {
    "colab": {
      "provenance": [],
      "authorship_tag": "ABX9TyNPIYpJqT3dOcF/jQOj3ljq",
      "include_colab_link": true
    },
    "kernelspec": {
      "display_name": "Python 3",
      "name": "python3"
    },
    "language_info": {
      "name": "python"
    }
  },
  "nbformat": 4,
  "nbformat_minor": 0
}