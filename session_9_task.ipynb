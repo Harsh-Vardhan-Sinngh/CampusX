{
  "nbformat": 4,
  "nbformat_minor": 0,
  "metadata": {
    "colab": {
      "provenance": [],
      "collapsed_sections": [
        "BCleRtX43caS",
        "KBbGNTtQ47mJ",
        "ExIxsv4y-oEd",
        "OcQhJvXVALgp",
        "sEsGEqOHCSWG",
        "v1M5Yh9ZZO0z"
      ],
      "include_colab_link": true
    },
    "kernelspec": {
      "name": "python3",
      "display_name": "Python 3"
    },
    "language_info": {
      "name": "python"
    }
  },
  "cells": [
    {
      "cell_type": "markdown",
      "metadata": {
        "id": "view-in-github",
        "colab_type": "text"
      },
      "source": [
        "<a href=\"https://colab.research.google.com/github/Harsh-Vardhan-Sinngh/CampusX/blob/main/session_9_task.ipynb\" target=\"_parent\"><img src=\"https://colab.research.google.com/assets/colab-badge.svg\" alt=\"Open In Colab\"/></a>"
      ]
    },
    {
      "cell_type": "markdown",
      "source": [
        "### `Problem-1:` Class inheritence\n",
        "\n",
        "Create a **Bus** child class that inherits from the Vehicle class. The default fare charge of any vehicle is seating capacity * 100. If Vehicle is Bus instance, we need to add an extra 10% on full fare as a maintenance charge. So total fare for bus instance will become the final amount = total fare + 10% of the total fare.\n",
        "\n",
        "Note: The bus seating capacity is 50. so the final fare amount should be 5500. You need to override the fare() method of a Vehicle class in Bus class."
      ],
      "metadata": {
        "id": "BCleRtX43caS"
      }
    },
    {
      "cell_type": "code",
      "execution_count": 3,
      "metadata": {
        "colab": {
          "base_uri": "https://localhost:8080/"
        },
        "id": "6jVFCXKz3YZI",
        "outputId": "02b6da78-3827-4e67-e31b-7b6b1baccf9f"
      },
      "outputs": [
        {
          "output_type": "stream",
          "name": "stdout",
          "text": [
            " final fare amount should be : 5500.0\n"
          ]
        }
      ],
      "source": [
        "# Write code here\n",
        "class Vehicle:\n",
        "\n",
        "  def __init__(self,seat):\n",
        "    self.seat=seat\n",
        "\n",
        "  def fare(self):\n",
        "    final_amount=self.seat*100\n",
        "    print(\"final fare amount is : \",final_amount)\n",
        "\n",
        "class Bus(Vehicle):\n",
        "\n",
        "  def fare(self):\n",
        "    total_fare=self.seat*100\n",
        "    final_fare=total_fare+total_fare*(10/100)\n",
        "    print(\" final fare amount should be :\",final_fare)\n",
        "\n",
        "b1=Bus(50)\n",
        "b1.fare()\n",
        ""
      ]
    },
    {
      "cell_type": "markdown",
      "source": [
        "### `Problem-2:` Class Inheritence\n",
        "\n",
        "Create a Bus class that inherits from the Vehicle class. Give the capacity argument of *Bus.seating_capacity()* a default value of 50.\n",
        "\n",
        "Use the following code for your parent Vehicle class."
      ],
      "metadata": {
        "id": "KBbGNTtQ47mJ"
      }
    },
    {
      "cell_type": "code",
      "source": [
        "class Vehicle:\n",
        "\n",
        "  def __init__(self,seat):\n",
        "    self.seat=seat\n",
        "\n",
        "  def fare(self):\n",
        "    final_amount=self.seat*100\n",
        "    print(\"final fare amount is : \",final_amount)\n",
        "\n",
        "class Bus(Vehicle):\n",
        "\n",
        "  def fare(self):\n",
        "    total_fare=self.seat*100\n",
        "    final_fare=total_fare+total_fare*(10/100)\n",
        "    print(\" final fare amount should be :\",final_fare)\n",
        "\n",
        "  def seating_capacity(self):\n",
        "    self.seat=50\n",
        "    print(\"The bus seating capacity is :\",self.seat)\n",
        "\n",
        "\n",
        "\n",
        "b1=Bus(100)\n",
        "b1.seating_capacity()"
      ],
      "metadata": {
        "id": "MwOnYE_14M-r",
        "outputId": "5c450cec-286d-48c0-e9a4-416cc2df8ad4",
        "colab": {
          "base_uri": "https://localhost:8080/"
        }
      },
      "execution_count": 5,
      "outputs": [
        {
          "output_type": "stream",
          "name": "stdout",
          "text": [
            "The bus seating capacity is : 50\n"
          ]
        }
      ]
    },
    {
      "cell_type": "code",
      "source": [],
      "metadata": {
        "id": "Py5Gr0ip5OBB"
      },
      "execution_count": null,
      "outputs": []
    },
    {
      "cell_type": "markdown",
      "source": [
        "### `Problem-3:` Write a program that has a class Point. Define another class Location which has two objects (Location & Destination) of class Point. Also define a function in Location that prints the reflection of Destination on the x axis."
      ],
      "metadata": {
        "id": "ExIxsv4y-oEd"
      }
    },
    {
      "cell_type": "code",
      "source": [
        "class Point:\n",
        "\n",
        "  def __init__(self,x,y):\n",
        "    self.x=x\n",
        "    self.y=y\n",
        "\n",
        "class Location(Point):\n",
        "  def\n",
        "\n",
        "\n",
        "\n"
      ],
      "metadata": {
        "id": "yT2QtzQp5VAB"
      },
      "execution_count": null,
      "outputs": []
    },
    {
      "cell_type": "markdown",
      "source": [
        "### `Problem-4:` Write a program that has an abstract class Polygon. Derive two classes Rectangle and Triamgle from Polygon and write methods to get the details of their dimensions and hence calculate the area."
      ],
      "metadata": {
        "id": "OcQhJvXVALgp"
      }
    },
    {
      "cell_type": "code",
      "source": [
        "class Polygon:\n",
        "\n",
        "  def __init__(self,a,b,c=0):\n",
        "    self.a=a\n",
        "    self.b=b\n",
        "    self.c=c\n",
        "\n",
        "  def area(self):\n",
        "    if self.c==0:\n",
        "      area=self.a*self.b\n",
        "      print(\"the area of rectange is :\",area)\n",
        "      return area\n",
        "    else:\n",
        "      s=self.a+self.b+self.c\n",
        "      area=(s*(s-self.a)*(s-self.b)*(s-self.c))**(1/2)\n",
        "      print(\"the area of triangle is :\",area)\n",
        "\n",
        "      return area\n",
        "\n",
        "\n",
        "\n",
        "class Rectangle(Polygon):\n",
        "  pass\n",
        "\n",
        "\n",
        "class Triangle(Polygon):\n",
        "  pass\n",
        "\n",
        "r1=Rectangle(5,6)\n",
        "r1.area()\n",
        "r2=Triangle(5,6,3)\n",
        "r2.area()\n",
        "\n",
        "\n",
        "\n",
        "\n"
      ],
      "metadata": {
        "id": "9IMrtdUH__eA",
        "outputId": "e57f8efd-8692-43e3-f527-e5f4cb7879e4",
        "colab": {
          "base_uri": "https://localhost:8080/"
        }
      },
      "execution_count": 9,
      "outputs": [
        {
          "output_type": "stream",
          "name": "stdout",
          "text": [
            "the area of rectange is : 30\n",
            "the area of triangle is : 105.29957264870546\n"
          ]
        },
        {
          "output_type": "execute_result",
          "data": {
            "text/plain": [
              "105.29957264870546"
            ]
          },
          "metadata": {},
          "execution_count": 9
        }
      ]
    },
    {
      "cell_type": "markdown",
      "source": [
        "### `Problem-5:` Write a program with class Bill. The users have the option to pay the bill either by cheque or by cash. Use the inheritance to model this situation."
      ],
      "metadata": {
        "id": "sEsGEqOHCSWG"
      }
    },
    {
      "cell_type": "code",
      "source": [
        "class Bill:\n",
        "\n",
        "  def __init__(self,a):\n"
      ],
      "metadata": {
        "id": "l0WFyP2PB3nf"
      },
      "execution_count": null,
      "outputs": []
    },
    {
      "cell_type": "markdown",
      "source": [
        "###`Q-6:` FlexibleDict\n",
        "As of now we are accessing values from dictionary with exact keys. Now we want to amend accessing values functionality. if a dict have key `1` (int) the even if we try to access values by giving `'1'` (1 as str) as key, we should get the same result and vice versa.\n",
        "\n",
        "Write a class `FlexibleDict` upon builtin `dict` class with above required functionality.\n",
        "\n",
        "Hint- `dict[key] => dict.__getitem__(key)`"
      ],
      "metadata": {
        "id": "v1M5Yh9ZZO0z"
      }
    },
    {
      "cell_type": "markdown",
      "source": [
        "Ex.\n",
        "```\n",
        "fd = FlexibleDict()\n",
        "fd['a'] = 100\n",
        "print(fd['a']) # Like regular dict\n",
        "\n",
        "fd[5] = 500\n",
        "print(fd[5]) # Like regular dict\n",
        "\n",
        "fd[1] = 100\n",
        "print(fd['1']) # actual Key is int but still trying to access through str key.\n",
        "fd['1'] = 100\n",
        "print(fd[1])\n",
        "\n",
        "```\n",
        "`Output:`\n",
        "```\n",
        "100\n",
        "500\n",
        "100\n",
        "100\n",
        "\n",
        "```"
      ],
      "metadata": {
        "id": "uajGeWegbfda"
      }
    },
    {
      "cell_type": "code",
      "source": [],
      "metadata": {
        "id": "OHLbOtCxZ2nw"
      },
      "execution_count": null,
      "outputs": []
    },
    {
      "cell_type": "code",
      "source": [],
      "metadata": {
        "id": "7NM8r__dmeMf"
      },
      "execution_count": null,
      "outputs": []
    },
    {
      "cell_type": "code",
      "source": [],
      "metadata": {
        "id": "waHSud8Ymkz-"
      },
      "execution_count": null,
      "outputs": []
    }
  ]
}