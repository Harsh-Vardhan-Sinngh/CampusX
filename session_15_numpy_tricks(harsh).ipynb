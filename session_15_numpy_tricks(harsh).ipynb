{
  "nbformat": 4,
  "nbformat_minor": 0,
  "metadata": {
    "colab": {
      "provenance": [],
      "authorship_tag": "ABX9TyPuUNpk7Sl+Px283HfmoF45",
      "include_colab_link": true
    },
    "kernelspec": {
      "name": "python3",
      "display_name": "Python 3"
    },
    "language_info": {
      "name": "python"
    }
  },
  "cells": [
    {
      "cell_type": "markdown",
      "metadata": {
        "id": "view-in-github",
        "colab_type": "text"
      },
      "source": [
        "<a href=\"https://colab.research.google.com/github/Harsh-Vardhan-Sinngh/CampusX/blob/main/session_15_numpy_tricks(harsh).ipynb\" target=\"_parent\"><img src=\"https://colab.research.google.com/assets/colab-badge.svg\" alt=\"Open In Colab\"/></a>"
      ]
    },
    {
      "cell_type": "code",
      "execution_count": 3,
      "metadata": {
        "colab": {
          "base_uri": "https://localhost:8080/"
        },
        "id": "X6mf9XmDocJ0",
        "outputId": "653af2fd-6a1d-4b8b-e483-8a78a13df3a1"
      },
      "outputs": [
        {
          "output_type": "execute_result",
          "data": {
            "text/plain": [
              "array([13, 99, 94, 95, 76, 90, 98, 92, 62, 39, 68, 99, 38, 78, 51, 73, 17,\n",
              "       48,  1, 25, 30, 34, 29, 46, 60])"
            ]
          },
          "metadata": {},
          "execution_count": 3
        }
      ],
      "source": [
        "import numpy as np\n",
        "a=np.random.randint(1,100,25)\n",
        "a"
      ]
    },
    {
      "cell_type": "code",
      "source": [
        "np.sort(a)[::-1]"
      ],
      "metadata": {
        "colab": {
          "base_uri": "https://localhost:8080/"
        },
        "id": "mQ4J9p9wqQoj",
        "outputId": "cc99fdbf-72e8-45e9-9014-c62bf55a7fba"
      },
      "execution_count": 4,
      "outputs": [
        {
          "output_type": "execute_result",
          "data": {
            "text/plain": [
              "array([94, 94, 93, 91, 89, 88, 84, 83, 83, 80, 77, 71, 71, 56, 47, 46, 32,\n",
              "       25, 25, 17, 16, 16,  9,  7,  1])"
            ]
          },
          "metadata": {},
          "execution_count": 4
        }
      ]
    },
    {
      "cell_type": "code",
      "source": [
        "b=np.random.randint(1,100,25).reshape(5,5)\n",
        "b"
      ],
      "metadata": {
        "colab": {
          "base_uri": "https://localhost:8080/"
        },
        "id": "_gtQgmzvqa5q",
        "outputId": "2c1e000d-f053-411e-8cb5-5944cf0bbfa7"
      },
      "execution_count": 11,
      "outputs": [
        {
          "output_type": "execute_result",
          "data": {
            "text/plain": [
              "array([[67, 74, 76, 94, 63],\n",
              "       [97, 78, 72, 17, 20],\n",
              "       [96, 78, 42, 69, 92],\n",
              "       [72, 56, 35,  4, 34],\n",
              "       [19, 80, 12,  6, 41]])"
            ]
          },
          "metadata": {},
          "execution_count": 11
        }
      ]
    },
    {
      "cell_type": "code",
      "source": [
        "np.sort(b,axis=0)[::-1]"
      ],
      "metadata": {
        "colab": {
          "base_uri": "https://localhost:8080/"
        },
        "id": "fw9FwKQYqwbZ",
        "outputId": "7142045b-f4d7-4c8a-8434-d1b4a5a27b36"
      },
      "execution_count": 8,
      "outputs": [
        {
          "output_type": "execute_result",
          "data": {
            "text/plain": [
              "array([[84, 68, 93, 95, 81],\n",
              "       [82, 67, 91, 84, 79],\n",
              "       [44, 54, 68, 40, 76],\n",
              "       [31, 43, 67, 20, 57],\n",
              "       [ 9, 15,  2, 19,  8]])"
            ]
          },
          "metadata": {},
          "execution_count": 8
        }
      ]
    },
    {
      "cell_type": "code",
      "source": [
        "\n",
        "np.append(a,1000)"
      ],
      "metadata": {
        "colab": {
          "base_uri": "https://localhost:8080/"
        },
        "id": "mdAw0QgHg9e9",
        "outputId": "b8ccabdf-55b3-437d-f298-546699fc11db"
      },
      "execution_count": 10,
      "outputs": [
        {
          "output_type": "execute_result",
          "data": {
            "text/plain": [
              "array([  88,   93,   56,   32,    7,   83,   80,   89,   94,   84,   47,\n",
              "         25,   17,   94,   71,   71,   77,   83,    9,   91,    1,   16,\n",
              "         25,   46,   16, 1000])"
            ]
          },
          "metadata": {},
          "execution_count": 10
        }
      ]
    },
    {
      "cell_type": "code",
      "source": [
        "b"
      ],
      "metadata": {
        "colab": {
          "base_uri": "https://localhost:8080/"
        },
        "id": "aG7qtBQMIVYO",
        "outputId": "442a8c55-909a-4d64-9916-cb00f187ecf2"
      },
      "execution_count": 12,
      "outputs": [
        {
          "output_type": "execute_result",
          "data": {
            "text/plain": [
              "array([[82, 68,  2, 95, 76],\n",
              "       [44, 43, 67, 84, 79],\n",
              "       [31, 15, 68, 19,  8],\n",
              "       [84, 54, 93, 40, 81],\n",
              "       [ 9, 67, 91, 20, 57]])"
            ]
          },
          "metadata": {},
          "execution_count": 12
        }
      ]
    },
    {
      "cell_type": "code",
      "source": [
        "np.append(b,np.ones((b.shape[0],1)),axis=1)"
      ],
      "metadata": {
        "colab": {
          "base_uri": "https://localhost:8080/"
        },
        "id": "teJVY7asIYrr",
        "outputId": "b0469007-c618-46f1-a0c3-9353928638a6"
      },
      "execution_count": 18,
      "outputs": [
        {
          "output_type": "execute_result",
          "data": {
            "text/plain": [
              "array([[82., 68.,  2., 95., 76.,  1.],\n",
              "       [44., 43., 67., 84., 79.,  1.],\n",
              "       [31., 15., 68., 19.,  8.,  1.],\n",
              "       [84., 54., 93., 40., 81.,  1.],\n",
              "       [ 9., 67., 91., 20., 57.,  1.]])"
            ]
          },
          "metadata": {},
          "execution_count": 18
        }
      ]
    },
    {
      "cell_type": "code",
      "source": [
        "c=np.arange(6).reshape(2,3)\n",
        "d=np.arange(6,12).reshape(2,3)\n",
        "\n",
        "print(c)\n",
        "print(d)"
      ],
      "metadata": {
        "colab": {
          "base_uri": "https://localhost:8080/"
        },
        "id": "mbZ3lz2tKQnz",
        "outputId": "44655de4-4388-4202-c0ae-cce855d1a437"
      },
      "execution_count": 19,
      "outputs": [
        {
          "output_type": "stream",
          "name": "stdout",
          "text": [
            "[[0 1 2]\n",
            " [3 4 5]]\n",
            "[[ 6  7  8]\n",
            " [ 9 10 11]]\n"
          ]
        }
      ]
    },
    {
      "cell_type": "code",
      "source": [
        "np.concatenate((c,d),axis=1)"
      ],
      "metadata": {
        "colab": {
          "base_uri": "https://localhost:8080/"
        },
        "id": "qLbpOjzOJ2YW",
        "outputId": "a1c431e1-bd0e-4104-9ea9-639f30434d3f"
      },
      "execution_count": 22,
      "outputs": [
        {
          "output_type": "execute_result",
          "data": {
            "text/plain": [
              "array([[ 0,  1,  2,  6,  7,  8],\n",
              "       [ 3,  4,  5,  9, 10, 11]])"
            ]
          },
          "metadata": {},
          "execution_count": 22
        }
      ]
    },
    {
      "cell_type": "code",
      "source": [
        "np.concatenate((c,d),axis=0)"
      ],
      "metadata": {
        "colab": {
          "base_uri": "https://localhost:8080/"
        },
        "id": "pJugcp5jK8zU",
        "outputId": "85f0a3ca-57d5-4261-ee58-98f65721ddf4"
      },
      "execution_count": 25,
      "outputs": [
        {
          "output_type": "execute_result",
          "data": {
            "text/plain": [
              "array([[ 0,  1,  2],\n",
              "       [ 3,  4,  5],\n",
              "       [ 6,  7,  8],\n",
              "       [ 9, 10, 11]])"
            ]
          },
          "metadata": {},
          "execution_count": 25
        }
      ]
    },
    {
      "cell_type": "code",
      "source": [
        "e=np.array([1,1,1,2,3,2,3,4,4,5,5])\n",
        "e"
      ],
      "metadata": {
        "colab": {
          "base_uri": "https://localhost:8080/"
        },
        "id": "pxRUzTk1NbHo",
        "outputId": "3609f6e0-8459-4191-f3fd-cbd1a74eeb4c"
      },
      "execution_count": 27,
      "outputs": [
        {
          "output_type": "execute_result",
          "data": {
            "text/plain": [
              "array([1, 1, 1, 2, 3, 2, 3, 4, 4, 5, 5])"
            ]
          },
          "metadata": {},
          "execution_count": 27
        }
      ]
    },
    {
      "cell_type": "code",
      "source": [
        "np.unique(e)"
      ],
      "metadata": {
        "colab": {
          "base_uri": "https://localhost:8080/"
        },
        "id": "iBvOxm1yNtcU",
        "outputId": "de74896b-4063-4543-b556-b1eb02ec1cbf"
      },
      "execution_count": 28,
      "outputs": [
        {
          "output_type": "execute_result",
          "data": {
            "text/plain": [
              "array([1, 2, 3, 4, 5])"
            ]
          },
          "metadata": {},
          "execution_count": 28
        }
      ]
    },
    {
      "cell_type": "code",
      "source": [
        "a"
      ],
      "metadata": {
        "colab": {
          "base_uri": "https://localhost:8080/"
        },
        "id": "_0xhBT_UOIIL",
        "outputId": "24a15f44-d905-49b0-c060-f62db19dab46"
      },
      "execution_count": 29,
      "outputs": [
        {
          "output_type": "execute_result",
          "data": {
            "text/plain": [
              "array([88, 93, 56, 32,  7, 83, 80, 89, 94, 84, 47, 25, 17, 94, 71, 71, 77,\n",
              "       83,  9, 91,  1, 16, 25, 46, 16])"
            ]
          },
          "metadata": {},
          "execution_count": 29
        }
      ]
    },
    {
      "cell_type": "code",
      "source": [
        "np.shape(a)"
      ],
      "metadata": {
        "colab": {
          "base_uri": "https://localhost:8080/"
        },
        "id": "7nbmKJoXOeQM",
        "outputId": "33ae234a-5bc5-4f7e-b940-20913e95ddeb"
      },
      "execution_count": 30,
      "outputs": [
        {
          "output_type": "execute_result",
          "data": {
            "text/plain": [
              "(25,)"
            ]
          },
          "metadata": {},
          "execution_count": 30
        }
      ]
    },
    {
      "cell_type": "code",
      "source": [
        "np.expand_dims(a,axis=0).shape"
      ],
      "metadata": {
        "colab": {
          "base_uri": "https://localhost:8080/"
        },
        "id": "3ImcYikuNzaj",
        "outputId": "24e2a1bd-c2df-417a-972b-92d64e44b9fd"
      },
      "execution_count": 32,
      "outputs": [
        {
          "output_type": "execute_result",
          "data": {
            "text/plain": [
              "(1, 25)"
            ]
          },
          "metadata": {},
          "execution_count": 32
        }
      ]
    },
    {
      "cell_type": "code",
      "source": [
        "np.expand_dims(a,axis=0)"
      ],
      "metadata": {
        "colab": {
          "base_uri": "https://localhost:8080/"
        },
        "id": "4bHvTXmXOuhk",
        "outputId": "ee4f4f08-9b36-45c1-f66c-3378fab71fcc"
      },
      "execution_count": 34,
      "outputs": [
        {
          "output_type": "execute_result",
          "data": {
            "text/plain": [
              "array([[88, 93, 56, 32,  7, 83, 80, 89, 94, 84, 47, 25, 17, 94, 71, 71,\n",
              "        77, 83,  9, 91,  1, 16, 25, 46, 16]])"
            ]
          },
          "metadata": {},
          "execution_count": 34
        }
      ]
    },
    {
      "cell_type": "code",
      "source": [
        "np.expand_dims(a,axis=1).shape"
      ],
      "metadata": {
        "colab": {
          "base_uri": "https://localhost:8080/"
        },
        "id": "lPghx4kRO7tM",
        "outputId": "3c05a4a5-2ee3-49f5-99e8-d6aa900fd37a"
      },
      "execution_count": 36,
      "outputs": [
        {
          "output_type": "execute_result",
          "data": {
            "text/plain": [
              "(25, 1)"
            ]
          },
          "metadata": {},
          "execution_count": 36
        }
      ]
    },
    {
      "cell_type": "code",
      "source": [
        "np.expand_dims(a,axis=1)"
      ],
      "metadata": {
        "colab": {
          "base_uri": "https://localhost:8080/"
        },
        "id": "XjJG_PHOO_FT",
        "outputId": "242cfcf5-6796-48d2-875f-3e48e1777213"
      },
      "execution_count": 38,
      "outputs": [
        {
          "output_type": "execute_result",
          "data": {
            "text/plain": [
              "array([[88],\n",
              "       [93],\n",
              "       [56],\n",
              "       [32],\n",
              "       [ 7],\n",
              "       [83],\n",
              "       [80],\n",
              "       [89],\n",
              "       [94],\n",
              "       [84],\n",
              "       [47],\n",
              "       [25],\n",
              "       [17],\n",
              "       [94],\n",
              "       [71],\n",
              "       [71],\n",
              "       [77],\n",
              "       [83],\n",
              "       [ 9],\n",
              "       [91],\n",
              "       [ 1],\n",
              "       [16],\n",
              "       [25],\n",
              "       [46],\n",
              "       [16]])"
            ]
          },
          "metadata": {},
          "execution_count": 38
        }
      ]
    },
    {
      "cell_type": "code",
      "source": [
        "a"
      ],
      "metadata": {
        "colab": {
          "base_uri": "https://localhost:8080/"
        },
        "id": "s5Rrk9VyPBkD",
        "outputId": "0a14b4ea-31bc-4d4a-a177-36b7267d4fda"
      },
      "execution_count": 39,
      "outputs": [
        {
          "output_type": "execute_result",
          "data": {
            "text/plain": [
              "array([88, 93, 56, 32,  7, 83, 80, 89, 94, 84, 47, 25, 17, 94, 71, 71, 77,\n",
              "       83,  9, 91,  1, 16, 25, 46, 16])"
            ]
          },
          "metadata": {},
          "execution_count": 39
        }
      ]
    },
    {
      "cell_type": "code",
      "source": [
        "np.where(a>50)"
      ],
      "metadata": {
        "colab": {
          "base_uri": "https://localhost:8080/"
        },
        "id": "wR5pYXLSSVSE",
        "outputId": "3ab65165-e920-4266-e632-8d2fe3030600"
      },
      "execution_count": 42,
      "outputs": [
        {
          "output_type": "execute_result",
          "data": {
            "text/plain": [
              "(array([ 0,  1,  2,  5,  6,  7,  8,  9, 13, 14, 15, 16, 17, 19]),)"
            ]
          },
          "metadata": {},
          "execution_count": 42
        }
      ]
    },
    {
      "cell_type": "code",
      "source": [
        "np.where(a>50,0,a)"
      ],
      "metadata": {
        "colab": {
          "base_uri": "https://localhost:8080/"
        },
        "id": "Y0A73iybSX20",
        "outputId": "37b8e260-74b0-41bf-e651-41e9f2323379"
      },
      "execution_count": 44,
      "outputs": [
        {
          "output_type": "execute_result",
          "data": {
            "text/plain": [
              "array([ 0,  0,  0, 32,  7,  0,  0,  0,  0,  0, 47, 25, 17,  0,  0,  0,  0,\n",
              "        0,  9,  0,  1, 16, 25, 46, 16])"
            ]
          },
          "metadata": {},
          "execution_count": 44
        }
      ]
    },
    {
      "cell_type": "code",
      "source": [
        "np.where(a%2==0,0,a)"
      ],
      "metadata": {
        "colab": {
          "base_uri": "https://localhost:8080/"
        },
        "id": "PWP4DqdcSyvV",
        "outputId": "8e7b50ed-8a74-4c96-8fe0-610e15f8bae3"
      },
      "execution_count": 47,
      "outputs": [
        {
          "output_type": "execute_result",
          "data": {
            "text/plain": [
              "array([ 0, 93,  0,  0,  7, 83,  0, 89,  0,  0, 47, 25, 17,  0, 71, 71, 77,\n",
              "       83,  9, 91,  1,  0, 25,  0,  0])"
            ]
          },
          "metadata": {},
          "execution_count": 47
        }
      ]
    },
    {
      "cell_type": "code",
      "source": [
        "a"
      ],
      "metadata": {
        "colab": {
          "base_uri": "https://localhost:8080/"
        },
        "id": "tdVDgmOtTZ7-",
        "outputId": "d95a136d-6507-4235-afad-36504ba12ab9"
      },
      "execution_count": 48,
      "outputs": [
        {
          "output_type": "execute_result",
          "data": {
            "text/plain": [
              "array([88, 93, 56, 32,  7, 83, 80, 89, 94, 84, 47, 25, 17, 94, 71, 71, 77,\n",
              "       83,  9, 91,  1, 16, 25, 46, 16])"
            ]
          },
          "metadata": {},
          "execution_count": 48
        }
      ]
    },
    {
      "cell_type": "code",
      "source": [
        "np.argmax(a)"
      ],
      "metadata": {
        "colab": {
          "base_uri": "https://localhost:8080/"
        },
        "id": "zlsDGGmVS861",
        "outputId": "a936d3bf-d047-4906-fb58-ecef826b827c"
      },
      "execution_count": 46,
      "outputs": [
        {
          "output_type": "execute_result",
          "data": {
            "text/plain": [
              "8"
            ]
          },
          "metadata": {},
          "execution_count": 46
        }
      ]
    },
    {
      "cell_type": "code",
      "source": [
        "b"
      ],
      "metadata": {
        "colab": {
          "base_uri": "https://localhost:8080/"
        },
        "id": "-3Jilu9lTWgl",
        "outputId": "31c930ac-5aeb-4780-a240-bb93732dc1d5"
      },
      "execution_count": 49,
      "outputs": [
        {
          "output_type": "execute_result",
          "data": {
            "text/plain": [
              "array([[82, 68,  2, 95, 76],\n",
              "       [44, 43, 67, 84, 79],\n",
              "       [31, 15, 68, 19,  8],\n",
              "       [84, 54, 93, 40, 81],\n",
              "       [ 9, 67, 91, 20, 57]])"
            ]
          },
          "metadata": {},
          "execution_count": 49
        }
      ]
    },
    {
      "cell_type": "code",
      "source": [
        "np.argmax(b,axis=0)"
      ],
      "metadata": {
        "colab": {
          "base_uri": "https://localhost:8080/"
        },
        "id": "vuWensqETuAM",
        "outputId": "1e296e5f-0085-4782-868f-ea5f6d9d95e6"
      },
      "execution_count": 51,
      "outputs": [
        {
          "output_type": "execute_result",
          "data": {
            "text/plain": [
              "array([3, 0, 3, 0, 3])"
            ]
          },
          "metadata": {},
          "execution_count": 51
        }
      ]
    },
    {
      "cell_type": "code",
      "source": [
        "np.argmax(b,axis=1)"
      ],
      "metadata": {
        "colab": {
          "base_uri": "https://localhost:8080/"
        },
        "id": "QK1o8c6KTxYN",
        "outputId": "3599ca6c-19f4-4ebe-ac22-dd19eccad012"
      },
      "execution_count": 52,
      "outputs": [
        {
          "output_type": "execute_result",
          "data": {
            "text/plain": [
              "array([3, 3, 2, 2, 2])"
            ]
          },
          "metadata": {},
          "execution_count": 52
        }
      ]
    },
    {
      "cell_type": "code",
      "source": [
        "np.argmin(a)"
      ],
      "metadata": {
        "colab": {
          "base_uri": "https://localhost:8080/"
        },
        "id": "G4qIvfJeUe5l",
        "outputId": "4ac13049-3eb7-4034-84b4-7d10a3414e8b"
      },
      "execution_count": 53,
      "outputs": [
        {
          "output_type": "execute_result",
          "data": {
            "text/plain": [
              "20"
            ]
          },
          "metadata": {},
          "execution_count": 53
        }
      ]
    },
    {
      "cell_type": "code",
      "source": [
        "np.argmin(b,axis=0)"
      ],
      "metadata": {
        "colab": {
          "base_uri": "https://localhost:8080/"
        },
        "id": "m2CFRjdiU0dM",
        "outputId": "e095beff-da77-4ef3-e856-612af911b243"
      },
      "execution_count": 54,
      "outputs": [
        {
          "output_type": "execute_result",
          "data": {
            "text/plain": [
              "array([4, 2, 0, 2, 2])"
            ]
          },
          "metadata": {},
          "execution_count": 54
        }
      ]
    },
    {
      "cell_type": "code",
      "source": [
        " a"
      ],
      "metadata": {
        "colab": {
          "base_uri": "https://localhost:8080/"
        },
        "id": "5uuCDkNlU8ZN",
        "outputId": "517d18e2-62e3-4bb9-a1fe-c42972b06047"
      },
      "execution_count": 55,
      "outputs": [
        {
          "output_type": "execute_result",
          "data": {
            "text/plain": [
              "array([88, 93, 56, 32,  7, 83, 80, 89, 94, 84, 47, 25, 17, 94, 71, 71, 77,\n",
              "       83,  9, 91,  1, 16, 25, 46, 16])"
            ]
          },
          "metadata": {},
          "execution_count": 55
        }
      ]
    },
    {
      "cell_type": "code",
      "source": [
        "np.cumsum(a)"
      ],
      "metadata": {
        "colab": {
          "base_uri": "https://localhost:8080/"
        },
        "id": "JSSZjl4cVvuW",
        "outputId": "900f364a-b84e-469c-bdda-582add7675fb"
      },
      "execution_count": 57,
      "outputs": [
        {
          "output_type": "execute_result",
          "data": {
            "text/plain": [
              "array([  88,  181,  237,  269,  276,  359,  439,  528,  622,  706,  753,\n",
              "        778,  795,  889,  960, 1031, 1108, 1191, 1200, 1291, 1292, 1308,\n",
              "       1333, 1379, 1395])"
            ]
          },
          "metadata": {},
          "execution_count": 57
        }
      ]
    },
    {
      "cell_type": "code",
      "source": [
        "b"
      ],
      "metadata": {
        "colab": {
          "base_uri": "https://localhost:8080/"
        },
        "id": "KKyJ9D1TWMcG",
        "outputId": "2f81d5cd-d7d8-4dd4-c4c8-212b5287ccb9"
      },
      "execution_count": 12,
      "outputs": [
        {
          "output_type": "execute_result",
          "data": {
            "text/plain": [
              "array([[67, 74, 76, 94, 63],\n",
              "       [97, 78, 72, 17, 20],\n",
              "       [96, 78, 42, 69, 92],\n",
              "       [72, 56, 35,  4, 34],\n",
              "       [19, 80, 12,  6, 41]])"
            ]
          },
          "metadata": {},
          "execution_count": 12
        }
      ]
    },
    {
      "cell_type": "code",
      "source": [
        "np.cumsum(b)"
      ],
      "metadata": {
        "colab": {
          "base_uri": "https://localhost:8080/"
        },
        "id": "hyr0yPOdWN6l",
        "outputId": "2aa64d3d-a9cd-4868-e1ca-e1407736c893"
      },
      "execution_count": 59,
      "outputs": [
        {
          "output_type": "execute_result",
          "data": {
            "text/plain": [
              "array([  82,  150,  152,  247,  323,  367,  410,  477,  561,  640,  671,\n",
              "        686,  754,  773,  781,  865,  919, 1012, 1052, 1133, 1142, 1209,\n",
              "       1300, 1320, 1377])"
            ]
          },
          "metadata": {},
          "execution_count": 59
        }
      ]
    },
    {
      "cell_type": "code",
      "source": [
        "np.cumsum(b,axis=0)"
      ],
      "metadata": {
        "colab": {
          "base_uri": "https://localhost:8080/"
        },
        "id": "Kp1vOyxSWRqm",
        "outputId": "037e2b7f-8cbe-4dc0-929c-1bf7e08c3b20"
      },
      "execution_count": 60,
      "outputs": [
        {
          "output_type": "execute_result",
          "data": {
            "text/plain": [
              "array([[ 82,  68,   2,  95,  76],\n",
              "       [126, 111,  69, 179, 155],\n",
              "       [157, 126, 137, 198, 163],\n",
              "       [241, 180, 230, 238, 244],\n",
              "       [250, 247, 321, 258, 301]])"
            ]
          },
          "metadata": {},
          "execution_count": 60
        }
      ]
    },
    {
      "cell_type": "code",
      "source": [
        "np.cumsum(b,axis=1)"
      ],
      "metadata": {
        "colab": {
          "base_uri": "https://localhost:8080/"
        },
        "id": "KRpcxsd2WZKt",
        "outputId": "04a2f4e6-9f78-4194-c82b-8ea9bce87f69"
      },
      "execution_count": 61,
      "outputs": [
        {
          "output_type": "execute_result",
          "data": {
            "text/plain": [
              "array([[ 82, 150, 152, 247, 323],\n",
              "       [ 44,  87, 154, 238, 317],\n",
              "       [ 31,  46, 114, 133, 141],\n",
              "       [ 84, 138, 231, 271, 352],\n",
              "       [  9,  76, 167, 187, 244]])"
            ]
          },
          "metadata": {},
          "execution_count": 61
        }
      ]
    },
    {
      "cell_type": "code",
      "source": [
        "a"
      ],
      "metadata": {
        "colab": {
          "base_uri": "https://localhost:8080/"
        },
        "id": "ebTA0RHYWeeW",
        "outputId": "e82e45f5-a43c-44d5-c7a7-2099319c8f71"
      },
      "execution_count": 62,
      "outputs": [
        {
          "output_type": "execute_result",
          "data": {
            "text/plain": [
              "array([88, 93, 56, 32,  7, 83, 80, 89, 94, 84, 47, 25, 17, 94, 71, 71, 77,\n",
              "       83,  9, 91,  1, 16, 25, 46, 16])"
            ]
          },
          "metadata": {},
          "execution_count": 62
        }
      ]
    },
    {
      "cell_type": "code",
      "source": [
        "np.cumprod(b,axis=1)"
      ],
      "metadata": {
        "colab": {
          "base_uri": "https://localhost:8080/"
        },
        "id": "kRnX2_KLW-FW",
        "outputId": "70bbb6e0-7bb6-4022-d2ef-388d857005b3"
      },
      "execution_count": 13,
      "outputs": [
        {
          "output_type": "execute_result",
          "data": {
            "text/plain": [
              "array([[        67,       4958,     376808,   35419952, 2231456976],\n",
              "       [        97,       7566,     544752,    9260784,  185215680],\n",
              "       [        96,       7488,     314496,   21700224, 1996420608],\n",
              "       [        72,       4032,     141120,     564480,   19192320],\n",
              "       [        19,       1520,      18240,     109440,    4487040]])"
            ]
          },
          "metadata": {},
          "execution_count": 13
        }
      ]
    },
    {
      "cell_type": "code",
      "source": [
        "a"
      ],
      "metadata": {
        "colab": {
          "base_uri": "https://localhost:8080/"
        },
        "id": "pPJmlMbLXBrm",
        "outputId": "7e210ea6-8241-49cc-9e5f-78a5fd6c9e35"
      },
      "execution_count": 14,
      "outputs": [
        {
          "output_type": "execute_result",
          "data": {
            "text/plain": [
              "array([13, 99, 94, 95, 76, 90, 98, 92, 62, 39, 68, 99, 38, 78, 51, 73, 17,\n",
              "       48,  1, 25, 30, 34, 29, 46, 60])"
            ]
          },
          "metadata": {},
          "execution_count": 14
        }
      ]
    },
    {
      "cell_type": "code",
      "source": [
        "np.percentile(a,75)"
      ],
      "metadata": {
        "colab": {
          "base_uri": "https://localhost:8080/"
        },
        "id": "xlVwKFwNSXjw",
        "outputId": "f9422072-b2bd-42dc-e1b7-842a25c660c3"
      },
      "execution_count": 18,
      "outputs": [
        {
          "output_type": "execute_result",
          "data": {
            "text/plain": [
              "90.0"
            ]
          },
          "metadata": {},
          "execution_count": 18
        }
      ]
    },
    {
      "cell_type": "code",
      "source": [
        "a"
      ],
      "metadata": {
        "colab": {
          "base_uri": "https://localhost:8080/"
        },
        "id": "EnC_lrwHSfQg",
        "outputId": "ffeef47c-d744-4743-f3ae-223bd38ae0fa"
      },
      "execution_count": 19,
      "outputs": [
        {
          "output_type": "execute_result",
          "data": {
            "text/plain": [
              "array([13, 99, 94, 95, 76, 90, 98, 92, 62, 39, 68, 99, 38, 78, 51, 73, 17,\n",
              "       48,  1, 25, 30, 34, 29, 46, 60])"
            ]
          },
          "metadata": {},
          "execution_count": 19
        }
      ]
    },
    {
      "cell_type": "code",
      "source": [
        "np.histogram(a,bins=[0,10,20,30,40])"
      ],
      "metadata": {
        "colab": {
          "base_uri": "https://localhost:8080/"
        },
        "id": "dD0zUBYBTU5K",
        "outputId": "15a5e658-a22b-41c8-c51c-510c3ab2e8e9"
      },
      "execution_count": 20,
      "outputs": [
        {
          "output_type": "execute_result",
          "data": {
            "text/plain": [
              "(array([1, 2, 2, 4]), array([ 0, 10, 20, 30, 40]))"
            ]
          },
          "metadata": {},
          "execution_count": 20
        }
      ]
    },
    {
      "cell_type": "code",
      "source": [
        "salary=np.array([2000,3000,4000,5000])\n",
        "experience=np.array([1,2,3,4])\n",
        "np.corrcoef(salary,experience)"
      ],
      "metadata": {
        "colab": {
          "base_uri": "https://localhost:8080/"
        },
        "id": "grTsr7qXTqbA",
        "outputId": "d010cd9a-1f08-4e54-c249-02c6543ad4c8"
      },
      "execution_count": 21,
      "outputs": [
        {
          "output_type": "execute_result",
          "data": {
            "text/plain": [
              "array([[1., 1.],\n",
              "       [1., 1.]])"
            ]
          },
          "metadata": {},
          "execution_count": 21
        }
      ]
    },
    {
      "cell_type": "code",
      "source": [
        "a"
      ],
      "metadata": {
        "colab": {
          "base_uri": "https://localhost:8080/"
        },
        "id": "nOClN_WKUuz4",
        "outputId": "6e7ad693-94e3-474d-d1ce-0348eb7e287a"
      },
      "execution_count": 22,
      "outputs": [
        {
          "output_type": "execute_result",
          "data": {
            "text/plain": [
              "array([13, 99, 94, 95, 76, 90, 98, 92, 62, 39, 68, 99, 38, 78, 51, 73, 17,\n",
              "       48,  1, 25, 30, 34, 29, 46, 60])"
            ]
          },
          "metadata": {},
          "execution_count": 22
        }
      ]
    },
    {
      "cell_type": "code",
      "source": [],
      "metadata": {
        "id": "4xhh7B23W_vc"
      },
      "execution_count": 25,
      "outputs": []
    },
    {
      "cell_type": "code",
      "source": [
        "items=[10,20,30,40,50,60,70,90,100]\n",
        "a[np.isin(a,items)]"
      ],
      "metadata": {
        "colab": {
          "base_uri": "https://localhost:8080/"
        },
        "id": "_xky_pRNVfoI",
        "outputId": "5c71e716-447c-44db-c27c-5cfd922ff799"
      },
      "execution_count": 25,
      "outputs": [
        {
          "output_type": "execute_result",
          "data": {
            "text/plain": [
              "array([90, 30, 60])"
            ]
          },
          "metadata": {},
          "execution_count": 24
        },
        {
          "output_type": "execute_result",
          "data": {
            "text/plain": [
              "array([90, 30, 60])"
            ]
          },
          "metadata": {},
          "execution_count": 25
        }
      ]
    },
    {
      "cell_type": "code",
      "source": [
        "a"
      ],
      "metadata": {
        "colab": {
          "base_uri": "https://localhost:8080/"
        },
        "id": "7pcIRUITWk4q",
        "outputId": "ea16ef77-c3ef-4d52-9358-ab358c58141e"
      },
      "execution_count": 26,
      "outputs": [
        {
          "output_type": "execute_result",
          "data": {
            "text/plain": [
              "array([13, 99, 94, 95, 76, 90, 98, 92, 62, 39, 68, 99, 38, 78, 51, 73, 17,\n",
              "       48,  1, 25, 30, 34, 29, 46, 60])"
            ]
          },
          "metadata": {},
          "execution_count": 26
        }
      ]
    },
    {
      "cell_type": "code",
      "source": [
        "np.flip(a)"
      ],
      "metadata": {
        "id": "j2XMUt49XBy_",
        "outputId": "c37d3323-6ccd-4082-bd2c-49658b818536",
        "colab": {
          "base_uri": "https://localhost:8080/"
        }
      },
      "execution_count": 27,
      "outputs": [
        {
          "output_type": "execute_result",
          "data": {
            "text/plain": [
              "array([60, 46, 29, 34, 30, 25,  1, 48, 17, 73, 51, 78, 38, 99, 68, 39, 62,\n",
              "       92, 98, 90, 76, 95, 94, 99, 13])"
            ]
          },
          "metadata": {},
          "execution_count": 27
        }
      ]
    },
    {
      "cell_type": "code",
      "source": [
        "b"
      ],
      "metadata": {
        "id": "BSyYnK9uXHkp",
        "outputId": "d5e1d9e7-1e65-4d5d-d195-3d9c87e2f2e4",
        "colab": {
          "base_uri": "https://localhost:8080/"
        }
      },
      "execution_count": 28,
      "outputs": [
        {
          "output_type": "execute_result",
          "data": {
            "text/plain": [
              "array([[67, 74, 76, 94, 63],\n",
              "       [97, 78, 72, 17, 20],\n",
              "       [96, 78, 42, 69, 92],\n",
              "       [72, 56, 35,  4, 34],\n",
              "       [19, 80, 12,  6, 41]])"
            ]
          },
          "metadata": {},
          "execution_count": 28
        }
      ]
    },
    {
      "cell_type": "code",
      "source": [
        "np.flip(b)"
      ],
      "metadata": {
        "id": "yNWDslxWXLHi",
        "outputId": "a342b243-4e32-4c98-9513-0c84e3d64cc3",
        "colab": {
          "base_uri": "https://localhost:8080/"
        }
      },
      "execution_count": 33,
      "outputs": [
        {
          "output_type": "execute_result",
          "data": {
            "text/plain": [
              "array([[41,  6, 12, 80, 19],\n",
              "       [34,  4, 35, 56, 72],\n",
              "       [92, 69, 42, 78, 96],\n",
              "       [20, 17, 72, 78, 97],\n",
              "       [63, 94, 76, 74, 67]])"
            ]
          },
          "metadata": {},
          "execution_count": 33
        }
      ]
    },
    {
      "cell_type": "code",
      "source": [
        " a"
      ],
      "metadata": {
        "id": "beYduIqpXVrr",
        "outputId": "544119f2-b396-43f1-d7fc-3eb3beca6e9e",
        "colab": {
          "base_uri": "https://localhost:8080/"
        }
      },
      "execution_count": 36,
      "outputs": [
        {
          "output_type": "execute_result",
          "data": {
            "text/plain": [
              "array([100, 200,  94, 300,  76,  90,  98,  92,  62,  39,  68,  99,  38,\n",
              "        78,  51,  73,  17,  48,   1,  25,  30,  34,  29,  46,  60])"
            ]
          },
          "metadata": {},
          "execution_count": 36
        }
      ]
    },
    {
      "cell_type": "code",
      "source": [
        "np.put(a,[0,1,3],[100,200,300])"
      ],
      "metadata": {
        "id": "SumMmD6RYPzR"
      },
      "execution_count": 35,
      "outputs": []
    },
    {
      "cell_type": "code",
      "source": [
        "np.delete(a,[0,2,3,4])"
      ],
      "metadata": {
        "id": "7sznK_2ZYZlS",
        "outputId": "a7fe8a09-a81f-4ed6-f085-3e2f15a3c8f6",
        "colab": {
          "base_uri": "https://localhost:8080/"
        }
      },
      "execution_count": 38,
      "outputs": [
        {
          "output_type": "execute_result",
          "data": {
            "text/plain": [
              "array([200,  90,  98,  92,  62,  39,  68,  99,  38,  78,  51,  73,  17,\n",
              "        48,   1,  25,  30,  34,  29,  46,  60])"
            ]
          },
          "metadata": {},
          "execution_count": 38
        }
      ]
    },
    {
      "cell_type": "code",
      "source": [
        "m=np.array([0,1,2,3,4,5])\n",
        "n=np.array([5,6,7,8,9])\n",
        "np.union1d(m,n)"
      ],
      "metadata": {
        "id": "IB_-flYAY0Zj",
        "outputId": "07b4602a-7ba9-47f9-9779-cf111dfdc233",
        "colab": {
          "base_uri": "https://localhost:8080/"
        }
      },
      "execution_count": 40,
      "outputs": [
        {
          "output_type": "execute_result",
          "data": {
            "text/plain": [
              "array([0, 1, 2, 3, 4, 5, 6, 7, 8, 9])"
            ]
          },
          "metadata": {},
          "execution_count": 40
        }
      ]
    },
    {
      "cell_type": "code",
      "source": [
        "np.intersect1d(m,n)"
      ],
      "metadata": {
        "id": "z7r8Q5XAZcsh",
        "outputId": "1aead482-99fa-465b-9521-0056d30f4b1b",
        "colab": {
          "base_uri": "https://localhost:8080/"
        }
      },
      "execution_count": 44,
      "outputs": [
        {
          "output_type": "execute_result",
          "data": {
            "text/plain": [
              "array([5])"
            ]
          },
          "metadata": {},
          "execution_count": 44
        }
      ]
    },
    {
      "cell_type": "code",
      "source": [
        "np.setxor1d(m,n)"
      ],
      "metadata": {
        "id": "efnwvRggZumA",
        "outputId": "13ff5ee0-2a20-4988-a26a-487b6aeafb23",
        "colab": {
          "base_uri": "https://localhost:8080/"
        }
      },
      "execution_count": 45,
      "outputs": [
        {
          "output_type": "execute_result",
          "data": {
            "text/plain": [
              "array([0, 1, 2, 3, 4, 6, 7, 8, 9])"
            ]
          },
          "metadata": {},
          "execution_count": 45
        }
      ]
    },
    {
      "cell_type": "code",
      "source": [
        "m[np.in1d(m,5)]"
      ],
      "metadata": {
        "id": "9V_RtDOTamYB",
        "outputId": "fa37e6a8-a0d2-49d1-bfb0-1f0814a55a4b",
        "colab": {
          "base_uri": "https://localhost:8080/"
        }
      },
      "execution_count": 47,
      "outputs": [
        {
          "output_type": "execute_result",
          "data": {
            "text/plain": [
              "array([5])"
            ]
          },
          "metadata": {},
          "execution_count": 47
        }
      ]
    },
    {
      "cell_type": "code",
      "source": [
        "a"
      ],
      "metadata": {
        "id": "6OKZF3vGavUH",
        "outputId": "830a4043-a3ca-4a88-a52b-33ca1988f548",
        "colab": {
          "base_uri": "https://localhost:8080/"
        }
      },
      "execution_count": 48,
      "outputs": [
        {
          "output_type": "execute_result",
          "data": {
            "text/plain": [
              "array([100, 200,  94, 300,  76,  90,  98,  92,  62,  39,  68,  99,  38,\n",
              "        78,  51,  73,  17,  48,   1,  25,  30,  34,  29,  46,  60])"
            ]
          },
          "metadata": {},
          "execution_count": 48
        }
      ]
    },
    {
      "cell_type": "code",
      "source": [
        "np.clip(a,a_min=25,a_max=75)"
      ],
      "metadata": {
        "id": "QspR0Glga9xc",
        "outputId": "594cffc1-d213-4d48-d7fd-abf6c0f6be4b",
        "colab": {
          "base_uri": "https://localhost:8080/"
        }
      },
      "execution_count": 49,
      "outputs": [
        {
          "output_type": "execute_result",
          "data": {
            "text/plain": [
              "array([75, 75, 75, 75, 75, 75, 75, 75, 62, 39, 68, 75, 38, 75, 51, 73, 25,\n",
              "       48, 25, 25, 30, 34, 29, 46, 60])"
            ]
          },
          "metadata": {},
          "execution_count": 49
        }
      ]
    },
    {
      "cell_type": "code",
      "source": [],
      "metadata": {
        "id": "-tra7ZA_bT6D"
      },
      "execution_count": null,
      "outputs": []
    }
  ]
}