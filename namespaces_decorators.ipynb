{
  "nbformat": 4,
  "nbformat_minor": 0,
  "metadata": {
    "colab": {
      "provenance": [],
      "authorship_tag": "ABX9TyP5zjTy3KEvPI9wjrFPG0/6",
      "include_colab_link": true
    },
    "kernelspec": {
      "name": "python3",
      "display_name": "Python 3"
    },
    "language_info": {
      "name": "python"
    }
  },
  "cells": [
    {
      "cell_type": "markdown",
      "metadata": {
        "id": "view-in-github",
        "colab_type": "text"
      },
      "source": [
        "<a href=\"https://colab.research.google.com/github/Harsh-Vardhan-Sinngh/CampusX/blob/main/namespaces_decorators.ipynb\" target=\"_parent\"><img src=\"https://colab.research.google.com/assets/colab-badge.svg\" alt=\"Open In Colab\"/></a>"
      ]
    },
    {
      "cell_type": "code",
      "execution_count": 3,
      "metadata": {
        "colab": {
          "base_uri": "https://localhost:8080/",
          "height": 216
        },
        "id": "P2bWXJcInj7G",
        "outputId": "8e7d2397-2e69-487c-d0b5-59cee1e5e3d3"
      },
      "outputs": [
        {
          "output_type": "error",
          "ename": "TypeError",
          "evalue": "max() takes 0 positional arguments but 1 was given",
          "traceback": [
            "\u001b[0;31m---------------------------------------------------------------------------\u001b[0m",
            "\u001b[0;31mTypeError\u001b[0m                                 Traceback (most recent call last)",
            "\u001b[0;32m<ipython-input-3-0ad54620edc1>\u001b[0m in \u001b[0;36m<cell line: 2>\u001b[0;34m()\u001b[0m\n\u001b[1;32m      1\u001b[0m \u001b[0ml\u001b[0m\u001b[0;34m=\u001b[0m\u001b[0;34m[\u001b[0m\u001b[0;36m1\u001b[0m\u001b[0;34m,\u001b[0m\u001b[0;36m2\u001b[0m\u001b[0;34m,\u001b[0m\u001b[0;36m3\u001b[0m\u001b[0;34m]\u001b[0m\u001b[0;34m\u001b[0m\u001b[0;34m\u001b[0m\u001b[0m\n\u001b[0;32m----> 2\u001b[0;31m \u001b[0mj\u001b[0m\u001b[0;34m=\u001b[0m\u001b[0mmax\u001b[0m\u001b[0;34m(\u001b[0m\u001b[0ml\u001b[0m\u001b[0;34m)\u001b[0m\u001b[0;34m\u001b[0m\u001b[0;34m\u001b[0m\u001b[0m\n\u001b[0m\u001b[1;32m      3\u001b[0m \u001b[0mprint\u001b[0m\u001b[0;34m(\u001b[0m\u001b[0mj\u001b[0m\u001b[0;34m)\u001b[0m\u001b[0;34m\u001b[0m\u001b[0;34m\u001b[0m\u001b[0m\n\u001b[1;32m      4\u001b[0m \u001b[0;34m\u001b[0m\u001b[0m\n\u001b[1;32m      5\u001b[0m \u001b[0;32mdef\u001b[0m \u001b[0mmax\u001b[0m\u001b[0;34m(\u001b[0m\u001b[0;34m)\u001b[0m\u001b[0;34m:\u001b[0m\u001b[0;34m\u001b[0m\u001b[0;34m\u001b[0m\u001b[0m\n",
            "\u001b[0;31mTypeError\u001b[0m: max() takes 0 positional arguments but 1 was given"
          ]
        }
      ],
      "source": [
        "l=[1,2,3]\n",
        "j=max(l)\n",
        "print(j)\n",
        "\n",
        "def max():\n",
        "  print(\"hello\")\n",
        "\n",
        "max(l)\n"
      ]
    },
    {
      "cell_type": "code",
      "source": [],
      "metadata": {
        "id": "0KHtbAaS3Zcs"
      },
      "execution_count": null,
      "outputs": []
    },
    {
      "cell_type": "code",
      "source": [
        "# Encloser scope\n",
        "def outer():\n",
        "  a=3 # this is encloser scope\n",
        "  def inner():\n",
        "    a=2 # this is local scope\n",
        "    print(a)\n",
        "    print(\"inside inner function\")\n",
        "  inner()\n",
        "  print(\"inside outer function\")\n",
        "a=1 # this is global scope\n",
        "outer()\n",
        "print(\" inside main function\")"
      ],
      "metadata": {
        "colab": {
          "base_uri": "https://localhost:8080/"
        },
        "id": "_Llc9pqt2t8K",
        "outputId": "9d12cfa1-ccf9-4d0a-cf95-3fc89b3e4817"
      },
      "execution_count": 10,
      "outputs": [
        {
          "output_type": "stream",
          "name": "stdout",
          "text": [
            "2\n",
            "inside inner function\n",
            "inside outer function\n",
            " inside main function\n"
          ]
        }
      ]
    },
    {
      "cell_type": "code",
      "source": [
        "# nonlocal keyword\n",
        "def outer():\n",
        "  a=3 # this is encloser scope\n",
        "  def inner():\n",
        "    nonlocal a\n",
        "    a+=1 # this is local scope\n",
        "    print(a)\n",
        "    print(\"inside inner function\")\n",
        "  inner()\n",
        "  print(\"inside outer function\")\n",
        "a=1 # this is global scope\n",
        "outer()\n",
        "print(\" inside main function\")"
      ],
      "metadata": {
        "colab": {
          "base_uri": "https://localhost:8080/"
        },
        "id": "JVnF1iCu5_Vq",
        "outputId": "1e373a0f-41c7-4009-97aa-daa2cffad99a"
      },
      "execution_count": 13,
      "outputs": [
        {
          "output_type": "stream",
          "name": "stdout",
          "text": [
            "4\n",
            "inside inner function\n",
            "inside outer function\n",
            " inside main function\n"
          ]
        }
      ]
    },
    {
      "cell_type": "markdown",
      "source": [
        "Decorater"
      ],
      "metadata": {
        "id": "A2IO0keO86fs"
      }
    },
    {
      "cell_type": "code",
      "source": [
        "# python are first class citizion\n",
        "def func():\n",
        "  print(\"hello\")\n",
        "\n",
        "a=func\n",
        "a()"
      ],
      "metadata": {
        "colab": {
          "base_uri": "https://localhost:8080/"
        },
        "id": "vlI2N9Oz83yz",
        "outputId": "c411032c-9591-41b1-f96e-d4b244183803"
      },
      "execution_count": 14,
      "outputs": [
        {
          "output_type": "stream",
          "name": "stdout",
          "text": [
            "hello\n"
          ]
        }
      ]
    },
    {
      "cell_type": "code",
      "source": [
        "def func():\n",
        "  print(\"hello\")\n",
        "\n",
        "del func\n",
        "func()"
      ],
      "metadata": {
        "colab": {
          "base_uri": "https://localhost:8080/",
          "height": 180
        },
        "id": "b4KinswD9V0t",
        "outputId": "88b92799-9b41-4a39-831f-40c9037fcd10"
      },
      "execution_count": 17,
      "outputs": [
        {
          "output_type": "error",
          "ename": "NameError",
          "evalue": "name 'func' is not defined",
          "traceback": [
            "\u001b[0;31m---------------------------------------------------------------------------\u001b[0m",
            "\u001b[0;31mNameError\u001b[0m                                 Traceback (most recent call last)",
            "\u001b[0;32m<ipython-input-17-facb6eba254a>\u001b[0m in \u001b[0;36m<cell line: 5>\u001b[0;34m()\u001b[0m\n\u001b[1;32m      3\u001b[0m \u001b[0;34m\u001b[0m\u001b[0m\n\u001b[1;32m      4\u001b[0m \u001b[0;32mdel\u001b[0m \u001b[0mfunc\u001b[0m\u001b[0;34m\u001b[0m\u001b[0;34m\u001b[0m\u001b[0m\n\u001b[0;32m----> 5\u001b[0;31m \u001b[0mfunc\u001b[0m\u001b[0;34m(\u001b[0m\u001b[0;34m)\u001b[0m\u001b[0;34m\u001b[0m\u001b[0;34m\u001b[0m\u001b[0m\n\u001b[0m",
            "\u001b[0;31mNameError\u001b[0m: name 'func' is not defined"
          ]
        }
      ]
    },
    {
      "cell_type": "code",
      "source": [
        "def modify(func,num):\n",
        "  return  func(num)\n",
        "\n",
        "def squar(num):\n",
        "  return num**2\n",
        "\n",
        "modify(squar,5)"
      ],
      "metadata": {
        "colab": {
          "base_uri": "https://localhost:8080/"
        },
        "id": "hhySmVeDH8xY",
        "outputId": "0963cc66-75c1-4887-c962-d944b06d972c"
      },
      "execution_count": 18,
      "outputs": [
        {
          "output_type": "execute_result",
          "data": {
            "text/plain": [
              "25"
            ]
          },
          "metadata": {},
          "execution_count": 18
        }
      ]
    },
    {
      "cell_type": "code",
      "source": [
        "def my_decorater(func):\n",
        "  def wraper():\n",
        "    print(\"*************\")\n",
        "    func()\n",
        "    print(\"**************\")\n",
        "  return wraper\n",
        "\n",
        "def mod():\n",
        "  print(\"hello\")\n",
        "  return\n",
        "\n",
        "def display():\n",
        "  print(\"my name is harsh\")\n",
        "  return\n",
        "\n",
        "\n",
        "a=my_decorater(mod)\n",
        "a()\n",
        "\n",
        "b=my_decorater(display)\n",
        "b()"
      ],
      "metadata": {
        "colab": {
          "base_uri": "https://localhost:8080/"
        },
        "id": "Se0rzHn86Hye",
        "outputId": "f153d34b-1c84-4166-9436-5e77dc4f89a6"
      },
      "execution_count": 28,
      "outputs": [
        {
          "output_type": "stream",
          "name": "stdout",
          "text": [
            "*************\n",
            "hello\n",
            "**************\n",
            "*************\n",
            "my name is harsh\n",
            "**************\n"
          ]
        }
      ]
    },
    {
      "cell_type": "code",
      "source": [
        "def my_decorater(func):\n",
        "  def wraper():\n",
        "    print(\"*************\")\n",
        "\n",
        "    print(\"**************\")\n",
        "  return wraper\n",
        "\n",
        "def mod():\n",
        "  print(\"hello\")\n",
        "  return\n",
        "\n",
        "def display():\n",
        "  print(\"my name is harsh\")\n",
        "  return\n",
        "\n",
        "\n",
        "a=my_decorater(mod)\n",
        "a()\n",
        "\n"
      ],
      "metadata": {
        "colab": {
          "base_uri": "https://localhost:8080/"
        },
        "id": "VM9Tvw7vPJQb",
        "outputId": "a3a88cbc-e116-4eba-e105-7076ce16b17f"
      },
      "execution_count": 30,
      "outputs": [
        {
          "output_type": "stream",
          "name": "stdout",
          "text": [
            "*************\n",
            "**************\n"
          ]
        }
      ]
    },
    {
      "cell_type": "code",
      "source": [
        "def my_decorater(func):\n",
        "  def wraper():\n",
        "    print(\"*************\")\n",
        "    func()\n",
        "    print(\"**************\")\n",
        "  return wraper\n",
        "\n",
        "@my_decorater\n",
        "def mod():\n",
        "  print(\"hello\")\n",
        "  return\n",
        "\n",
        "def display():\n",
        "  print(\"my name is harsh\")\n",
        "  return\n",
        "\n",
        "mod()\n"
      ],
      "metadata": {
        "colab": {
          "base_uri": "https://localhost:8080/"
        },
        "id": "2JCJmh-YP_nu",
        "outputId": "41ec5da0-345c-4dc5-e12d-b1665c4804a5"
      },
      "execution_count": 33,
      "outputs": [
        {
          "output_type": "stream",
          "name": "stdout",
          "text": [
            "*************\n",
            "hello\n",
            "**************\n"
          ]
        }
      ]
    },
    {
      "cell_type": "code",
      "source": [
        "import time\n",
        "def timer(func):\n",
        "  def wrapper():\n",
        "    start=time.time()\n",
        "    func()\n",
        "    print(\"the time taken by\",func.__name__,time.time()-start,\"sec\")\n",
        "  return wrapper\n",
        "\n",
        "@timer\n",
        "def hello():\n",
        "  print('hello word')\n",
        "  time.sleep(10)\n",
        "\n",
        "@timer\n",
        "def display():\n",
        "  print(\" display something\")\n",
        "  time.sleep(2)\n",
        "\n",
        "hello()\n",
        "display()"
      ],
      "metadata": {
        "colab": {
          "base_uri": "https://localhost:8080/"
        },
        "id": "Th9m3OUqSJwy",
        "outputId": "1ec72402-fa9f-4e0e-bb3f-1b57946e7780"
      },
      "execution_count": 36,
      "outputs": [
        {
          "output_type": "stream",
          "name": "stdout",
          "text": [
            "hello word\n",
            "the time taken by hello 10.012214422225952 sec\n",
            " display something\n",
            "the time taken by display 2.0020315647125244 sec\n"
          ]
        }
      ]
    },
    {
      "cell_type": "code",
      "source": [
        "import time\n",
        "def timer(func):\n",
        "  def wrapper(*arge):\n",
        "    start=time.time()\n",
        "    func(*arge)\n",
        "    print(\"the time taken by\",func.__name__,time.time()-start,\"sec\")\n",
        "  return wrapper\n",
        "\n",
        "#\n",
        "# def hello():\n",
        "#   print('hello word')\n",
        "#   time.sleep(10)\n",
        "\n",
        "#\n",
        "# def display():\n",
        "#   print(\" display something\")\n",
        "#   time.sleep(2)\n",
        "\n",
        "@timer\n",
        "def squar(num):\n",
        "  time.sleep(2)\n",
        "  return num**2\n",
        "#hello()\n",
        "squar(2)\n",
        "#display()"
      ],
      "metadata": {
        "colab": {
          "base_uri": "https://localhost:8080/"
        },
        "id": "MOC8wXUGUjyB",
        "outputId": "277da8b7-461a-4463-e761-31952d1d905c"
      },
      "execution_count": 1,
      "outputs": [
        {
          "output_type": "stream",
          "name": "stdout",
          "text": [
            "the time taken by squar 2.001751661300659 sec\n"
          ]
        }
      ]
    },
    {
      "cell_type": "code",
      "source": [
        "def sanity_check(data_type):\n",
        "  def outer_wrapper(func):\n",
        "    def inner_wrapper(*arge):\n",
        "      if type(*arge)==data_type:\n",
        "         func(*arge)\n",
        "      else:\n",
        "        raise TypeError(\"ye nahi chalega bhai\")\n",
        "    return inner_wrapper\n",
        "  return outer_wrapper\n",
        "\n",
        "\n",
        "@sanity_check(int)\n",
        "def square(num):\n",
        "   print(num**2)\n",
        "\n",
        "square(25)\n"
      ],
      "metadata": {
        "colab": {
          "base_uri": "https://localhost:8080/"
        },
        "id": "SDunbTGk31kg",
        "outputId": "e8888882-74fa-4ec0-b23e-76c6ec7daacd"
      },
      "execution_count": 11,
      "outputs": [
        {
          "output_type": "stream",
          "name": "stdout",
          "text": [
            "625\n"
          ]
        }
      ]
    }
  ]
}